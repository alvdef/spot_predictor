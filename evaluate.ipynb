{
 "cells": [
  {
   "cell_type": "code",
   "execution_count": 7,
   "metadata": {},
   "outputs": [],
   "source": [
    "import pandas as pd\n",
    "\n",
    "from model import SpotLSTM, Evaluate, CheckpointTracker\n",
    "from dataset import LoadSpotDataset"
   ]
  },
  {
   "cell_type": "markdown",
   "metadata": {},
   "source": [
    "# Load data"
   ]
  },
  {
   "cell_type": "code",
   "execution_count": 8,
   "metadata": {},
   "outputs": [
    {
     "name": "stdout",
     "output_type": "stream",
     "text": [
      "Processing 1378 series.\n"
     ]
    }
   ],
   "source": [
    "prices_df = pd.read_pickle('data/prices_df.pkl')\n",
    "instance_info_df = pd.read_pickle('data/instance_info_df.pkl')\n",
    "\n",
    "compute_instances = instance_info_df[(instance_info_df[\"instance_family\"] == 'c') & (~instance_info_df[\"size\"].str.contains('metal'))].index\n",
    "prices_df = prices_df[prices_df[\"id_instance\"].isin(compute_instances)]\n",
    "# prices_df = prices_df[prices_df[\"id_instance\"] == 48207]\n",
    "\n",
    "num_series = len(prices_df.groupby('id_instance'))\n",
    "print(f\"Processing {num_series} series.\")"
   ]
  },
  {
   "cell_type": "code",
   "execution_count": 9,
   "metadata": {},
   "outputs": [
    {
     "name": "stdout",
     "output_type": "stream",
     "text": [
      "Train DataFrame: Start Date = 2024-04-01 00:00:00+00:00, End Date = 2024-09-21 08:00:00+00:00, Number of Days = 173\n",
      "Test DataFrame: Start Date = 2024-09-21 08:00:00+00:00, End Date = 2024-10-20 00:00:00+00:00, Number of Days = 28\n"
     ]
    }
   ],
   "source": [
    "lsd = LoadSpotDataset('config.yaml', 'data')\n",
    "train_df, _, test_df = lsd.get_training_validation_test_split(prices_df, train_ratio=0.85, val_ratio=0.0)\n",
    "\n",
    "train_start_date = train_df['price_timestamp'].min()\n",
    "train_end_date = train_df['price_timestamp'].max()\n",
    "train_days = (train_end_date - train_start_date).days\n",
    "\n",
    "test_start_date = test_df['price_timestamp'].min()\n",
    "test_end_date = test_df['price_timestamp'].max()\n",
    "test_days = (test_end_date - test_start_date).days\n",
    "\n",
    "print(f\"Train DataFrame: Start Date = {train_start_date}, End Date = {train_end_date}, Number of Days = {train_days}\")\n",
    "print(f\"Test DataFrame: Start Date = {test_start_date}, End Date = {test_end_date}, Number of Days = {test_days}\")"
   ]
  },
  {
   "cell_type": "markdown",
   "metadata": {},
   "source": [
    "# Model Evaluation"
   ]
  },
  {
   "cell_type": "code",
   "execution_count": 10,
   "metadata": {},
   "outputs": [
    {
     "name": "stdout",
     "output_type": "stream",
     "text": [
      "Successfully loaded checkpoint.\n"
     ]
    },
    {
     "name": "stderr",
     "output_type": "stream",
     "text": [
      "/Users/adf/dev/beca/spot_predictor/model/checkpoint_tracker.py:46: FutureWarning: You are using `torch.load` with `weights_only=False` (the current default value), which uses the default pickle module implicitly. It is possible to construct malicious pickle data which will execute arbitrary code during unpickling (See https://github.com/pytorch/pytorch/blob/main/SECURITY.md#untrusted-models for more details). In a future release, the default value for `weights_only` will be flipped to `True`. This limits the functions that could be executed during unpickling. Arbitrary objects will no longer be allowed to be loaded via this mode unless they are explicitly allowlisted by the user via `torch.serialization.add_safe_globals`. We recommend you start setting `weights_only=True` for any use case where you don't have full control of the loaded file. Please open an issue on GitHub for any issues related to this experimental feature.\n",
      "  checkpoint = torch.load(best_file, map_location=self.device)\n"
     ]
    }
   ],
   "source": [
    "model = SpotLSTM('config.yaml')\n",
    "config, loss = CheckpointTracker().load(model)"
   ]
  },
  {
   "cell_type": "code",
   "execution_count": 11,
   "metadata": {},
   "outputs": [
    {
     "name": "stdout",
     "output_type": "stream",
     "text": [
      "\n",
      "Evaluation Configuration:\n",
      "- Sequence length: 28\n",
      "- Prediction length: 80\n",
      "- Total instances: 1378\n"
     ]
    },
    {
     "name": "stderr",
     "output_type": "stream",
     "text": [
      "Evaluating instances: 100%|██████████| 1378/1378 [00:08<00:00, 169.72it/s]"
     ]
    },
    {
     "name": "stdout",
     "output_type": "stream",
     "text": [
      "\n",
      "Completed evaluation of 1378 instances\n"
     ]
    },
    {
     "name": "stderr",
     "output_type": "stream",
     "text": [
      "\n"
     ]
    }
   ],
   "source": [
    "ev = Evaluate(model, 'config.yaml')\n",
    "metrics = ev.evaluate_all(test_df)"
   ]
  },
  {
   "cell_type": "code",
   "execution_count": 13,
   "metadata": {},
   "outputs": [],
   "source": [
    "import os\n",
    "\n",
    "def dump_metrics_to_csv(segmented_metrics, instance_info_df, output_dir):\n",
    "    \"\"\"Dump segmented metrics to a CSV file with instance properties\"\"\"\n",
    "    output_file = os.path.join(output_dir, \"evaluation_metrics.csv\")\n",
    "    \n",
    "    # Flatten the metrics data\n",
    "    rows = []\n",
    "    for instance_id, metrics_list in segmented_metrics.items():\n",
    "        # Get instance properties\n",
    "        instance_props = instance_info_df.loc[instance_id, [\n",
    "            'region', \n",
    "            'av_zone', \n",
    "            'instance_type',\n",
    "            'generation',\n",
    "            'modifiers',\n",
    "            'size'\n",
    "        ]].to_dict()\n",
    "        \n",
    "        for metric in metrics_list:\n",
    "            row = {\n",
    "                \"instance_id\": instance_id,\n",
    "                **instance_props,  # Unpack instance properties\n",
    "                \"n_timestep\": metric[\"n_timestep\"],\n",
    "                \"rmse\": metric[\"rmse\"],\n",
    "                \"mape\": metric[\"mape\"],\n",
    "                \"smape_std\": metric[\"smape_std\"],\n",
    "                \"smape_cv\": metric[\"smape_cv\"],\n",
    "                \"smape\": metric[\"smape\"],\n",
    "                \"direction_accuracy\": metric[\"direction_accuracy\"]\n",
    "            }\n",
    "            rows.append(row)\n",
    "    \n",
    "    # Convert to DataFrame and save to CSV\n",
    "    metrics_df = pd.DataFrame(rows)\n",
    "    column_order = [\n",
    "        \"instance_id\", \n",
    "        \"region\",\n",
    "        \"av_zone\",\n",
    "        \"instance_type\",\n",
    "        \"generation\",\n",
    "        \"modifiers\",\n",
    "        'size',\n",
    "        \"n_timestep\", \n",
    "        \"rmse\", \n",
    "        \"mape\", \n",
    "        \"smape_std\", \n",
    "        \"smape_cv\",        \n",
    "        \"smape\", \n",
    "        \"direction_accuracy\"\n",
    "    ]\n",
    "    metrics_df = metrics_df[column_order]\n",
    "    metrics_df.to_csv(output_file, index=False)\n",
    "    \n",
    "dump_metrics_to_csv(metrics, instance_info_df, 'output')"
   ]
  }
 ],
 "metadata": {
  "kernelspec": {
   "display_name": "base",
   "language": "python",
   "name": "python3"
  },
  "language_info": {
   "codemirror_mode": {
    "name": "ipython",
    "version": 3
   },
   "file_extension": ".py",
   "mimetype": "text/x-python",
   "name": "python",
   "nbconvert_exporter": "python",
   "pygments_lexer": "ipython3",
   "version": "3.10.8"
  }
 },
 "nbformat": 4,
 "nbformat_minor": 2
}
