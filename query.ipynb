{
 "cells": [
  {
   "cell_type": "code",
   "execution_count": 7,
   "metadata": {},
   "outputs": [],
   "source": [
    "import pandas as pd"
   ]
  },
  {
   "cell_type": "markdown",
   "metadata": {},
   "source": [
    "# Load data"
   ]
  },
  {
   "cell_type": "code",
   "execution_count": 8,
   "metadata": {},
   "outputs": [
    {
     "name": "stdout",
     "output_type": "stream",
     "text": [
      "Processing 1378 series.\n"
     ]
    }
   ],
   "source": [
    "prices_df = pd.read_pickle('data/prices_df.pkl')\n",
    "instance_info_df = pd.read_pickle('data/instance_info_df.pkl')\n",
    "\n",
    "compute_instances = instance_info_df[(instance_info_df[\"instance_family\"] == 'c') & (~instance_info_df[\"size\"].str.contains('metal'))].index\n",
    "prices_df = prices_df[prices_df[\"id_instance\"].isin(compute_instances)]\n",
    "instance_info_df = instance_info_df[instance_info_df.index.isin(compute_instances)]\n",
    "\n",
    "num_series = len(prices_df.groupby('id_instance'))\n",
    "print(f\"Processing {num_series} series.\")"
   ]
  },
  {
   "cell_type": "code",
   "execution_count": 9,
   "metadata": {},
   "outputs": [
    {
     "data": {
      "text/plain": [
       "array(['8xlarge', '9xlarge', '2xlarge', '24xlarge', 'large', 'xlarge',\n",
       "       '16xlarge', '4xlarge', '18xlarge', '32xlarge', '12xlarge',\n",
       "       'medium', '48xlarge'], dtype=object)"
      ]
     },
     "execution_count": 9,
     "metadata": {},
     "output_type": "execute_result"
    }
   ],
   "source": [
    "instance_info_df['size'].unique()"
   ]
  },
  {
   "cell_type": "code",
   "execution_count": 11,
   "metadata": {},
   "outputs": [
    {
     "name": "stdout",
     "output_type": "stream",
     "text": [
      "size\n",
      "medium       53\n",
      "large       177\n",
      "xlarge      185\n",
      "2xlarge     177\n",
      "4xlarge     177\n",
      "8xlarge     147\n",
      "9xlarge      30\n",
      "12xlarge    133\n",
      "16xlarge    115\n",
      "18xlarge     30\n",
      "24xlarge    103\n",
      "32xlarge     50\n",
      "48xlarge     35\n",
      "dtype: int64\n"
     ]
    }
   ],
   "source": [
    "SIZE_ORDER = {\n",
    "    'nano': 1, 'micro': 2, 'small': 3, 'medium': 4, 'large': 5,\n",
    "    'xlarge': 6, '2xlarge': 7, '3xlarge': 8, '4xlarge': 9,\n",
    "    '6xlarge': 10, '8xlarge': 11, '9xlarge': 12, '10xlarge': 13,\n",
    "    '12xlarge': 14, '16xlarge': 15, '18xlarge': 16, '24xlarge': 17,\n",
    "    '32xlarge': 18, '48xlarge': 19, 'metal': 20, 'metal-16xl': 21,\n",
    "    'metal-24xl': 22, 'metal-32xl': 23, 'metal-48xl': 24\n",
    "}\n",
    "\n",
    "sorted_sizes = sorted(instance_info_df['size'].unique(), key=lambda x: SIZE_ORDER.get(x, 999))\n",
    "\n",
    "size_grouped = instance_info_df.groupby('size').size()\n",
    "size_grouped = size_grouped.reindex(sorted(size_grouped.index, key=lambda x: SIZE_ORDER.get(x, 999)))\n",
    "print(size_grouped)"
   ]
  },
  {
   "cell_type": "code",
   "execution_count": null,
   "metadata": {},
   "outputs": [],
   "source": []
  }
 ],
 "metadata": {
  "kernelspec": {
   "display_name": "base",
   "language": "python",
   "name": "python3"
  },
  "language_info": {
   "codemirror_mode": {
    "name": "ipython",
    "version": 3
   },
   "file_extension": ".py",
   "mimetype": "text/x-python",
   "name": "python",
   "nbconvert_exporter": "python",
   "pygments_lexer": "ipython3",
   "version": "3.10.8"
  }
 },
 "nbformat": 4,
 "nbformat_minor": 2
}
