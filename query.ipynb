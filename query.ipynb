{
 "cells": [
  {
   "cell_type": "code",
   "execution_count": null,
   "metadata": {},
   "outputs": [],
   "source": [
    "import pandas as pd"
   ]
  },
  {
   "cell_type": "markdown",
   "metadata": {},
   "source": [
    "# Load data"
   ]
  },
  {
   "cell_type": "code",
   "execution_count": null,
   "metadata": {},
   "outputs": [],
   "source": [
    "prices_df = pd.read_pickle(\"data/prices_df.pkl\")\n",
    "instance_info_df = pd.read_pickle(\"data/instance_info_df.pkl\")\n",
    "\n",
    "compute_instances = instance_info_df[\n",
    "    (instance_info_df[\"instance_family\"] == \"c\")\n",
    "    & (~instance_info_df[\"size\"].str.contains(\"metal\"))\n",
    "].index\n",
    "prices_df = prices_df[prices_df[\"id_instance\"].isin(compute_instances)]\n",
    "instance_info_df = instance_info_df[instance_info_df.index.isin(compute_instances)]\n",
    "\n",
    "num_series = len(prices_df.groupby(\"id_instance\"))\n",
    "print(f\"Processing {num_series} series.\")"
   ]
  },
  {
   "cell_type": "code",
   "execution_count": null,
   "metadata": {},
   "outputs": [],
   "source": [
    "instance_info_df[\"size\"].unique()"
   ]
  },
  {
   "cell_type": "code",
   "execution_count": null,
   "metadata": {},
   "outputs": [],
   "source": [
    "SIZE_ORDER = {\n",
    "    \"nano\": 1,\n",
    "    \"micro\": 2,\n",
    "    \"small\": 3,\n",
    "    \"medium\": 4,\n",
    "    \"large\": 5,\n",
    "    \"xlarge\": 6,\n",
    "    \"2xlarge\": 7,\n",
    "    \"3xlarge\": 8,\n",
    "    \"4xlarge\": 9,\n",
    "    \"6xlarge\": 10,\n",
    "    \"8xlarge\": 11,\n",
    "    \"9xlarge\": 12,\n",
    "    \"10xlarge\": 13,\n",
    "    \"12xlarge\": 14,\n",
    "    \"16xlarge\": 15,\n",
    "    \"18xlarge\": 16,\n",
    "    \"24xlarge\": 17,\n",
    "    \"32xlarge\": 18,\n",
    "    \"48xlarge\": 19,\n",
    "    \"metal\": 20,\n",
    "    \"metal-16xl\": 21,\n",
    "    \"metal-24xl\": 22,\n",
    "    \"metal-32xl\": 23,\n",
    "    \"metal-48xl\": 24,\n",
    "}\n",
    "\n",
    "sorted_sizes = sorted(\n",
    "    instance_info_df[\"size\"].unique(), key=lambda x: SIZE_ORDER.get(x, 999)\n",
    ")\n",
    "\n",
    "size_grouped = instance_info_df.groupby(\"size\").size()\n",
    "size_grouped = size_grouped.reindex(\n",
    "    sorted(size_grouped.index, key=lambda x: SIZE_ORDER.get(x, 999))\n",
    ")\n",
    "print(size_grouped)"
   ]
  },
  {
   "cell_type": "code",
   "execution_count": null,
   "metadata": {},
   "outputs": [],
   "source": [
    "train_df = pd.read_pickle(\"data/train_df.pkl\")\n",
    "val_df = pd.read_pickle(\"data/val_df.pkl\")\n",
    "test_df = pd.read_pickle(\"data/test_df.pkl\")\n",
    "instance_info_df = pd.read_pickle(\"data/instance_info_df.pkl\")\n",
    "\n",
    "train_df = pd.concat([train_df, val_df], ignore_index=True)\n",
    "\n",
    "print(f\"Number of different id_instances: {test_df['id_instance'].nunique()}\")\n",
    "test_df.info()"
   ]
  }
 ],
 "metadata": {
  "kernelspec": {
   "display_name": "base",
   "language": "python",
   "name": "python3"
  },
  "language_info": {
   "codemirror_mode": {
    "name": "ipython",
    "version": 3
   },
   "file_extension": ".py",
   "mimetype": "text/x-python",
   "name": "python",
   "nbconvert_exporter": "python",
   "pygments_lexer": "ipython3",
   "version": "3.10.8"
  }
 },
 "nbformat": 4,
 "nbformat_minor": 2
}
