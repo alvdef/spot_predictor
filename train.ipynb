{
 "cells": [
  {
   "cell_type": "code",
   "execution_count": null,
   "metadata": {},
   "outputs": [],
   "source": [
    "import pandas as pd\n",
    "import json\n",
    "\n",
    "from model import SpotGRU\n",
    "from procedures import Training\n",
    "from dataset import SpotDataset\n",
    "from utils import ResultPlotter"
   ]
  },
  {
   "cell_type": "markdown",
   "metadata": {},
   "source": [
    "# Data loading"
   ]
  },
  {
   "cell_type": "code",
   "execution_count": null,
   "metadata": {},
   "outputs": [],
   "source": [
    "train_df = pd.read_pickle(\"data/train_df.pkl\")\n",
    "val_df = pd.read_pickle(\"data/val_df.pkl\")\n",
    "test_df = pd.read_pickle(\"data/test_df.pkl\")\n",
    "instance_info_df = pd.read_pickle(\"data/instance_info_df.pkl\")\n",
    "\n",
    "print(f\"Number of different id_instances: {test_df['id_instance'].nunique()}\")\n",
    "test_df.info()"
   ]
  },
  {
   "cell_type": "code",
   "execution_count": null,
   "metadata": {},
   "outputs": [],
   "source": [
    "train_dataset = SpotDataset(train_df, \"config.yaml\")\n",
    "val_dataset = SpotDataset(val_df, \"config.yaml\")"
   ]
  },
  {
   "cell_type": "code",
   "execution_count": null,
   "metadata": {},
   "outputs": [],
   "source": [
    "# # Add this code cell after loading the datasets\n",
    "# from utils.profiler import profile_dataloader, find_optimal_batch_size\n",
    "\n",
    "# model = SpotGRU(\"config.yaml\")\n",
    "\n",
    "# # Profile DataLoader performance\n",
    "# batch_sizes = [32, 64, 128, 256]\n",
    "# num_workers_list = [0, 2, 4, 8]\n",
    "\n",
    "# profiling_results = profile_dataloader(\n",
    "#     train_dataset,\n",
    "#     batch_sizes=batch_sizes,\n",
    "#     num_workers_list=num_workers_list\n",
    "# )\n",
    "\n",
    "# # Print results\n",
    "# for key, metrics in profiling_results.items():\n",
    "#     print(f\"\\n{key}:\")\n",
    "#     print(f\"Average batch time: {metrics['avg_batch_time']:.4f}s\")\n",
    "#     print(f\"Throughput: {metrics['throughput']:.2f} samples/s\")\n",
    "#     print(f\"Memory usage: {metrics['avg_memory_mb']:.2f} MB\")\n",
    "#     print(f\"Device memory: {metrics['avg_device_mb']:.2f} MB\")\n",
    "\n",
    "# # Find optimal batch size\n",
    "# optimal_batch_size = find_optimal_batch_size(\n",
    "#     model=model,\n",
    "#     dataset=train_dataset,\n",
    "#     start_size=32,\n",
    "#     max_size=512,\n",
    "#     target_memory_usage=0.8\n",
    "# )\n",
    "\n",
    "# print(f\"\\nOptimal batch size: {optimal_batch_size}\")"
   ]
  },
  {
   "cell_type": "markdown",
   "metadata": {},
   "source": [
    "# Hyperparameter Tuning"
   ]
  },
  {
   "cell_type": "code",
   "execution_count": null,
   "metadata": {},
   "outputs": [],
   "source": [
    "def lr():\n",
    "    from procedures import find_lr\n",
    "\n",
    "    # Model configuration\n",
    "    model_config = {\n",
    "        \"window_size\": 20,\n",
    "        \"batch_size\": 128,  # Smaller for better generalization\n",
    "        \"shuffle_buffer\": 1000,\n",
    "        \"epochs\": 150,  # More training time\n",
    "        \"steps_per_epoch\": len(train_dataset),\n",
    "        \"init_learning_rate\": 6e-7,\n",
    "        \"final_learning_rate\": 1.2e-6,\n",
    "        \"weight_decay\": 1.5e-5,\n",
    "        \"mse_weight\": 0.8,\n",
    "    }\n",
    "    model = SpotGRU(\"config.yaml\")\n",
    "\n",
    "    log_lrs, losses = find_lr(model, train_loader, model_config)\n",
    "\n",
    "    ResultPlotter().plot_learning_rate_finder(log_lrs, losses)\n",
    "\n",
    "\n",
    "# lr()"
   ]
  },
  {
   "cell_type": "markdown",
   "metadata": {},
   "source": [
    "# Model Training"
   ]
  },
  {
   "cell_type": "code",
   "execution_count": null,
   "metadata": {},
   "outputs": [],
   "source": [
    "model = SpotGRU(\"config.yaml\")\n",
    "\n",
    "modelTraining = Training(model, \"config.yaml\")\n",
    "modelTraining.train_model(train_dataset, val_dataset)"
   ]
  },
  {
   "cell_type": "code",
   "execution_count": null,
   "metadata": {},
   "outputs": [],
   "source": [
    "with open(\"output/training_history.json\", \"r\") as f:\n",
    "    history = json.load(f)\n",
    "\n",
    "ResultPlotter().plot_training_history(history)"
   ]
  }
 ],
 "metadata": {
  "kernelspec": {
   "display_name": "base",
   "language": "python",
   "name": "python3"
  },
  "language_info": {
   "codemirror_mode": {
    "name": "ipython",
    "version": 3
   },
   "file_extension": ".py",
   "mimetype": "text/x-python",
   "name": "python",
   "nbconvert_exporter": "python",
   "pygments_lexer": "ipython3",
   "version": "3.10.8"
  }
 },
 "nbformat": 4,
 "nbformat_minor": 2
}
