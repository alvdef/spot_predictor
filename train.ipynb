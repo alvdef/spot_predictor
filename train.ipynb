{
 "cells": [
  {
   "cell_type": "code",
   "execution_count": null,
   "metadata": {},
   "outputs": [],
   "source": [
    "import pandas as pd\n",
    "import json\n",
    "from datetime import datetime\n",
    "\n",
    "from model import get_model\n",
    "from procedures import Training\n",
    "from dataset import SpotDataset\n",
    "from utils import ResultPlotter, get_name\n",
    "\n",
    "DIR = get_name()"
   ]
  },
  {
   "cell_type": "markdown",
   "metadata": {},
   "source": [
    "# Data loading"
   ]
  },
  {
   "cell_type": "code",
   "execution_count": null,
   "metadata": {},
   "outputs": [],
   "source": [
    "train_df = pd.read_pickle(f\"{DIR}/data/train_df.pkl\")\n",
    "val_df = pd.read_pickle(f\"{DIR}/data/val_df.pkl\")\n",
    "test_df = pd.read_pickle(f\"{DIR}/data/test_df.pkl\")\n",
    "instance_info_df = pd.read_pickle(f\"{DIR}/data/instance_info_df.pkl\")\n",
    "\n",
    "print(f\"Number of different id_instances: {test_df['id_instance'].nunique()}\")\n",
    "test_df.info()"
   ]
  },
  {
   "cell_type": "code",
   "execution_count": null,
   "metadata": {},
   "outputs": [],
   "source": [
    "train_dataset = SpotDataset(train_df, instance_info_df, DIR, training=True)\n",
    "val_dataset = SpotDataset(val_df, instance_info_df, DIR, training=True)"
   ]
  },
  {
   "cell_type": "markdown",
   "metadata": {},
   "source": [
    "# Model Training"
   ]
  },
  {
   "cell_type": "code",
   "execution_count": null,
   "metadata": {},
   "outputs": [],
   "source": [
    "# Pass train_dataset to get_model to automatically derive feature sizes\n",
    "model = get_model(DIR, train_dataset)\n",
    "\n",
    "print(f\"Training started at: {datetime.now()}\")\n",
    "\n",
    "modelTraining = Training(model, DIR)\n",
    "modelTraining.train_model(train_dataset, val_dataset)\n",
    "\n",
    "print(f\"Training endend at: {datetime.now()}\")"
   ]
  },
  {
   "cell_type": "code",
   "execution_count": null,
   "metadata": {},
   "outputs": [],
   "source": [
    "with open(f\"{DIR}/training/training_history.json\", \"r\") as f:\n",
    "    history = json.load(f)\n",
    "\n",
    "ResultPlotter(DIR + \"/training\").plot_training_history(history)"
   ]
  }
 ],
 "metadata": {
  "kernelspec": {
   "display_name": "base",
   "language": "python",
   "name": "python3"
  },
  "language_info": {
   "codemirror_mode": {
    "name": "ipython",
    "version": 3
   },
   "file_extension": ".py",
   "mimetype": "text/x-python",
   "name": "python",
   "nbconvert_exporter": "python",
   "pygments_lexer": "ipython3",
   "version": "3.10.8"
  }
 },
 "nbformat": 4,
 "nbformat_minor": 2
}
