{
 "cells": [
  {
   "cell_type": "code",
   "execution_count": 1,
   "metadata": {},
   "outputs": [
    {
     "name": "stderr",
     "output_type": "stream",
     "text": [
      "/Users/adf/.pyenv/versions/miniforge3-22.9.0-3/lib/python3.10/site-packages/tqdm/auto.py:21: TqdmWarning: IProgress not found. Please update jupyter and ipywidgets. See https://ipywidgets.readthedocs.io/en/stable/user_install.html\n",
      "  from .autonotebook import tqdm as notebook_tqdm\n"
     ]
    }
   ],
   "source": [
    "import matplotlib.pyplot as plt\n",
    "\n",
    "from model import (\n",
    "    SpotBiLSTM,\n",
    "    train_model,\n",
    "    find_lr,\n",
    "    model_forecast,\n",
    ")\n",
    "from load_spot_dataset import LoadSpotDataset\n",
    "from spot_dataset import SpotPriceDataset\n",
    "from utils import plot_series, get_device"
   ]
  },
  {
   "cell_type": "markdown",
   "metadata": {},
   "source": [
    "## Load variables from config file"
   ]
  },
  {
   "cell_type": "markdown",
   "metadata": {},
   "source": [
    "## Load data"
   ]
  },
  {
   "cell_type": "code",
   "execution_count": 2,
   "metadata": {},
   "outputs": [],
   "source": [
    "lsd = LoadSpotDataset(\"config.yaml\", \"data\")\n",
    "\n",
    "prices_df, instance_info_df = lsd.load_data()"
   ]
  },
  {
   "cell_type": "code",
   "execution_count": 3,
   "metadata": {},
   "outputs": [
    {
     "data": {
      "text/html": [
       "<div>\n",
       "<style scoped>\n",
       "    .dataframe tbody tr th:only-of-type {\n",
       "        vertical-align: middle;\n",
       "    }\n",
       "\n",
       "    .dataframe tbody tr th {\n",
       "        vertical-align: top;\n",
       "    }\n",
       "\n",
       "    .dataframe thead th {\n",
       "        text-align: right;\n",
       "    }\n",
       "</style>\n",
       "<table border=\"1\" class=\"dataframe\">\n",
       "  <thead>\n",
       "    <tr style=\"text-align: right;\">\n",
       "      <th></th>\n",
       "      <th>price_timestamp</th>\n",
       "      <th>id_instance</th>\n",
       "      <th>spot_price</th>\n",
       "    </tr>\n",
       "  </thead>\n",
       "  <tbody>\n",
       "    <tr>\n",
       "      <th>0</th>\n",
       "      <td>2023-10-01 00:00:00+00:00</td>\n",
       "      <td>14500</td>\n",
       "      <td>0.2448</td>\n",
       "    </tr>\n",
       "    <tr>\n",
       "      <th>1</th>\n",
       "      <td>2023-10-01 00:00:00+00:00</td>\n",
       "      <td>25861</td>\n",
       "      <td>1.6511</td>\n",
       "    </tr>\n",
       "    <tr>\n",
       "      <th>2</th>\n",
       "      <td>2023-10-01 00:00:00+00:00</td>\n",
       "      <td>47182</td>\n",
       "      <td>0.3681</td>\n",
       "    </tr>\n",
       "    <tr>\n",
       "      <th>3</th>\n",
       "      <td>2023-10-01 00:00:00+00:00</td>\n",
       "      <td>11504</td>\n",
       "      <td>1.2817</td>\n",
       "    </tr>\n",
       "    <tr>\n",
       "      <th>4</th>\n",
       "      <td>2023-10-01 00:00:00+00:00</td>\n",
       "      <td>11923</td>\n",
       "      <td>12.5064</td>\n",
       "    </tr>\n",
       "  </tbody>\n",
       "</table>\n",
       "</div>"
      ],
      "text/plain": [
       "            price_timestamp  id_instance  spot_price\n",
       "0 2023-10-01 00:00:00+00:00        14500      0.2448\n",
       "1 2023-10-01 00:00:00+00:00        25861      1.6511\n",
       "2 2023-10-01 00:00:00+00:00        47182      0.3681\n",
       "3 2023-10-01 00:00:00+00:00        11504      1.2817\n",
       "4 2023-10-01 00:00:00+00:00        11923     12.5064"
      ]
     },
     "execution_count": 3,
     "metadata": {},
     "output_type": "execute_result"
    }
   ],
   "source": [
    "prices_df.head()"
   ]
  },
  {
   "cell_type": "code",
   "execution_count": 4,
   "metadata": {},
   "outputs": [
    {
     "data": {
      "text/html": [
       "<div>\n",
       "<style scoped>\n",
       "    .dataframe tbody tr th:only-of-type {\n",
       "        vertical-align: middle;\n",
       "    }\n",
       "\n",
       "    .dataframe tbody tr th {\n",
       "        vertical-align: top;\n",
       "    }\n",
       "\n",
       "    .dataframe thead th {\n",
       "        text-align: right;\n",
       "    }\n",
       "</style>\n",
       "<table border=\"1\" class=\"dataframe\">\n",
       "  <thead>\n",
       "    <tr style=\"text-align: right;\">\n",
       "      <th></th>\n",
       "      <th>region</th>\n",
       "      <th>av_zone</th>\n",
       "      <th>instance_type</th>\n",
       "      <th>instance_family</th>\n",
       "      <th>generation</th>\n",
       "      <th>modifiers</th>\n",
       "      <th>size</th>\n",
       "      <th>vcpu</th>\n",
       "      <th>memory</th>\n",
       "      <th>architectures</th>\n",
       "      <th>product_description</th>\n",
       "      <th>on_demand_price</th>\n",
       "    </tr>\n",
       "    <tr>\n",
       "      <th>id_instance</th>\n",
       "      <th></th>\n",
       "      <th></th>\n",
       "      <th></th>\n",
       "      <th></th>\n",
       "      <th></th>\n",
       "      <th></th>\n",
       "      <th></th>\n",
       "      <th></th>\n",
       "      <th></th>\n",
       "      <th></th>\n",
       "      <th></th>\n",
       "      <th></th>\n",
       "    </tr>\n",
       "  </thead>\n",
       "  <tbody>\n",
       "    <tr>\n",
       "      <th>24406</th>\n",
       "      <td>eu-central-1</td>\n",
       "      <td>c</td>\n",
       "      <td>m6i.32xlarge</td>\n",
       "      <td>m</td>\n",
       "      <td>6</td>\n",
       "      <td>[i]</td>\n",
       "      <td>32xlarge</td>\n",
       "      <td>128</td>\n",
       "      <td>524288</td>\n",
       "      <td>[x86_64]</td>\n",
       "      <td>Linux/UNIX</td>\n",
       "      <td>7.36000</td>\n",
       "    </tr>\n",
       "    <tr>\n",
       "      <th>38213</th>\n",
       "      <td>eu-central-1</td>\n",
       "      <td>a</td>\n",
       "      <td>m6i.32xlarge</td>\n",
       "      <td>m</td>\n",
       "      <td>6</td>\n",
       "      <td>[i]</td>\n",
       "      <td>32xlarge</td>\n",
       "      <td>128</td>\n",
       "      <td>524288</td>\n",
       "      <td>[x86_64]</td>\n",
       "      <td>Linux/UNIX</td>\n",
       "      <td>7.36000</td>\n",
       "    </tr>\n",
       "    <tr>\n",
       "      <th>26575</th>\n",
       "      <td>eu-central-1</td>\n",
       "      <td>b</td>\n",
       "      <td>m6i.32xlarge</td>\n",
       "      <td>m</td>\n",
       "      <td>6</td>\n",
       "      <td>[i]</td>\n",
       "      <td>32xlarge</td>\n",
       "      <td>128</td>\n",
       "      <td>524288</td>\n",
       "      <td>[x86_64]</td>\n",
       "      <td>Linux/UNIX</td>\n",
       "      <td>7.36000</td>\n",
       "    </tr>\n",
       "    <tr>\n",
       "      <th>28489</th>\n",
       "      <td>eu-central-1</td>\n",
       "      <td>b</td>\n",
       "      <td>r6in.xlarge</td>\n",
       "      <td>r</td>\n",
       "      <td>6</td>\n",
       "      <td>[i, n]</td>\n",
       "      <td>xlarge</td>\n",
       "      <td>4</td>\n",
       "      <td>32768</td>\n",
       "      <td>[x86_64]</td>\n",
       "      <td>Linux/UNIX</td>\n",
       "      <td>0.41652</td>\n",
       "    </tr>\n",
       "    <tr>\n",
       "      <th>18475</th>\n",
       "      <td>eu-central-1</td>\n",
       "      <td>c</td>\n",
       "      <td>r6in.xlarge</td>\n",
       "      <td>r</td>\n",
       "      <td>6</td>\n",
       "      <td>[i, n]</td>\n",
       "      <td>xlarge</td>\n",
       "      <td>4</td>\n",
       "      <td>32768</td>\n",
       "      <td>[x86_64]</td>\n",
       "      <td>Linux/UNIX</td>\n",
       "      <td>0.41652</td>\n",
       "    </tr>\n",
       "  </tbody>\n",
       "</table>\n",
       "</div>"
      ],
      "text/plain": [
       "                   region av_zone instance_type instance_family  generation  \\\n",
       "id_instance                                                                   \n",
       "24406        eu-central-1       c  m6i.32xlarge               m           6   \n",
       "38213        eu-central-1       a  m6i.32xlarge               m           6   \n",
       "26575        eu-central-1       b  m6i.32xlarge               m           6   \n",
       "28489        eu-central-1       b   r6in.xlarge               r           6   \n",
       "18475        eu-central-1       c   r6in.xlarge               r           6   \n",
       "\n",
       "            modifiers      size  vcpu  memory architectures  \\\n",
       "id_instance                                                   \n",
       "24406             [i]  32xlarge   128  524288      [x86_64]   \n",
       "38213             [i]  32xlarge   128  524288      [x86_64]   \n",
       "26575             [i]  32xlarge   128  524288      [x86_64]   \n",
       "28489          [i, n]    xlarge     4   32768      [x86_64]   \n",
       "18475          [i, n]    xlarge     4   32768      [x86_64]   \n",
       "\n",
       "            product_description  on_demand_price  \n",
       "id_instance                                       \n",
       "24406                Linux/UNIX          7.36000  \n",
       "38213                Linux/UNIX          7.36000  \n",
       "26575                Linux/UNIX          7.36000  \n",
       "28489                Linux/UNIX          0.41652  \n",
       "18475                Linux/UNIX          0.41652  "
      ]
     },
     "execution_count": 4,
     "metadata": {},
     "output_type": "execute_result"
    }
   ],
   "source": [
    "instance_info_df.head()"
   ]
  },
  {
   "cell_type": "markdown",
   "metadata": {},
   "source": [
    "# Feature engineering and sequencing"
   ]
  },
  {
   "cell_type": "markdown",
   "metadata": {},
   "source": [
    "## Feature engineering"
   ]
  },
  {
   "cell_type": "markdown",
   "metadata": {},
   "source": [
    "| **Column**                | **Encoding**              | **Notes**                                                                 |\n",
    "|---------------------------|---------------------------|---------------------------------------------------------------------------|\n",
    "| `region_avzone`           | Embedding                 | Combine region and av_zone for better contextual encoding.                |\n",
    "| `product_description`     | One-hot                   | Two values; one-hot is simpler and explicit.                              |\n",
    "| `instance_family`         | Embedding                 | Embed if there are many unique families (x > 10).                         |\n",
    "| `generation`              | Numerical                 | Direct mapping as ordinal (e.g., 6).                                      |\n",
    "| `modifiers`                | Multi-hot encoding        | Each letter represents an independent property.                           |\n",
    "| `size`                    | Numerical                 | Map sizes to integers (e.g., xlarge=1, 2xlarge=2, etc.).                  |\n",
    "| `vcpu`                    | Numerical                 | Include as-is, correlated with performance.                               |\n",
    "| `memory`                  | Numerical                 | Include as-is, correlated with performance.                               |\n",
    "| `architectures`           | One-hot                   | Only two values; one-hot preferred for clarity.                           |\n"
   ]
  },
  {
   "cell_type": "markdown",
   "metadata": {},
   "source": [
    "## Sequencing"
   ]
  },
  {
   "cell_type": "markdown",
   "metadata": {},
   "source": [
    "Divide the training, validation and test dataframes"
   ]
  },
  {
   "cell_type": "code",
   "execution_count": 5,
   "metadata": {},
   "outputs": [
    {
     "data": {
      "image/png": "[encoded data removed]",
      "text/plain": [
       "<Figure size 1000x600 with 1 Axes>"
      ]
     },
     "metadata": {},
     "output_type": "display_data"
    }
   ],
   "source": [
    "one_price_df = prices_df[prices_df[\"id_instance\"] == 28368]\n",
    "time = one_price_df[\"price_timestamp\"].values\n",
    "series = one_price_df[\"spot_price\"].values\n",
    "roof = instance_info_df.loc[28368, \"on_demand_price\"]\n",
    "\n",
    "\n",
    "plot_series(time, series, roof=roof, legend=['28368'])"
   ]
  },
  {
   "cell_type": "markdown",
   "metadata": {},
   "source": [
    "## Hyperparameter Tuning"
   ]
  },
  {
   "cell_type": "code",
   "execution_count": 6,
   "metadata": {},
   "outputs": [],
   "source": [
    "device = get_device()\n",
    "\n",
    "dataset_config = {\n",
    "    \"sequence_length\": 28,\n",
    "    \"window_step\": 4,\n",
    "    \"batch_size\": 32\n",
    "}\n",
    "train_df, val_df, test_df = lsd.get_training_validation_test_split(prices_df)\n",
    "\n",
    "train_dataset = SpotPriceDataset(train_df, dataset_config, device)\n",
    "train_loader = train_dataset.get_data_loader()\n",
    "\n",
    "val_dataset = SpotPriceDataset(val_df, dataset_config, device)\n",
    "val_loader = val_dataset.get_data_loader()"
   ]
  },
  {
   "cell_type": "markdown",
   "metadata": {},
   "source": [
    "### Learning Rate Range Test"
   ]
  },
  {
   "cell_type": "code",
   "execution_count": 7,
   "metadata": {},
   "outputs": [],
   "source": [
    "# # Model configuration\n",
    "# model_config = {\n",
    "#     \"hidden_size\": 32,\n",
    "#     \"n_layers\": 2,\n",
    "#     \"output_scale\": 100.0,\n",
    "#     \"window_size\": 20,\n",
    "#     \"batch_size\": 32,\n",
    "#     \"shuffle_buffer\": 1000,\n",
    "#     \"epochs\": 100\n",
    "# }\n",
    "# model = SpotBiLSTM(model_config, device)\n",
    "\n",
    "\n",
    "# log_lrs, losses = find_lr(model, train_loader, device)\n",
    "\n",
    "# # Plot results\n",
    "# plt.figure(figsize=(10, 6))\n",
    "# plt.grid(True)\n",
    "# plt.semilogx(10**np.array(log_lrs), losses)\n",
    "# plt.tick_params('both', length=10, width=1, which='both')\n",
    "# plt.xlabel('Learning Rate')\n",
    "# plt.ylabel('Loss')\n",
    "# plt.axis([1e-8, 1e-3, 0, 30])\n",
    "# plt.show()"
   ]
  },
  {
   "cell_type": "markdown",
   "metadata": {},
   "source": [
    "### Model Training with Selected Learning Rate"
   ]
  },
  {
   "cell_type": "code",
   "execution_count": null,
   "metadata": {},
   "outputs": [
    {
     "name": "stderr",
     "output_type": "stream",
     "text": [
      "/Users/adf/.pyenv/versions/miniforge3-22.9.0-3/lib/python3.10/site-packages/torch/optim/lr_scheduler.py:62: UserWarning: The verbose parameter is deprecated. Please use get_last_lr() to access the learning rate.\n",
      "  warnings.warn(\n"
     ]
    },
    {
     "name": "stdout",
     "output_type": "stream",
     "text": [
      "\n",
      "================================================================================\n",
      "Training for 100 epochs\n",
      "================================================================================\n",
      "\n"
     ]
    },
    {
     "name": "stderr",
     "output_type": "stream",
     "text": [
      "                                                                               \r"
     ]
    },
    {
     "name": "stdout",
     "output_type": "stream",
     "text": [
      "\u001b[2J\u001b[H\n",
      "================================================================================\n",
      "Training for 100 epochs\n",
      "================================================================================\n",
      "\n",
      "Epoch [1/100] Train Loss: 0.053370 Val Loss: 0.002183 LR: 1.33e-06 │ 0:06:41 < 0:00:00\n"
     ]
    },
    {
     "name": "stderr",
     "output_type": "stream",
     "text": [
      "                                                                               \r"
     ]
    },
    {
     "name": "stdout",
     "output_type": "stream",
     "text": [
      "\u001b[2J\u001b[H\n",
      "================================================================================\n",
      "Training for 100 epochs\n",
      "================================================================================\n",
      "\n",
      "Epoch [1/100] Train Loss: 0.053370 Val Loss: 0.002183 LR: 1.33e-06 │ 0:06:41 < 0:00:00\n",
      "Epoch [2/100] Train Loss: 0.001600 Val Loss: 0.001069 LR: 1.33e-06 │ 0:13:31 < 11:02:32\n"
     ]
    },
    {
     "name": "stderr",
     "output_type": "stream",
     "text": [
      "                                                                               \r"
     ]
    },
    {
     "name": "stdout",
     "output_type": "stream",
     "text": [
      "\u001b[2J\u001b[H\n",
      "================================================================================\n",
      "Training for 100 epochs\n",
      "================================================================================\n",
      "\n",
      "Epoch [1/100] Train Loss: 0.053370 Val Loss: 0.002183 LR: 1.33e-06 │ 0:06:41 < 0:00:00\n",
      "Epoch [2/100] Train Loss: 0.001600 Val Loss: 0.001069 LR: 1.33e-06 │ 0:13:31 < 11:02:32\n",
      "Epoch [3/100] Train Loss: 0.001138 Val Loss: 0.002768 LR: 1.33e-06 │ 0:20:09 < 10:51:44\n"
     ]
    },
    {
     "name": "stderr",
     "output_type": "stream",
     "text": [
      "                                                                               \r"
     ]
    },
    {
     "name": "stdout",
     "output_type": "stream",
     "text": [
      "\u001b[2J\u001b[H\n",
      "================================================================================\n",
      "Training for 100 epochs\n",
      "================================================================================\n",
      "\n",
      "Epoch [1/100] Train Loss: 0.053370 Val Loss: 0.002183 LR: 1.33e-06 │ 0:06:41 < 0:00:00\n",
      "Epoch [2/100] Train Loss: 0.001600 Val Loss: 0.001069 LR: 1.33e-06 │ 0:13:31 < 11:02:32\n",
      "Epoch [3/100] Train Loss: 0.001138 Val Loss: 0.002768 LR: 1.33e-06 │ 0:20:09 < 10:51:44\n",
      "Epoch [4/100] Train Loss: 0.000981 Val Loss: 0.000863 LR: 1.33e-06 │ 0:26:29 < 10:35:45\n"
     ]
    },
    {
     "name": "stderr",
     "output_type": "stream",
     "text": [
      "                                                                               \r"
     ]
    },
    {
     "name": "stdout",
     "output_type": "stream",
     "text": [
      "\u001b[2J\u001b[H\n",
      "================================================================================\n",
      "Training for 100 epochs\n",
      "================================================================================\n",
      "\n",
      "Epoch [1/100] Train Loss: 0.053370 Val Loss: 0.002183 LR: 1.33e-06 │ 0:06:41 < 0:00:00\n",
      "Epoch [2/100] Train Loss: 0.001600 Val Loss: 0.001069 LR: 1.33e-06 │ 0:13:31 < 11:02:32\n",
      "Epoch [3/100] Train Loss: 0.001138 Val Loss: 0.002768 LR: 1.33e-06 │ 0:20:09 < 10:51:44\n",
      "Epoch [4/100] Train Loss: 0.000981 Val Loss: 0.000863 LR: 1.33e-06 │ 0:26:29 < 10:35:45\n",
      "Epoch [5/100] Train Loss: 0.000831 Val Loss: 0.000819 LR: 1.33e-06 │ 0:32:26 < 10:16:15\n"
     ]
    },
    {
     "name": "stderr",
     "output_type": "stream",
     "text": [
      "                                                                               \r"
     ]
    },
    {
     "name": "stdout",
     "output_type": "stream",
     "text": [
      "\u001b[2J\u001b[H\n",
      "================================================================================\n",
      "Training for 100 epochs\n",
      "================================================================================\n",
      "\n",
      "Epoch [1/100] Train Loss: 0.053370 Val Loss: 0.002183 LR: 1.33e-06 │ 0:06:41 < 0:00:00\n",
      "Epoch [2/100] Train Loss: 0.001600 Val Loss: 0.001069 LR: 1.33e-06 │ 0:13:31 < 11:02:32\n",
      "Epoch [3/100] Train Loss: 0.001138 Val Loss: 0.002768 LR: 1.33e-06 │ 0:20:09 < 10:51:44\n",
      "Epoch [4/100] Train Loss: 0.000981 Val Loss: 0.000863 LR: 1.33e-06 │ 0:26:29 < 10:35:45\n",
      "Epoch [5/100] Train Loss: 0.000831 Val Loss: 0.000819 LR: 1.33e-06 │ 0:32:26 < 10:16:15\n",
      "Epoch [6/100] Train Loss: 0.000708 Val Loss: 0.000754 LR: 1.33e-06 │ 0:38:22 < 10:01:16\n"
     ]
    },
    {
     "name": "stderr",
     "output_type": "stream",
     "text": [
      "                                                                               \r"
     ]
    },
    {
     "name": "stdout",
     "output_type": "stream",
     "text": [
      "\u001b[2J\u001b[H\n",
      "================================================================================\n",
      "Training for 100 epochs\n",
      "================================================================================\n",
      "\n",
      "Epoch [1/100] Train Loss: 0.053370 Val Loss: 0.002183 LR: 1.33e-06 │ 0:06:41 < 0:00:00\n",
      "Epoch [2/100] Train Loss: 0.001600 Val Loss: 0.001069 LR: 1.33e-06 │ 0:13:31 < 11:02:32\n",
      "Epoch [3/100] Train Loss: 0.001138 Val Loss: 0.002768 LR: 1.33e-06 │ 0:20:09 < 10:51:44\n",
      "Epoch [4/100] Train Loss: 0.000981 Val Loss: 0.000863 LR: 1.33e-06 │ 0:26:29 < 10:35:45\n",
      "Epoch [5/100] Train Loss: 0.000831 Val Loss: 0.000819 LR: 1.33e-06 │ 0:32:26 < 10:16:15\n",
      "Epoch [6/100] Train Loss: 0.000708 Val Loss: 0.000754 LR: 1.33e-06 │ 0:38:22 < 10:01:16\n",
      "Epoch [7/100] Train Loss: 0.000607 Val Loss: 0.000756 LR: 1.33e-06 │ 0:44:18 < 9:48:41\n"
     ]
    },
    {
     "name": "stderr",
     "output_type": "stream",
     "text": [
      "                                                                               \r"
     ]
    },
    {
     "name": "stdout",
     "output_type": "stream",
     "text": [
      "\u001b[2J\u001b[H\n",
      "================================================================================\n",
      "Training for 100 epochs\n",
      "================================================================================\n",
      "\n",
      "Epoch [1/100] Train Loss: 0.053370 Val Loss: 0.002183 LR: 1.33e-06 │ 0:06:41 < 0:00:00\n",
      "Epoch [2/100] Train Loss: 0.001600 Val Loss: 0.001069 LR: 1.33e-06 │ 0:13:31 < 11:02:32\n",
      "Epoch [3/100] Train Loss: 0.001138 Val Loss: 0.002768 LR: 1.33e-06 │ 0:20:09 < 10:51:44\n",
      "Epoch [4/100] Train Loss: 0.000981 Val Loss: 0.000863 LR: 1.33e-06 │ 0:26:29 < 10:35:45\n",
      "Epoch [5/100] Train Loss: 0.000831 Val Loss: 0.000819 LR: 1.33e-06 │ 0:32:26 < 10:16:15\n",
      "Epoch [6/100] Train Loss: 0.000708 Val Loss: 0.000754 LR: 1.33e-06 │ 0:38:22 < 10:01:16\n",
      "Epoch [7/100] Train Loss: 0.000607 Val Loss: 0.000756 LR: 1.33e-06 │ 0:44:18 < 9:48:41\n",
      "Epoch [8/100] Train Loss: 0.000606 Val Loss: 0.000738 LR: 1.33e-06 │ 0:50:53 < 9:45:14\n"
     ]
    },
    {
     "name": "stderr",
     "output_type": "stream",
     "text": [
      "                                                                               \r"
     ]
    },
    {
     "name": "stdout",
     "output_type": "stream",
     "text": [
      "\u001b[2J\u001b[H\n",
      "================================================================================\n",
      "Training for 100 epochs\n",
      "================================================================================\n",
      "\n",
      "Epoch [1/100] Train Loss: 0.053370 Val Loss: 0.002183 LR: 1.33e-06 │ 0:06:41 < 0:00:00\n",
      "Epoch [2/100] Train Loss: 0.001600 Val Loss: 0.001069 LR: 1.33e-06 │ 0:13:31 < 11:02:32\n",
      "Epoch [3/100] Train Loss: 0.001138 Val Loss: 0.002768 LR: 1.33e-06 │ 0:20:09 < 10:51:44\n",
      "Epoch [4/100] Train Loss: 0.000981 Val Loss: 0.000863 LR: 1.33e-06 │ 0:26:29 < 10:35:45\n",
      "Epoch [5/100] Train Loss: 0.000831 Val Loss: 0.000819 LR: 1.33e-06 │ 0:32:26 < 10:16:15\n",
      "Epoch [6/100] Train Loss: 0.000708 Val Loss: 0.000754 LR: 1.33e-06 │ 0:38:22 < 10:01:16\n",
      "Epoch [7/100] Train Loss: 0.000607 Val Loss: 0.000756 LR: 1.33e-06 │ 0:44:18 < 9:48:41\n",
      "Epoch [8/100] Train Loss: 0.000606 Val Loss: 0.000738 LR: 1.33e-06 │ 0:50:53 < 9:45:14\n",
      "Epoch [9/100] Train Loss: 0.000562 Val Loss: 0.000725 LR: 1.33e-06 │ 0:57:38 < 9:42:46\n"
     ]
    },
    {
     "name": "stderr",
     "output_type": "stream",
     "text": [
      "                                                                               \r"
     ]
    },
    {
     "name": "stdout",
     "output_type": "stream",
     "text": [
      "\u001b[2J\u001b[H\n",
      "================================================================================\n",
      "Training for 100 epochs\n",
      "================================================================================\n",
      "\n",
      "Epoch [1/100] Train Loss: 0.053370 Val Loss: 0.002183 LR: 1.33e-06 │ 0:06:41 < 0:00:00\n",
      "Epoch [2/100] Train Loss: 0.001600 Val Loss: 0.001069 LR: 1.33e-06 │ 0:13:31 < 11:02:32\n",
      "Epoch [3/100] Train Loss: 0.001138 Val Loss: 0.002768 LR: 1.33e-06 │ 0:20:09 < 10:51:44\n",
      "Epoch [4/100] Train Loss: 0.000981 Val Loss: 0.000863 LR: 1.33e-06 │ 0:26:29 < 10:35:45\n",
      "Epoch [5/100] Train Loss: 0.000831 Val Loss: 0.000819 LR: 1.33e-06 │ 0:32:26 < 10:16:15\n",
      "Epoch [6/100] Train Loss: 0.000708 Val Loss: 0.000754 LR: 1.33e-06 │ 0:38:22 < 10:01:16\n",
      "Epoch [7/100] Train Loss: 0.000607 Val Loss: 0.000756 LR: 1.33e-06 │ 0:44:18 < 9:48:41\n",
      "Epoch [8/100] Train Loss: 0.000606 Val Loss: 0.000738 LR: 1.33e-06 │ 0:50:53 < 9:45:14\n",
      "Epoch [9/100] Train Loss: 0.000562 Val Loss: 0.000725 LR: 1.33e-06 │ 0:57:38 < 9:42:46\n",
      "Epoch [10/100] Train Loss: 0.000515 Val Loss: 0.000781 LR: 1.33e-06 │ 1:04:44 < 9:42:43\n"
     ]
    },
    {
     "name": "stderr",
     "output_type": "stream",
     "text": [
      "                                                                               \r"
     ]
    },
    {
     "name": "stdout",
     "output_type": "stream",
     "text": [
      "\u001b[2J\u001b[H\n",
      "================================================================================\n",
      "Training for 100 epochs\n",
      "================================================================================\n",
      "\n",
      "Epoch [1/100] Train Loss: 0.053370 Val Loss: 0.002183 LR: 1.33e-06 │ 0:06:41 < 0:00:00\n",
      "Epoch [2/100] Train Loss: 0.001600 Val Loss: 0.001069 LR: 1.33e-06 │ 0:13:31 < 11:02:32\n",
      "Epoch [3/100] Train Loss: 0.001138 Val Loss: 0.002768 LR: 1.33e-06 │ 0:20:09 < 10:51:44\n",
      "Epoch [4/100] Train Loss: 0.000981 Val Loss: 0.000863 LR: 1.33e-06 │ 0:26:29 < 10:35:45\n",
      "Epoch [5/100] Train Loss: 0.000831 Val Loss: 0.000819 LR: 1.33e-06 │ 0:32:26 < 10:16:15\n",
      "Epoch [6/100] Train Loss: 0.000708 Val Loss: 0.000754 LR: 1.33e-06 │ 0:38:22 < 10:01:16\n",
      "Epoch [7/100] Train Loss: 0.000607 Val Loss: 0.000756 LR: 1.33e-06 │ 0:44:18 < 9:48:41\n",
      "Epoch [8/100] Train Loss: 0.000606 Val Loss: 0.000738 LR: 1.33e-06 │ 0:50:53 < 9:45:14\n",
      "Epoch [9/100] Train Loss: 0.000562 Val Loss: 0.000725 LR: 1.33e-06 │ 0:57:38 < 9:42:46\n",
      "Epoch [10/100] Train Loss: 0.000515 Val Loss: 0.000781 LR: 1.33e-06 │ 1:04:44 < 9:42:43\n",
      "Epoch [11/100] Train Loss: 0.000493 Val Loss: 0.000683 LR: 1.33e-06 │ 1:11:40 < 9:39:53\n"
     ]
    },
    {
     "name": "stderr",
     "output_type": "stream",
     "text": [
      "                                                                               \r"
     ]
    },
    {
     "name": "stdout",
     "output_type": "stream",
     "text": [
      "\u001b[2J\u001b[H\n",
      "================================================================================\n",
      "Training for 100 epochs\n",
      "================================================================================\n",
      "\n",
      "Epoch [1/100] Train Loss: 0.053370 Val Loss: 0.002183 LR: 1.33e-06 │ 0:06:41 < 0:00:00\n",
      "Epoch [2/100] Train Loss: 0.001600 Val Loss: 0.001069 LR: 1.33e-06 │ 0:13:31 < 11:02:32\n",
      "Epoch [3/100] Train Loss: 0.001138 Val Loss: 0.002768 LR: 1.33e-06 │ 0:20:09 < 10:51:44\n",
      "Epoch [4/100] Train Loss: 0.000981 Val Loss: 0.000863 LR: 1.33e-06 │ 0:26:29 < 10:35:45\n",
      "Epoch [5/100] Train Loss: 0.000831 Val Loss: 0.000819 LR: 1.33e-06 │ 0:32:26 < 10:16:15\n",
      "Epoch [6/100] Train Loss: 0.000708 Val Loss: 0.000754 LR: 1.33e-06 │ 0:38:22 < 10:01:16\n",
      "Epoch [7/100] Train Loss: 0.000607 Val Loss: 0.000756 LR: 1.33e-06 │ 0:44:18 < 9:48:41\n",
      "Epoch [8/100] Train Loss: 0.000606 Val Loss: 0.000738 LR: 1.33e-06 │ 0:50:53 < 9:45:14\n",
      "Epoch [9/100] Train Loss: 0.000562 Val Loss: 0.000725 LR: 1.33e-06 │ 0:57:38 < 9:42:46\n",
      "Epoch [10/100] Train Loss: 0.000515 Val Loss: 0.000781 LR: 1.33e-06 │ 1:04:44 < 9:42:43\n",
      "Epoch [11/100] Train Loss: 0.000493 Val Loss: 0.000683 LR: 1.33e-06 │ 1:11:40 < 9:39:53\n",
      "Epoch [12/100] Train Loss: 0.000452 Val Loss: 0.000741 LR: 1.33e-06 │ 1:18:19 < 9:34:24\n"
     ]
    },
    {
     "name": "stderr",
     "output_type": "stream",
     "text": [
      "                                                                               \r"
     ]
    },
    {
     "name": "stdout",
     "output_type": "stream",
     "text": [
      "\u001b[2J\u001b[H\n",
      "================================================================================\n",
      "Training for 100 epochs\n",
      "================================================================================\n",
      "\n",
      "Epoch [1/100] Train Loss: 0.053370 Val Loss: 0.002183 LR: 1.33e-06 │ 0:06:41 < 0:00:00\n",
      "Epoch [2/100] Train Loss: 0.001600 Val Loss: 0.001069 LR: 1.33e-06 │ 0:13:31 < 11:02:32\n",
      "Epoch [3/100] Train Loss: 0.001138 Val Loss: 0.002768 LR: 1.33e-06 │ 0:20:09 < 10:51:44\n",
      "Epoch [4/100] Train Loss: 0.000981 Val Loss: 0.000863 LR: 1.33e-06 │ 0:26:29 < 10:35:45\n",
      "Epoch [5/100] Train Loss: 0.000831 Val Loss: 0.000819 LR: 1.33e-06 │ 0:32:26 < 10:16:15\n",
      "Epoch [6/100] Train Loss: 0.000708 Val Loss: 0.000754 LR: 1.33e-06 │ 0:38:22 < 10:01:16\n",
      "Epoch [7/100] Train Loss: 0.000607 Val Loss: 0.000756 LR: 1.33e-06 │ 0:44:18 < 9:48:41\n",
      "Epoch [8/100] Train Loss: 0.000606 Val Loss: 0.000738 LR: 1.33e-06 │ 0:50:53 < 9:45:14\n",
      "Epoch [9/100] Train Loss: 0.000562 Val Loss: 0.000725 LR: 1.33e-06 │ 0:57:38 < 9:42:46\n",
      "Epoch [10/100] Train Loss: 0.000515 Val Loss: 0.000781 LR: 1.33e-06 │ 1:04:44 < 9:42:43\n",
      "Epoch [11/100] Train Loss: 0.000493 Val Loss: 0.000683 LR: 1.33e-06 │ 1:11:40 < 9:39:53\n",
      "Epoch [12/100] Train Loss: 0.000452 Val Loss: 0.000741 LR: 1.33e-06 │ 1:18:19 < 9:34:24\n",
      "Epoch [13/100] Train Loss: 0.000441 Val Loss: 0.000606 LR: 1.33e-06 │ 1:25:03 < 9:29:14\n"
     ]
    },
    {
     "name": "stderr",
     "output_type": "stream",
     "text": [
      "                                                                               \r"
     ]
    }
   ],
   "source": [
    "device = get_device()\n",
    "\n",
    "model_config = {\n",
    "    \"hidden_size\": 32,\n",
    "    \"n_layers\": 2,\n",
    "    \"output_scale\": 100.0,\n",
    "    \"window_size\": 20,\n",
    "    \"batch_size\": 128,\n",
    "    \"shuffle_buffer\": 1000,\n",
    "    \"epochs\": 100,\n",
    "    \"learning_rate\": 1.33e-6,\n",
    "    \"optimizer\": {\n",
    "        \"type\": \"SGD\",\n",
    "        \"momentum\": 0.9\n",
    "    }\n",
    "\n",
    "}\n",
    "model = SpotBiLSTM(model_config, device)\n",
    "history = train_model(model, train_loader, model_config, device, val_loader)"
   ]
  },
  {
   "cell_type": "code",
   "execution_count": null,
   "metadata": {},
   "outputs": [],
   "source": [
    "# Plot training loss\n",
    "plt.figure(figsize=(10, 6))\n",
    "plt.grid(True)\n",
    "plt.plot(history['loss'])\n",
    "plt.xlabel('Epoch')\n",
    "plt.ylabel('Loss')\n",
    "plt.title('Training Loss')\n",
    "plt.show()"
   ]
  },
  {
   "cell_type": "markdown",
   "metadata": {},
   "source": [
    "### Model Evaluation"
   ]
  },
  {
   "cell_type": "code",
   "execution_count": null,
   "metadata": {},
   "outputs": [],
   "source": [
    "test_dataset = SpotPriceDataset(test_df, dataset_config, device)\n",
    "\n",
    "# Generate predictions\n",
    "forecast_series = series[split_time-config[\"window_size\"]:-1]\n",
    "forecast = model_forecast(model, forecast_series, config[\"window_size\"], config[\"batch_size\"])\n",
    "\n",
    "# Plot results\n",
    "plt.figure(figsize=(10, 6))\n",
    "plt.plot(time_valid, x_valid, label='Actual')\n",
    "plt.plot(time_valid, forecast, label='Forecast')\n",
    "plt.legend()\n",
    "plt.grid(True)\n",
    "plt.show()\n",
    "\n",
    "# Calculate metrics\n",
    "mse = ((forecast - x_valid) ** 2).mean()\n",
    "mae = abs(forecast - x_valid).mean()\n",
    "print(f'MSE: {mse:.6f}')\n",
    "print(f'MAE: {mae:.6f}')"
   ]
  }
 ],
 "metadata": {
  "kernelspec": {
   "display_name": "base",
   "language": "python",
   "name": "python3"
  },
  "language_info": {
   "codemirror_mode": {
    "name": "ipython",
    "version": 3
   },
   "file_extension": ".py",
   "mimetype": "text/x-python",
   "name": "python",
   "nbconvert_exporter": "python",
   "pygments_lexer": "ipython3",
   "version": "3.10.8"
  }
 },
 "nbformat": 4,
 "nbformat_minor": 2
}
