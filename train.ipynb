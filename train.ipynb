{
 "cells": [
  {
   "cell_type": "code",
   "execution_count": 1,
   "metadata": {},
   "outputs": [],
   "source": [
    "from typing import Tuple\n",
    "\n",
    "import torch\n",
    "from torch import nn, optim\n",
    "import numpy as np\n",
    "import yaml\n",
    "import glob\n",
    "import pandas as pd\n",
    "import ast\n",
    "import matplotlib.pyplot as plt\n",
    "\n",
    "from model import (\n",
    "    LSTMModel,\n",
    "    train_model,\n",
    "    plot_training_loss,\n",
    "    create_data_loader,\n",
    "    evaluate_model,\n",
    "    forecast,\n",
    ")"
   ]
  },
  {
   "cell_type": "markdown",
   "metadata": {},
   "source": [
    "## Load variables from config file"
   ]
  },
  {
   "cell_type": "code",
   "execution_count": 2,
   "metadata": {},
   "outputs": [],
   "source": [
    "def load_config(config_path) -> dict:\n",
    "    with open(config_path, \"r\") as config_file:\n",
    "        return yaml.safe_load(config_file)\n",
    "\n",
    "\n",
    "CONFIG = load_config(\"config.yaml\")\n",
    "\n",
    "for key in [\n",
    "    \"training_start_date\",\n",
    "    \"training_end_date\",\n",
    "    \"validation_end_date\",\n",
    "    \"test_end_date\",\n",
    "]:\n",
    "    CONFIG[key] = pd.to_datetime(CONFIG[key]).tz_localize(\"UTC\")"
   ]
  },
  {
   "cell_type": "code",
   "execution_count": 3,
   "metadata": {},
   "outputs": [],
   "source": [
    "def download_files():\n",
    "    import boto3\n",
    "    import os\n",
    "\n",
    "    s3 = boto3.client(\"s3\")\n",
    "\n",
    "    # Define the bucket name\n",
    "    bucket_name = \"spot-datasets\"\n",
    "    regions = CONFIG[\"regions\"]\n",
    "\n",
    "    # Create the data directory if it doesn't exist\n",
    "    data_dir = \"data\"\n",
    "    if not os.path.exists(data_dir):\n",
    "        os.makedirs(data_dir)\n",
    "\n",
    "    def download_file(key):\n",
    "        local_path = os.path.join(data_dir, key)\n",
    "        if not os.path.exists(os.path.dirname(local_path)):\n",
    "            os.makedirs(os.path.dirname(local_path))\n",
    "        s3.download_file(bucket_name, key, local_path)\n",
    "        print(f\"Downloaded {key}\")\n",
    "\n",
    "    # List objects in the bucket and download matching files\n",
    "    paginator = s3.get_paginator(\"list_objects_v2\")\n",
    "    for page in paginator.paginate(Bucket=bucket_name):\n",
    "        for obj in page.get(\"Contents\", []):\n",
    "            if any(f\"_{region}\" in obj[\"Key\"] for region in regions):\n",
    "                download_file(obj[\"Key\"])\n",
    "\n",
    "\n",
    "# download_files()"
   ]
  },
  {
   "cell_type": "code",
   "execution_count": 4,
   "metadata": {},
   "outputs": [],
   "source": [
    "def plot_series(time, series, format=\"-\", start=0, end=None, roof=None):\n",
    "    \"\"\"\n",
    "    Visualizes time series data\n",
    "\n",
    "    Args:\n",
    "      - time (array of int) - contains the time steps\n",
    "      - series (array of int) - contains the measurements for each time step\n",
    "      - format - line style when plotting the graph\n",
    "      - start - first time step to plot\n",
    "      - end - last time step to plot\n",
    "    \"\"\"\n",
    "    # Setup dimensions of the graph figure\n",
    "    plt.figure(figsize=(10, 6))\n",
    "    if type(series) is tuple:\n",
    "        for series_num in series:\n",
    "            plt.plot(time[start:end], series_num[start:end], format)\n",
    "    else:\n",
    "        plt.plot(time[start:end], series[start:end], format)\n",
    "    if roof is not None:\n",
    "        plt.ylim(bottom=0, top=roof)\n",
    "    else:\n",
    "        plt.ylim(bottom=0)\n",
    "    plt.xlabel(\"Time\")\n",
    "    plt.ylabel(\"Value\")\n",
    "    # Overlay a grid on the graph\n",
    "    plt.grid(True)\n",
    "    plt.show()"
   ]
  },
  {
   "cell_type": "markdown",
   "metadata": {},
   "source": [
    "# Preprocess and load data"
   ]
  },
  {
   "cell_type": "markdown",
   "metadata": {},
   "source": [
    "## Preprocess instance information"
   ]
  },
  {
   "cell_type": "code",
   "execution_count": 5,
   "metadata": {},
   "outputs": [],
   "source": [
    "def read_instance_info(region: str):\n",
    "    instance_info_file = f\"{CONFIG['data_folder']}/instance_info_{region}.csv\"\n",
    "    instance_info_df = pd.read_csv(instance_info_file)\n",
    "\n",
    "    # Change name of column \"id\" and put it as index\n",
    "    # instance_info_df = instance_info_df.dropna(subset=[\"id\"])\n",
    "    instance_info_df[\"id_instance\"] = instance_info_df[\"id\"]\n",
    "    instance_info_df = instance_info_df.drop(\"id\", axis=1)\n",
    "    instance_info_df = instance_info_df.set_index(\"id_instance\")\n",
    "\n",
    "    instance_info_df[\"memory\"] = instance_info_df[\"memory\"].astype(int)\n",
    "    instance_info_df[\"modifiers\"] = (\n",
    "        instance_info_df[\"modifiers\"].fillna(\"\").apply(lambda x: list(x))\n",
    "    )\n",
    "    instance_info_df[\"architectures\"] = instance_info_df[\"architectures\"].apply(\n",
    "        lambda x: ast.literal_eval(x) if isinstance(x, str) else x\n",
    "    )\n",
    "\n",
    "    return instance_info_df"
   ]
  },
  {
   "cell_type": "markdown",
   "metadata": {},
   "source": [
    "## Preprocess time series (prices)"
   ]
  },
  {
   "cell_type": "markdown",
   "metadata": {},
   "source": [
    "#### Helper functions"
   ]
  },
  {
   "cell_type": "code",
   "execution_count": 6,
   "metadata": {},
   "outputs": [],
   "source": [
    "def validate_instance_history(df):\n",
    "    \"\"\"Validate if instances have enough historical data for sequence creation\"\"\"\n",
    "    min_records = (CONFIG[\"sequence_length\"] + CONFIG[\"prediction_length\"]) * 0.8  # Allow some missing data\n",
    "    instance_counts = df.groupby(\"id_instance\").size()\n",
    "    valid_instances = instance_counts[instance_counts >= min_records].index\n",
    "    return df[df[\"id_instance\"].isin(valid_instances)]\n",
    "\n",
    "\n",
    "def create_cyclical_features(values, period):\n",
    "    \"\"\"Convert cyclical features to sin/cos components\"\"\"\n",
    "    values = values * 2 * np.pi / period\n",
    "    return np.cos(values), np.sin(values)\n",
    "\n",
    "\n",
    "def add_time_features(df, time_col, hours_in_day=24):\n",
    "    df[\"hour_cos\"], df[\"hour_sin\"] = create_cyclical_features(\n",
    "        df[time_col].dt.hour, hours_in_day\n",
    "    )\n",
    "    df[\"dow_cos\"], df[\"dow_sin\"] = create_cyclical_features(\n",
    "        df[time_col].dt.dayofweek, 7\n",
    "    )\n",
    "    df[\"dom_cos\"], df[\"dom_sin\"] = create_cyclical_features(\n",
    "        df[time_col].dt.day, df[time_col].dt.daysinmonth\n",
    "    )\n",
    "    df[\"doy_cos\"], df[\"doy_sin\"] = create_cyclical_features(\n",
    "        df[time_col].dt.dayofyear, 365\n",
    "    )\n",
    "    return df\n",
    "\n",
    "\n",
    "def generate_complete_time_df(id_instances: np.ndarray):\n",
    "    complete_time_range = pd.date_range(\n",
    "        start=CONFIG[\"training_start_date\"],\n",
    "        end=CONFIG[\"test_end_date\"],\n",
    "        freq=f\"{CONFIG['timestep_hours']}h\",\n",
    "    )\n",
    "    complete_time_df = pd.DataFrame({CONFIG[\"time_col\"]: complete_time_range})\n",
    "    complete_time_df = (\n",
    "        complete_time_df.assign(key=1)\n",
    "        .merge(pd.DataFrame({\"id_instance\": id_instances, \"key\": 1}), on=\"key\")\n",
    "        .drop(\"key\", axis=1)\n",
    "    )\n",
    "    return complete_time_df"
   ]
  },
  {
   "cell_type": "code",
   "execution_count": 7,
   "metadata": {},
   "outputs": [],
   "source": [
    "def read_prices_files(region: str):\n",
    "    prices_files = glob.glob(f\"{CONFIG['data_folder']}/prices_{region}_*.csv\")\n",
    "    prices_df_list = []\n",
    "    for file in prices_files:\n",
    "        df = pd.read_csv(file)\n",
    "        if df.empty and df.isna().all().all():\n",
    "            continue\n",
    "\n",
    "        prices_df_list.append(df)\n",
    "\n",
    "    prices_df = pd.concat(prices_df_list, ignore_index=True)\n",
    "    prices_df[CONFIG[\"time_col\"]] = pd.to_datetime(prices_df[CONFIG[\"time_col\"]], utc=True)\n",
    "    prices_df = prices_df[\n",
    "        (prices_df[CONFIG[\"time_col\"]] >= CONFIG[\"training_start_date\"])\n",
    "        & (prices_df[CONFIG[\"time_col\"]] <= CONFIG[\"test_end_date\"])\n",
    "    ]\n",
    "    prices_df = validate_instance_history(prices_df)\n",
    "    return prices_df\n",
    "\n",
    "\n",
    "def merge_prices_with_time(prices_df: pd.DataFrame, complete_time_df: pd.DataFrame):\n",
    "    prices_df[CONFIG[\"time_col\"]] = prices_df[CONFIG[\"time_col\"]].dt.floor(f\"{CONFIG['timestep_hours']}h\")\n",
    "\n",
    "    complete_time_df[CONFIG[\"time_col\"]] = pd.to_datetime(\n",
    "        complete_time_df[CONFIG[\"time_col\"]], utc=True\n",
    "    )\n",
    "\n",
    "    prices_df = pd.merge(\n",
    "        complete_time_df,\n",
    "        prices_df,\n",
    "        on=[CONFIG[\"time_col\"], \"id_instance\"],\n",
    "        how=\"left\",\n",
    "    )\n",
    "    prices_df[CONFIG[\"target_col\"]] = prices_df.groupby(\"id_instance\")[\n",
    "        CONFIG[\"target_col\"]\n",
    "    ].ffill()\n",
    "    prices_df = prices_df.dropna(subset=[CONFIG[\"target_col\"]])\n",
    "    return prices_df\n",
    "\n",
    "\n",
    "def add_time_features_and_aggregate(prices_df: pd.DataFrame):\n",
    "    prices_df = add_time_features(prices_df, CONFIG[\"time_col\"], CONFIG[\"timestep_hours\"])\n",
    "    grouped_prices_df = (\n",
    "        prices_df.groupby([\"id_instance\", CONFIG[\"time_col\"]])\n",
    "        .agg(\n",
    "            {\n",
    "                CONFIG[\"target_col\"]: \"mean\",\n",
    "                # \"hour_sin\": \"first\", \"hour_cos\": \"first\", \"doy_sin\": \"first\", \"doy_cos\": \"first\",\n",
    "                \"dow_sin\": \"first\",\n",
    "                \"dow_cos\": \"first\",\n",
    "                \"dom_sin\": \"first\",\n",
    "                \"dom_cos\": \"first\",\n",
    "            }\n",
    "        )\n",
    "        .reset_index()\n",
    "    )\n",
    "    return grouped_prices_df\n",
    "\n",
    "\n",
    "def prices_region(region):\n",
    "    region_prices_df = read_prices_files(region)\n",
    "\n",
    "    id_instances = region_prices_df[\"id_instance\"].unique()\n",
    "    complete_time_df = generate_complete_time_df(id_instances)\n",
    "\n",
    "    region_prices_df = merge_prices_with_time(region_prices_df, complete_time_df)\n",
    "    # region_prices_df = add_time_features_and_aggregate(region_prices_df)\n",
    "\n",
    "    return region_prices_df"
   ]
  },
  {
   "cell_type": "markdown",
   "metadata": {},
   "source": [
    "## Load data"
   ]
  },
  {
   "cell_type": "code",
   "execution_count": 8,
   "metadata": {},
   "outputs": [
    {
     "name": "stdout",
     "output_type": "stream",
     "text": [
      "Data loaded. Total number of instances: 3737. Total number of records: 9315580. Number of features: 12\n"
     ]
    }
   ],
   "source": [
    "prices_dfs = []\n",
    "instance_info_dfs = []\n",
    "for region in CONFIG[\"regions\"]:\n",
    "    region_instance_info_df = read_instance_info(region)\n",
    "    if not region_instance_info_df.empty:\n",
    "        instance_info_dfs.append(region_instance_info_df)\n",
    "\n",
    "    region_prices_df = prices_region(region)\n",
    "    if not region_prices_df.empty:\n",
    "        prices_dfs.append(region_prices_df)\n",
    "\n",
    "prices_df = pd.concat(prices_dfs, ignore_index=True)\n",
    "assert not prices_df.empty, \"Prices is empty\"\n",
    "assert (\n",
    "    prices_df[CONFIG[\"time_col\"]].notna().all()\n",
    "), f\"Missing values in {CONFIG['time_col']}\"\n",
    "\n",
    "instance_info_df = pd.concat(instance_info_dfs)\n",
    "assert not instance_info_df.empty, \"Instance info is empty\"\n",
    "\n",
    "print(\n",
    "    f\"Data loaded. Total number of instances: {instance_info_df.shape[0]}. Total number of records: {prices_df.shape[0]}. Number of features: {instance_info_df.shape[1]}\"\n",
    ")"
   ]
  },
  {
   "cell_type": "code",
   "execution_count": 9,
   "metadata": {},
   "outputs": [
    {
     "data": {
      "text/html": [
       "<div>\n",
       "<style scoped>\n",
       "    .dataframe tbody tr th:only-of-type {\n",
       "        vertical-align: middle;\n",
       "    }\n",
       "\n",
       "    .dataframe tbody tr th {\n",
       "        vertical-align: top;\n",
       "    }\n",
       "\n",
       "    .dataframe thead th {\n",
       "        text-align: right;\n",
       "    }\n",
       "</style>\n",
       "<table border=\"1\" class=\"dataframe\">\n",
       "  <thead>\n",
       "    <tr style=\"text-align: right;\">\n",
       "      <th></th>\n",
       "      <th>price_timestamp</th>\n",
       "      <th>id_instance</th>\n",
       "      <th>spot_price</th>\n",
       "    </tr>\n",
       "  </thead>\n",
       "  <tbody>\n",
       "    <tr>\n",
       "      <th>0</th>\n",
       "      <td>2023-10-01 00:00:00+00:00</td>\n",
       "      <td>14500</td>\n",
       "      <td>0.2448</td>\n",
       "    </tr>\n",
       "    <tr>\n",
       "      <th>1</th>\n",
       "      <td>2023-10-01 00:00:00+00:00</td>\n",
       "      <td>25861</td>\n",
       "      <td>1.6511</td>\n",
       "    </tr>\n",
       "    <tr>\n",
       "      <th>2</th>\n",
       "      <td>2023-10-01 00:00:00+00:00</td>\n",
       "      <td>47182</td>\n",
       "      <td>0.3681</td>\n",
       "    </tr>\n",
       "    <tr>\n",
       "      <th>3</th>\n",
       "      <td>2023-10-01 00:00:00+00:00</td>\n",
       "      <td>11504</td>\n",
       "      <td>1.2817</td>\n",
       "    </tr>\n",
       "    <tr>\n",
       "      <th>4</th>\n",
       "      <td>2023-10-01 00:00:00+00:00</td>\n",
       "      <td>11923</td>\n",
       "      <td>12.5064</td>\n",
       "    </tr>\n",
       "  </tbody>\n",
       "</table>\n",
       "</div>"
      ],
      "text/plain": [
       "            price_timestamp  id_instance  spot_price\n",
       "0 2023-10-01 00:00:00+00:00        14500      0.2448\n",
       "1 2023-10-01 00:00:00+00:00        25861      1.6511\n",
       "2 2023-10-01 00:00:00+00:00        47182      0.3681\n",
       "3 2023-10-01 00:00:00+00:00        11504      1.2817\n",
       "4 2023-10-01 00:00:00+00:00        11923     12.5064"
      ]
     },
     "execution_count": 9,
     "metadata": {},
     "output_type": "execute_result"
    }
   ],
   "source": [
    "prices_df.head()"
   ]
  },
  {
   "cell_type": "code",
   "execution_count": 10,
   "metadata": {},
   "outputs": [
    {
     "data": {
      "text/html": [
       "<div>\n",
       "<style scoped>\n",
       "    .dataframe tbody tr th:only-of-type {\n",
       "        vertical-align: middle;\n",
       "    }\n",
       "\n",
       "    .dataframe tbody tr th {\n",
       "        vertical-align: top;\n",
       "    }\n",
       "\n",
       "    .dataframe thead th {\n",
       "        text-align: right;\n",
       "    }\n",
       "</style>\n",
       "<table border=\"1\" class=\"dataframe\">\n",
       "  <thead>\n",
       "    <tr style=\"text-align: right;\">\n",
       "      <th></th>\n",
       "      <th>region</th>\n",
       "      <th>av_zone</th>\n",
       "      <th>instance_type</th>\n",
       "      <th>instance_family</th>\n",
       "      <th>generation</th>\n",
       "      <th>modifiers</th>\n",
       "      <th>size</th>\n",
       "      <th>vcpu</th>\n",
       "      <th>memory</th>\n",
       "      <th>architectures</th>\n",
       "      <th>product_description</th>\n",
       "      <th>on_demand_price</th>\n",
       "    </tr>\n",
       "    <tr>\n",
       "      <th>id_instance</th>\n",
       "      <th></th>\n",
       "      <th></th>\n",
       "      <th></th>\n",
       "      <th></th>\n",
       "      <th></th>\n",
       "      <th></th>\n",
       "      <th></th>\n",
       "      <th></th>\n",
       "      <th></th>\n",
       "      <th></th>\n",
       "      <th></th>\n",
       "      <th></th>\n",
       "    </tr>\n",
       "  </thead>\n",
       "  <tbody>\n",
       "    <tr>\n",
       "      <th>24406</th>\n",
       "      <td>eu-central-1</td>\n",
       "      <td>c</td>\n",
       "      <td>m6i.32xlarge</td>\n",
       "      <td>m</td>\n",
       "      <td>6</td>\n",
       "      <td>[i]</td>\n",
       "      <td>32xlarge</td>\n",
       "      <td>128</td>\n",
       "      <td>524288</td>\n",
       "      <td>[x86_64]</td>\n",
       "      <td>Linux/UNIX</td>\n",
       "      <td>7.36000</td>\n",
       "    </tr>\n",
       "    <tr>\n",
       "      <th>38213</th>\n",
       "      <td>eu-central-1</td>\n",
       "      <td>a</td>\n",
       "      <td>m6i.32xlarge</td>\n",
       "      <td>m</td>\n",
       "      <td>6</td>\n",
       "      <td>[i]</td>\n",
       "      <td>32xlarge</td>\n",
       "      <td>128</td>\n",
       "      <td>524288</td>\n",
       "      <td>[x86_64]</td>\n",
       "      <td>Linux/UNIX</td>\n",
       "      <td>7.36000</td>\n",
       "    </tr>\n",
       "    <tr>\n",
       "      <th>26575</th>\n",
       "      <td>eu-central-1</td>\n",
       "      <td>b</td>\n",
       "      <td>m6i.32xlarge</td>\n",
       "      <td>m</td>\n",
       "      <td>6</td>\n",
       "      <td>[i]</td>\n",
       "      <td>32xlarge</td>\n",
       "      <td>128</td>\n",
       "      <td>524288</td>\n",
       "      <td>[x86_64]</td>\n",
       "      <td>Linux/UNIX</td>\n",
       "      <td>7.36000</td>\n",
       "    </tr>\n",
       "    <tr>\n",
       "      <th>28489</th>\n",
       "      <td>eu-central-1</td>\n",
       "      <td>b</td>\n",
       "      <td>r6in.xlarge</td>\n",
       "      <td>r</td>\n",
       "      <td>6</td>\n",
       "      <td>[i, n]</td>\n",
       "      <td>xlarge</td>\n",
       "      <td>4</td>\n",
       "      <td>32768</td>\n",
       "      <td>[x86_64]</td>\n",
       "      <td>Linux/UNIX</td>\n",
       "      <td>0.41652</td>\n",
       "    </tr>\n",
       "    <tr>\n",
       "      <th>18475</th>\n",
       "      <td>eu-central-1</td>\n",
       "      <td>c</td>\n",
       "      <td>r6in.xlarge</td>\n",
       "      <td>r</td>\n",
       "      <td>6</td>\n",
       "      <td>[i, n]</td>\n",
       "      <td>xlarge</td>\n",
       "      <td>4</td>\n",
       "      <td>32768</td>\n",
       "      <td>[x86_64]</td>\n",
       "      <td>Linux/UNIX</td>\n",
       "      <td>0.41652</td>\n",
       "    </tr>\n",
       "  </tbody>\n",
       "</table>\n",
       "</div>"
      ],
      "text/plain": [
       "                   region av_zone instance_type instance_family  generation  \\\n",
       "id_instance                                                                   \n",
       "24406        eu-central-1       c  m6i.32xlarge               m           6   \n",
       "38213        eu-central-1       a  m6i.32xlarge               m           6   \n",
       "26575        eu-central-1       b  m6i.32xlarge               m           6   \n",
       "28489        eu-central-1       b   r6in.xlarge               r           6   \n",
       "18475        eu-central-1       c   r6in.xlarge               r           6   \n",
       "\n",
       "            modifiers      size  vcpu  memory architectures  \\\n",
       "id_instance                                                   \n",
       "24406             [i]  32xlarge   128  524288      [x86_64]   \n",
       "38213             [i]  32xlarge   128  524288      [x86_64]   \n",
       "26575             [i]  32xlarge   128  524288      [x86_64]   \n",
       "28489          [i, n]    xlarge     4   32768      [x86_64]   \n",
       "18475          [i, n]    xlarge     4   32768      [x86_64]   \n",
       "\n",
       "            product_description  on_demand_price  \n",
       "id_instance                                       \n",
       "24406                Linux/UNIX          7.36000  \n",
       "38213                Linux/UNIX          7.36000  \n",
       "26575                Linux/UNIX          7.36000  \n",
       "28489                Linux/UNIX          0.41652  \n",
       "18475                Linux/UNIX          0.41652  "
      ]
     },
     "execution_count": 10,
     "metadata": {},
     "output_type": "execute_result"
    }
   ],
   "source": [
    "instance_info_df.head()"
   ]
  },
  {
   "cell_type": "markdown",
   "metadata": {},
   "source": [
    "# Feature engineering and sequencing"
   ]
  },
  {
   "cell_type": "markdown",
   "metadata": {},
   "source": [
    "## Feature engineering"
   ]
  },
  {
   "cell_type": "markdown",
   "metadata": {},
   "source": [
    "| **Column**                | **Encoding**              | **Notes**                                                                 |\n",
    "|---------------------------|---------------------------|---------------------------------------------------------------------------|\n",
    "| `region_avzone`           | Embedding                 | Combine region and av_zone for better contextual encoding.                |\n",
    "| `product_description`     | One-hot                   | Two values; one-hot is simpler and explicit.                              |\n",
    "| `instance_family`         | Embedding                 | Embed if there are many unique families (x > 10).                         |\n",
    "| `generation`              | Numerical                 | Direct mapping as ordinal (e.g., 6).                                      |\n",
    "| `modifiers`                | Multi-hot encoding        | Each letter represents an independent property.                           |\n",
    "| `size`                    | Numerical                 | Map sizes to integers (e.g., xlarge=1, 2xlarge=2, etc.).                  |\n",
    "| `vcpu`                    | Numerical                 | Include as-is, correlated with performance.                               |\n",
    "| `memory`                  | Numerical                 | Include as-is, correlated with performance.                               |\n",
    "| `architectures`           | One-hot                   | Only two values; one-hot preferred for clarity.                           |\n"
   ]
  },
  {
   "cell_type": "markdown",
   "metadata": {},
   "source": [
    "## Sequencing"
   ]
  },
  {
   "cell_type": "markdown",
   "metadata": {},
   "source": [
    "Divide the training, validation and test dataframes"
   ]
  },
  {
   "cell_type": "code",
   "execution_count": 11,
   "metadata": {},
   "outputs": [],
   "source": [
    "prices_df = prices_df[prices_df[\"id_instance\"] == 28368]\n",
    "training_df = prices_df[\n",
    "    (prices_df[CONFIG[\"time_col\"]] >= CONFIG[\"training_start_date\"])\n",
    "    & (prices_df[CONFIG[\"time_col\"]] <= CONFIG[\"training_end_date\"])\n",
    "]\n",
    "validation_df = prices_df[\n",
    "    (prices_df[CONFIG[\"time_col\"]] > CONFIG[\"training_end_date\"])\n",
    "    & (prices_df[CONFIG[\"time_col\"]] <= CONFIG[\"validation_end_date\"])\n",
    "]\n",
    "test_df = prices_df[\n",
    "    (prices_df[CONFIG[\"time_col\"]] > CONFIG[\"validation_end_date\"])\n",
    "    & (prices_df[CONFIG[\"time_col\"]] <= CONFIG[\"test_end_date\"])\n",
    "]\n",
    "\n",
    "assert not training_df.empty, \"Training dataframe is empty\"\n",
    "assert not validation_df.empty, \"Validation dataframe is empty\"\n",
    "assert not test_df.empty, \"Test dataframe is empty\""
   ]
  },
  {
   "cell_type": "code",
   "execution_count": null,
   "metadata": {},
   "outputs": [
    {
     "name": "stdout",
     "output_type": "stream",
     "text": [
      "0.0048\n"
     ]
    },
    {
     "data": {
      "image/png": "[encoded data removed]",
      "text/plain": [
       "<Figure size 1000x600 with 1 Axes>"
      ]
     },
     "metadata": {},
     "output_type": "display_data"
    }
   ],
   "source": [
    "time = prices_df[\"price_timestamp\"].values\n",
    "series = prices_df[\"spot_price\"].values\n",
    "roof = instance_info_df.loc[28368, \"on_demand_price\"]\n",
    "plot_series(time, series, roof=roof)"
   ]
  },
  {
   "cell_type": "code",
   "execution_count": 11,
   "metadata": {},
   "outputs": [],
   "source": [
    "def create_sequences(df: pd.DataFrame):\n",
    "    sequence_length = CONFIG[\"sequence_length\"]\n",
    "    prediction_length = CONFIG[\"prediction_length\"]\n",
    "    window_step = CONFIG[\"window_step\"]\n",
    "    all_X, all_y = [], []\n",
    "\n",
    "    for id_instance in df[\"id_instance\"].unique():\n",
    "        prices = torch.tensor(\n",
    "            df[df[\"id_instance\"] == id_instance][\"spot_price\"].values,\n",
    "            dtype=torch.float32,\n",
    "        ).clone().detach()\n",
    "        if prices.shape[0] < sequence_length + prediction_length:\n",
    "            continue\n",
    "        windows = prices.unfold(0, sequence_length + prediction_length, window_step)\n",
    "        all_X.append(windows[:, :sequence_length])\n",
    "        all_y.append(windows[:, sequence_length:])\n",
    "\n",
    "    X = torch.cat(all_X, dim=0).unsqueeze(-1)\n",
    "    y = torch.cat(all_y, dim=0)\n",
    "    return X, y"
   ]
  },
  {
   "cell_type": "code",
   "execution_count": 12,
   "metadata": {},
   "outputs": [],
   "source": [
    "# Create validation and test data loaders\n",
    "X_train, y_train = create_sequences(training_df)\n",
    "X_val, y_val = create_sequences(validation_df)"
   ]
  },
  {
   "cell_type": "code",
   "execution_count": 14,
   "metadata": {},
   "outputs": [
    {
     "name": "stderr",
     "output_type": "stream",
     "text": [
      "/Users/adf/dev/beca/spot_predictor/model.py:136: UserWarning: To copy construct from a tensor, it is recommended to use sourceTensor.clone().detach() or sourceTensor.clone().detach().requires_grad_(True), rather than torch.tensor(sourceTensor).\n",
      "  torch.tensor(X, dtype=torch.float32), torch.tensor(y, dtype=torch.float32)\n"
     ]
    },
    {
     "name": "stdout",
     "output_type": "stream",
     "text": [
      "Epoch [1/20], Train Loss: 0.0002, Val Loss: 0.0001\n",
      "Epoch [2/20], Train Loss: 0.0000, Val Loss: 0.0001\n",
      "Epoch [3/20], Train Loss: 0.0001, Val Loss: 0.0000\n",
      "Epoch [4/20], Train Loss: 0.0000, Val Loss: 0.0000\n",
      "Checkpoint saved at epoch 5\n",
      "Epoch [5/20], Train Loss: 0.0000, Val Loss: 0.0000\n",
      "Epoch [6/20], Train Loss: 0.0000, Val Loss: 0.0000\n",
      "Epoch [7/20], Train Loss: 0.0000, Val Loss: 0.0000\n",
      "Epoch [8/20], Train Loss: 0.0000, Val Loss: 0.0000\n",
      "Epoch [9/20], Train Loss: 0.0000, Val Loss: 0.0000\n",
      "Checkpoint saved at epoch 10\n",
      "Epoch [10/20], Train Loss: 0.0000, Val Loss: 0.0000\n",
      "Epoch [11/20], Train Loss: 0.0000, Val Loss: 0.0000\n",
      "Epoch [12/20], Train Loss: 0.0000, Val Loss: 0.0000\n",
      "Epoch [13/20], Train Loss: 0.0000, Val Loss: 0.0000\n",
      "Epoch [14/20], Train Loss: 0.0000, Val Loss: 0.0000\n",
      "Checkpoint saved at epoch 15\n",
      "Epoch [15/20], Train Loss: 0.0000, Val Loss: 0.0000\n",
      "Epoch [16/20], Train Loss: 0.0000, Val Loss: 0.0000\n",
      "Epoch [17/20], Train Loss: 0.0000, Val Loss: 0.0000\n",
      "Epoch [18/20], Train Loss: 0.0000, Val Loss: 0.0000\n",
      "Epoch [19/20], Train Loss: 0.0000, Val Loss: 0.0000\n",
      "Checkpoint saved at epoch 20\n",
      "Epoch [20/20], Train Loss: 0.0000, Val Loss: 0.0000\n"
     ]
    },
    {
     "data": {
      "image/png": "[encoded data removed]",
      "text/plain": [
       "<Figure size 1000x500 with 1 Axes>"
      ]
     },
     "metadata": {},
     "output_type": "display_data"
    }
   ],
   "source": [
    "# Define model parameters\n",
    "input_size = 1\n",
    "hidden_size = 50\n",
    "num_layers = 2\n",
    "output_size = CONFIG[\"prediction_length\"]\n",
    "num_epochs = 20\n",
    "batch_size = 64\n",
    "learning_rate = 0.001\n",
    "\n",
    "# Create the model\n",
    "model = LSTMModel(input_size, hidden_size, num_layers, output_size)\n",
    "model.device = torch.device(\"mps\" if torch.mps.is_available() else \"cpu\")\n",
    "model.to(model.device)\n",
    "\n",
    "# Define loss function and optimizer\n",
    "criterion = nn.MSELoss()\n",
    "optimizer = optim.Adam(model.parameters(), lr=learning_rate)\n",
    "\n",
    "# Reshape the input tensors to the expected shape (batch_size, sequence_length, input_size)\n",
    "X_train = X_train.reshape(-1, CONFIG[\"sequence_length\"], input_size)\n",
    "X_val = X_val.reshape(-1, CONFIG[\"sequence_length\"], input_size)\n",
    "\n",
    "train_loader = create_data_loader(X_train, y_train, batch_size)\n",
    "val_loader = create_data_loader(X_val, y_val, batch_size)\n",
    "\n",
    "train_losses, val_losses = train_model(\n",
    "    model, train_loader, val_loader, criterion, optimizer, num_epochs\n",
    ")\n",
    "\n",
    "plot_training_loss(train_losses, val_losses)"
   ]
  },
  {
   "cell_type": "code",
   "execution_count": 16,
   "metadata": {},
   "outputs": [
    {
     "name": "stdout",
     "output_type": "stream",
     "text": [
      "Test Loss: 0.0000\n"
     ]
    }
   ],
   "source": [
    "# Evaluate the model on the test set\n",
    "X_test, y_test = create_sequences(validation_df)\n",
    "test_loader = create_data_loader(X_test, y_test, batch_size, shuffle=False)\n",
    "\n",
    "test_loss = evaluate_model(model, test_loader, criterion)\n",
    "print(f\"Test Loss: {test_loss:.4f}\")"
   ]
  },
  {
   "cell_type": "code",
   "execution_count": 17,
   "metadata": {},
   "outputs": [
    {
     "data": {
      "image/png": "[encoded data removed]",
      "text/plain": [
       "<Figure size 1000x600 with 1 Axes>"
      ]
     },
     "metadata": {},
     "output_type": "display_data"
    }
   ],
   "source": [
    "X_plot, y_plot = create_sequences(test_df[test_df[\"id_instance\"] == 28368])\n",
    "plot_loader = create_data_loader(X_plot, y_plot, batch_size, shuffle=False)\n",
    "\n",
    "# Generate forecasts\n",
    "forecasts = forecast(model, plot_loader)\n",
    "\n",
    "# Reshape X_plot for plotting\n",
    "X_plot_reshaped = X_plot.reshape(X_plot.shape[0], -1)\n",
    "\n",
    "plot_series(range(len(y_plot)), (X_plot_reshaped[:, -1], forecasts))"
   ]
  }
 ],
 "metadata": {
  "kernelspec": {
   "display_name": "base",
   "language": "python",
   "name": "python3"
  },
  "language_info": {
   "codemirror_mode": {
    "name": "ipython",
    "version": 3
   },
   "file_extension": ".py",
   "mimetype": "text/x-python",
   "name": "python",
   "nbconvert_exporter": "python",
   "pygments_lexer": "ipython3",
   "version": "3.10.8"
  }
 },
 "nbformat": 4,
 "nbformat_minor": 2
}
