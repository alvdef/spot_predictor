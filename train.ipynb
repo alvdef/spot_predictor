{
 "cells": [
  {
   "cell_type": "code",
   "execution_count": null,
   "metadata": {},
   "outputs": [],
   "source": [
    "import pandas as pd\n",
    "import json\n",
    "import os\n",
    "\n",
    "from model import SpotGRU\n",
    "from procedures import Training\n",
    "from dataset import SpotDataset\n",
    "from utils import ResultPlotter, get_name\n",
    "\n",
    "DIR = get_name()"
   ]
  },
  {
   "cell_type": "markdown",
   "metadata": {},
   "source": [
    "# Data loading"
   ]
  },
  {
   "cell_type": "code",
   "execution_count": null,
   "metadata": {},
   "outputs": [],
   "source": [
    "train_df = pd.read_pickle(f\"{DIR}/data/train_df.pkl\")\n",
    "val_df = pd.read_pickle(f\"{DIR}/data/val_df.pkl\")\n",
    "test_df = pd.read_pickle(f\"{DIR}/data/test_df.pkl\")\n",
    "instance_info_df = pd.read_pickle(f\"{DIR}/data/instance_info_df.pkl\")\n",
    "\n",
    "print(f\"Number of different id_instances: {test_df['id_instance'].nunique()}\")\n",
    "test_df.info()"
   ]
  },
  {
   "cell_type": "code",
   "execution_count": null,
   "metadata": {},
   "outputs": [],
   "source": [
    "train_dataset = SpotDataset(train_df, DIR)\n",
    "val_dataset = SpotDataset(val_df, DIR)"
   ]
  },
  {
   "cell_type": "markdown",
   "metadata": {},
   "source": [
    "# Model Training"
   ]
  },
  {
   "cell_type": "code",
   "execution_count": null,
   "metadata": {},
   "outputs": [],
   "source": [
    "model = SpotGRU(DIR)\n",
    "\n",
    "modelTraining = Training(model, DIR)\n",
    "modelTraining.train_model(train_dataset, val_dataset)"
   ]
  },
  {
   "cell_type": "code",
   "execution_count": null,
   "metadata": {},
   "outputs": [],
   "source": [
    "model.save()"
   ]
  },
  {
   "cell_type": "code",
   "execution_count": null,
   "metadata": {},
   "outputs": [],
   "source": [
    "with open(f\"{DIR}/metrics/training_history.json\", \"r\") as f:\n",
    "    history = json.load(f)\n",
    "\n",
    "ResultPlotter(DIR).plot_training_history(history)"
   ]
  }
 ],
 "metadata": {
  "kernelspec": {
   "display_name": "base",
   "language": "python",
   "name": "python3"
  },
  "language_info": {
   "codemirror_mode": {
    "name": "ipython",
    "version": 3
   },
   "file_extension": ".py",
   "mimetype": "text/x-python",
   "name": "python",
   "nbconvert_exporter": "python",
   "pygments_lexer": "ipython3",
   "version": "3.10.8"
  }
 },
 "nbformat": 4,
 "nbformat_minor": 2
}
