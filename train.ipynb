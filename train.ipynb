{
 "cells": [
  {
   "cell_type": "code",
   "execution_count": null,
   "metadata": {},
   "outputs": [],
   "source": [
    "import pandas as pd\n",
    "import json\n",
    "\n",
    "from model import SpotLSTM, Training\n",
    "from dataset import SpotDataset\n",
    "from utils import ResultPlotter"
   ]
  },
  {
   "cell_type": "markdown",
   "metadata": {},
   "source": [
    "# Data loading"
   ]
  },
  {
   "cell_type": "code",
   "execution_count": null,
   "metadata": {},
   "outputs": [],
   "source": [
    "train_df = pd.read_pickle(\"data/train_df.pkl\")\n",
    "val_df = pd.read_pickle(\"data/val_df.pkl\")\n",
    "test_df = pd.read_pickle(\"data/test_df.pkl\")\n",
    "instance_info_df = pd.read_pickle(\"data/instance_info_df.pkl\")\n",
    "\n",
    "print(f\"Number of different id_instances: {test_df['id_instance'].nunique()}\")\n",
    "test_df.info()"
   ]
  },
  {
   "cell_type": "code",
   "execution_count": null,
   "metadata": {},
   "outputs": [],
   "source": [
    "train_dataset = SpotDataset(train_df, \"config.yaml\")\n",
    "train_loader = train_dataset.get_data_loader()\n",
    "\n",
    "val_dataset = SpotDataset(val_df, \"config.yaml\")\n",
    "val_loader = val_dataset.get_data_loader()"
   ]
  },
  {
   "cell_type": "markdown",
   "metadata": {},
   "source": [
    "# Hyperparameter Tuning"
   ]
  },
  {
   "cell_type": "code",
   "execution_count": null,
   "metadata": {},
   "outputs": [],
   "source": [
    "def lr():\n",
    "    from model import find_lr\n",
    "\n",
    "    # Model configuration\n",
    "    model_config = {\n",
    "        \"window_size\": 20,\n",
    "        \"batch_size\": 128,  # Smaller for better generalization\n",
    "        \"shuffle_buffer\": 1000,\n",
    "        \"epochs\": 150,  # More training time\n",
    "        \"steps_per_epoch\": len(train_dataset),\n",
    "        \"init_learning_rate\": 6e-7,\n",
    "        \"final_learning_rate\": 1.2e-6,\n",
    "        \"weight_decay\": 1.5e-5,\n",
    "        \"mse_weight\": 0.8,\n",
    "    }\n",
    "    model = SpotLSTM(\"config.yaml\")\n",
    "\n",
    "    log_lrs, losses = find_lr(model, train_loader, model_config)\n",
    "\n",
    "    ResultPlotter().plot_learning_rate_finder(log_lrs, losses)\n",
    "\n",
    "\n",
    "# lr()"
   ]
  },
  {
   "cell_type": "markdown",
   "metadata": {},
   "source": [
    "# Model Training"
   ]
  },
  {
   "cell_type": "code",
   "execution_count": null,
   "metadata": {},
   "outputs": [],
   "source": [
    "model = SpotLSTM(\"config.yaml\")\n",
    "\n",
    "modelTraining = Training(model, len(train_dataset), \"config.yaml\")\n",
    "modelTraining.train_model(train_loader, val_loader)"
   ]
  },
  {
   "cell_type": "code",
   "execution_count": null,
   "metadata": {},
   "outputs": [],
   "source": [
    "with open(\"output/training_history.json\", \"r\") as f:\n",
    "    history = json.load(f)\n",
    "\n",
    "ResultPlotter().plot_training_history(history)"
   ]
  }
 ],
 "metadata": {
  "kernelspec": {
   "display_name": "base",
   "language": "python",
   "name": "python3"
  },
  "language_info": {
   "codemirror_mode": {
    "name": "ipython",
    "version": 3
   },
   "file_extension": ".py",
   "mimetype": "text/x-python",
   "name": "python",
   "nbconvert_exporter": "python",
   "pygments_lexer": "ipython3",
   "version": "3.10.8"
  }
 },
 "nbformat": 4,
 "nbformat_minor": 2
}
