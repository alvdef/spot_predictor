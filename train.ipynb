{
 "cells": [
  {
   "cell_type": "code",
   "execution_count": 11,
   "metadata": {},
   "outputs": [],
   "source": [
    "from typing import Optional, Tuple\n",
    "import logging\n",
    "import yaml\n",
    "import glob\n",
    "import pandas as pd"
   ]
  },
  {
   "cell_type": "markdown",
   "metadata": {},
   "source": [
    "## Load variables from config file"
   ]
  },
  {
   "cell_type": "code",
   "execution_count": 12,
   "metadata": {},
   "outputs": [],
   "source": [
    "def load_config(config_path) -> dict:\n",
    "    with open(config_path, \"r\") as config_file:\n",
    "        return yaml.safe_load(config_file)\n",
    "\n",
    "config = load_config(\"config.yaml\")\n",
    "\n",
    "for key in ['training_start_date', 'training_end_date', 'validation_end_date', 'test_end_date']:\n",
    "    config[key] = pd.to_datetime(config[key]).tz_localize('UTC')\n"
   ]
  },
  {
   "cell_type": "markdown",
   "metadata": {},
   "source": [
    "## Load data"
   ]
  },
  {
   "cell_type": "code",
   "execution_count": null,
   "metadata": {},
   "outputs": [],
   "source": [
    "def add_time_features(df, time_col):\n",
    "    df['day_of_week'] = df[time_col].dt.dayofweek\n",
    "    df['day_of_month'] = df[time_col].dt.day\n",
    "    df['month'] = df[time_col].dt.month\n",
    "    return df"
   ]
  },
  {
   "cell_type": "code",
   "execution_count": 13,
   "metadata": {},
   "outputs": [],
   "source": [
    "def process_region(region, config) -> Tuple[Optional[pd.DataFrame], Optional[pd.DataFrame]]:\n",
    "    try:\n",
    "        instance_info_file = f\"{config['data_folder']}/instance_info_{region}.csv\"\n",
    "        prices_files = glob.glob(f\"{config['data_folder']}/prices_{region}_*.csv\")\n",
    "        \n",
    "        instance_info_df = pd.read_csv(instance_info_file)\n",
    "        instance_info_df['id_instance'] = instance_info_df['id']\n",
    "        instance_info_df = instance_info_df.set_index('id_instance')\n",
    "        instance_info_df = instance_info_df.drop('id', axis=1)\n",
    "        \n",
    "        prices_df_list = []\n",
    "        for file in prices_files:\n",
    "            df = pd.read_csv(file)\n",
    "            df[config['time_col']] = pd.to_datetime(df[config['time_col']]).dt.floor('4h')\n",
    "            prices_df_list.append(df)\n",
    "        \n",
    "        prices_df = pd.concat(prices_df_list, ignore_index=True)\n",
    "        prices_df = prices_df[(prices_df[config['time_col']] >= config['training_start_date']) & \n",
    "                              (prices_df[config['time_col']] <= config['test_end_date'])]\n",
    "        \n",
    "        complete_time_range = pd.date_range(start=config['training_start_date'], \n",
    "                                            end=config['test_end_date'], freq='4h')\n",
    "        \n",
    "        id_instances = prices_df['id_instance'].unique()\n",
    "        complete_time_df = pd.DataFrame({config['time_col']: complete_time_range})\n",
    "        complete_time_df = complete_time_df.assign(key=1).merge(\n",
    "            pd.DataFrame({'id_instance': id_instances, 'key': 1}), on='key').drop('key', axis=1)\n",
    "        \n",
    "        prices_df = pd.merge(complete_time_df, prices_df, on=[config['time_col'], 'id_instance'], how='left')\n",
    "        prices_df[config['target_col']] = prices_df.groupby('id_instance')[config['target_col']].ffill()\n",
    "        \n",
    "        grouped_prices_df = prices_df.groupby(['id_instance', config['time_col']]).agg({config['target_col']: 'mean'}).reset_index()\n",
    "        grouped_prices_df = prices_df.dropna(subset=[config['target_col']])\n",
    "\n",
    "        instance_info_df['modifiers'] = instance_info_df['modifiers'].fillna('').apply(lambda x: sorted(list(x)))\n",
    "        \n",
    "        return instance_info_df, grouped_prices_df\n",
    "    except Exception as e:\n",
    "        print(f\"Error processing region {region}: {str(e)}\")\n",
    "        return None, None"
   ]
  },
  {
   "cell_type": "code",
   "execution_count": 14,
   "metadata": {},
   "outputs": [
    {
     "name": "stdout",
     "output_type": "stream",
     "text": [
      "Data loaded. Total number of instances: 3596. Total number of records: 6022485. Number of features: 15\n"
     ]
    }
   ],
   "source": [
    "prices_dfs = []\n",
    "instance_info_dfs = []\n",
    "for region in config['regions']:\n",
    "    instance_info_df, prices_df = process_region(region, config)\n",
    "    if prices_df is not None:\n",
    "        prices_dfs.append(prices_df)\n",
    "        instance_info_dfs.append(instance_info_df)\n",
    "\n",
    "combined_prices_df = pd.concat(prices_dfs, ignore_index=True)\n",
    "combined_instance_info_df = pd.concat(instance_info_dfs)\n",
    "\n",
    "# Merge with instance info DataFrame\n",
    "general_df = pd.merge(combined_instance_info_df, combined_prices_df, on='id_instance', how='right')\n",
    "\n",
    "# Data validation\n",
    "assert not general_df.empty, \"The resulting dataframe is empty\"\n",
    "assert general_df[config['target_col']].notna().all(), f\"Missing values in {config['target_col']}\"\n",
    "assert general_df[config['time_col']].notna().all(), f\"Missing values in {config['time_col']}\"\n",
    "\n",
    "print(general_df.head())\n",
    "print(f\"Data loaded. Total number of instances: {general_df['id_instance'].nunique()}. Total number of records: {general_df.shape[0]}. Number of features: {general_df.shape[1]}\")  \n",
    "\n",
    "training_df = general_df[(general_df[config['time_col']] >= config['training_start_date']) & (general_df[config['time_col']] <= config['training_end_date'])]\n",
    "validation_df = general_df[(general_df[config['time_col']] > config['training_end_date']) & (general_df[config['time_col']] <= config['validation_end_date'])]\n",
    "test_df = general_df[(general_df[config['time_col']] > config['validation_end_date']) & (general_df[config['time_col']] <= config['test_end_date'])]\n",
    "\n",
    "# tener en cuenta instancias que no tienen datos en el periodo de entrenamiento. buen test para el modelo"
   ]
  },
  {
   "cell_type": "code",
   "execution_count": 15,
   "metadata": {},
   "outputs": [
    {
     "name": "stdout",
     "output_type": "stream",
     "text": [
      "   id_instance          region av_zone  instance_type instance_family  \\\n",
      "0        11900  ap-northeast-1       c    r6i.2xlarge               r   \n",
      "1        39977  ap-northeast-1       a  r7iz.32xlarge               r   \n",
      "2         2192  ap-northeast-1       c   r7a.24xlarge               r   \n",
      "3        44472  ap-northeast-1       d   m5n.24xlarge               m   \n",
      "4        48316  ap-northeast-1       d   m7a.48xlarge               m   \n",
      "\n",
      "   generation modifiers  size  vcpu     memory architectures  \\\n",
      "0           6       [i]   2.0     8    65536.0    ['x86_64']   \n",
      "1           7    [i, z]  32.0   128  1048576.0    ['x86_64']   \n",
      "2           7       [a]  24.0    96   786432.0    ['x86_64']   \n",
      "3           5       [n]  24.0    96   393216.0    ['x86_64']   \n",
      "4           7       [a]  48.0   192   786432.0    ['x86_64']   \n",
      "\n",
      "  product_description  on_demand_price           price_timestamp  spot_price  \n",
      "0          Linux/UNIX          0.60800 2024-08-01 00:00:00+00:00      0.2599  \n",
      "1          Linux/UNIX         14.52800 2024-08-01 00:00:00+00:00      5.5531  \n",
      "2          Linux/UNIX         11.19072 2024-08-01 00:00:00+00:00      2.1860  \n",
      "3          Linux/UNIX          7.34400 2024-08-01 00:00:00+00:00      2.6940  \n",
      "4             Windows         23.20608 2024-08-01 00:00:00+00:00     11.8753  \n"
     ]
    }
   ],
   "source": [
    "print(general_df.head())\n"
   ]
  }
 ],
 "metadata": {
  "kernelspec": {
   "display_name": "Python 3",
   "language": "python",
   "name": "python3"
  },
  "language_info": {
   "codemirror_mode": {
    "name": "ipython",
    "version": 3
   },
   "file_extension": ".py",
   "mimetype": "text/x-python",
   "name": "python",
   "nbconvert_exporter": "python",
   "pygments_lexer": "ipython3",
   "version": "3.10.14"
  }
 },
 "nbformat": 4,
 "nbformat_minor": 2
}
