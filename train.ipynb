{
 "cells": [
  {
   "cell_type": "code",
   "execution_count": 1,
   "metadata": {},
   "outputs": [],
   "source": [
    "import json\n",
    "\n",
    "from model import SpotLSTM, Training\n",
    "from dataset import LoadSpotDataset, SpotDataset\n",
    "from utils import ResultPlotter"
   ]
  },
  {
   "cell_type": "markdown",
   "metadata": {},
   "source": [
    "## Load variables from config file"
   ]
  },
  {
   "cell_type": "code",
   "execution_count": 2,
   "metadata": {},
   "outputs": [],
   "source": [
    "lsd = LoadSpotDataset(\"config.yaml\", \"data\")\n",
    "\n",
    "prices_df, instance_info_df = lsd.load_data()"
   ]
  },
  {
   "cell_type": "code",
   "execution_count": 3,
   "metadata": {},
   "outputs": [
    {
     "data": {
      "text/html": [
       "<div>\n",
       "<style scoped>\n",
       "    .dataframe tbody tr th:only-of-type {\n",
       "        vertical-align: middle;\n",
       "    }\n",
       "\n",
       "    .dataframe tbody tr th {\n",
       "        vertical-align: top;\n",
       "    }\n",
       "\n",
       "    .dataframe thead th {\n",
       "        text-align: right;\n",
       "    }\n",
       "</style>\n",
       "<table border=\"1\" class=\"dataframe\">\n",
       "  <thead>\n",
       "    <tr style=\"text-align: right;\">\n",
       "      <th></th>\n",
       "      <th>price_timestamp</th>\n",
       "      <th>id_instance</th>\n",
       "      <th>spot_price</th>\n",
       "    </tr>\n",
       "  </thead>\n",
       "  <tbody>\n",
       "    <tr>\n",
       "      <th>0</th>\n",
       "      <td>2024-04-01 00:00:00+00:00</td>\n",
       "      <td>8364</td>\n",
       "      <td>0.0438</td>\n",
       "    </tr>\n",
       "    <tr>\n",
       "      <th>1</th>\n",
       "      <td>2024-04-01 00:00:00+00:00</td>\n",
       "      <td>44263</td>\n",
       "      <td>2.2684</td>\n",
       "    </tr>\n",
       "    <tr>\n",
       "      <th>2</th>\n",
       "      <td>2024-04-01 00:00:00+00:00</td>\n",
       "      <td>39658</td>\n",
       "      <td>1.0328</td>\n",
       "    </tr>\n",
       "    <tr>\n",
       "      <th>3</th>\n",
       "      <td>2024-04-01 00:00:00+00:00</td>\n",
       "      <td>19681</td>\n",
       "      <td>12.5172</td>\n",
       "    </tr>\n",
       "    <tr>\n",
       "      <th>4</th>\n",
       "      <td>2024-04-01 00:00:00+00:00</td>\n",
       "      <td>39617</td>\n",
       "      <td>7.8889</td>\n",
       "    </tr>\n",
       "  </tbody>\n",
       "</table>\n",
       "</div>"
      ],
      "text/plain": [
       "            price_timestamp  id_instance  spot_price\n",
       "0 2024-04-01 00:00:00+00:00         8364      0.0438\n",
       "1 2024-04-01 00:00:00+00:00        44263      2.2684\n",
       "2 2024-04-01 00:00:00+00:00        39658      1.0328\n",
       "3 2024-04-01 00:00:00+00:00        19681     12.5172\n",
       "4 2024-04-01 00:00:00+00:00        39617      7.8889"
      ]
     },
     "execution_count": 3,
     "metadata": {},
     "output_type": "execute_result"
    }
   ],
   "source": [
    "prices_df.head()"
   ]
  },
  {
   "cell_type": "code",
   "execution_count": 4,
   "metadata": {},
   "outputs": [
    {
     "data": {
      "text/html": [
       "<div>\n",
       "<style scoped>\n",
       "    .dataframe tbody tr th:only-of-type {\n",
       "        vertical-align: middle;\n",
       "    }\n",
       "\n",
       "    .dataframe tbody tr th {\n",
       "        vertical-align: top;\n",
       "    }\n",
       "\n",
       "    .dataframe thead th {\n",
       "        text-align: right;\n",
       "    }\n",
       "</style>\n",
       "<table border=\"1\" class=\"dataframe\">\n",
       "  <thead>\n",
       "    <tr style=\"text-align: right;\">\n",
       "      <th></th>\n",
       "      <th>region</th>\n",
       "      <th>av_zone</th>\n",
       "      <th>instance_type</th>\n",
       "      <th>instance_family</th>\n",
       "      <th>generation</th>\n",
       "      <th>modifiers</th>\n",
       "      <th>size</th>\n",
       "      <th>vcpu</th>\n",
       "      <th>memory</th>\n",
       "      <th>architectures</th>\n",
       "      <th>product_description</th>\n",
       "      <th>on_demand_price</th>\n",
       "    </tr>\n",
       "    <tr>\n",
       "      <th>id_instance</th>\n",
       "      <th></th>\n",
       "      <th></th>\n",
       "      <th></th>\n",
       "      <th></th>\n",
       "      <th></th>\n",
       "      <th></th>\n",
       "      <th></th>\n",
       "      <th></th>\n",
       "      <th></th>\n",
       "      <th></th>\n",
       "      <th></th>\n",
       "      <th></th>\n",
       "    </tr>\n",
       "  </thead>\n",
       "  <tbody>\n",
       "    <tr>\n",
       "      <th>48207</th>\n",
       "      <td>us-east-1</td>\n",
       "      <td>b</td>\n",
       "      <td>c6a.8xlarge</td>\n",
       "      <td>c</td>\n",
       "      <td>6</td>\n",
       "      <td>[a]</td>\n",
       "      <td>8xlarge</td>\n",
       "      <td>32</td>\n",
       "      <td>65536</td>\n",
       "      <td>[x86_64]</td>\n",
       "      <td>Linux/UNIX</td>\n",
       "      <td>1.224</td>\n",
       "    </tr>\n",
       "    <tr>\n",
       "      <th>6910</th>\n",
       "      <td>us-east-1</td>\n",
       "      <td>c</td>\n",
       "      <td>c6a.8xlarge</td>\n",
       "      <td>c</td>\n",
       "      <td>6</td>\n",
       "      <td>[a]</td>\n",
       "      <td>8xlarge</td>\n",
       "      <td>32</td>\n",
       "      <td>65536</td>\n",
       "      <td>[x86_64]</td>\n",
       "      <td>Linux/UNIX</td>\n",
       "      <td>1.224</td>\n",
       "    </tr>\n",
       "    <tr>\n",
       "      <th>32082</th>\n",
       "      <td>us-east-1</td>\n",
       "      <td>f</td>\n",
       "      <td>c6a.8xlarge</td>\n",
       "      <td>c</td>\n",
       "      <td>6</td>\n",
       "      <td>[a]</td>\n",
       "      <td>8xlarge</td>\n",
       "      <td>32</td>\n",
       "      <td>65536</td>\n",
       "      <td>[x86_64]</td>\n",
       "      <td>Linux/UNIX</td>\n",
       "      <td>1.224</td>\n",
       "    </tr>\n",
       "    <tr>\n",
       "      <th>39235</th>\n",
       "      <td>us-east-1</td>\n",
       "      <td>a</td>\n",
       "      <td>c6a.8xlarge</td>\n",
       "      <td>c</td>\n",
       "      <td>6</td>\n",
       "      <td>[a]</td>\n",
       "      <td>8xlarge</td>\n",
       "      <td>32</td>\n",
       "      <td>65536</td>\n",
       "      <td>[x86_64]</td>\n",
       "      <td>Linux/UNIX</td>\n",
       "      <td>1.224</td>\n",
       "    </tr>\n",
       "    <tr>\n",
       "      <th>17992</th>\n",
       "      <td>us-east-1</td>\n",
       "      <td>d</td>\n",
       "      <td>c6a.8xlarge</td>\n",
       "      <td>c</td>\n",
       "      <td>6</td>\n",
       "      <td>[a]</td>\n",
       "      <td>8xlarge</td>\n",
       "      <td>32</td>\n",
       "      <td>65536</td>\n",
       "      <td>[x86_64]</td>\n",
       "      <td>Linux/UNIX</td>\n",
       "      <td>1.224</td>\n",
       "    </tr>\n",
       "  </tbody>\n",
       "</table>\n",
       "</div>"
      ],
      "text/plain": [
       "                region av_zone instance_type instance_family  generation  \\\n",
       "id_instance                                                                \n",
       "48207        us-east-1       b   c6a.8xlarge               c           6   \n",
       "6910         us-east-1       c   c6a.8xlarge               c           6   \n",
       "32082        us-east-1       f   c6a.8xlarge               c           6   \n",
       "39235        us-east-1       a   c6a.8xlarge               c           6   \n",
       "17992        us-east-1       d   c6a.8xlarge               c           6   \n",
       "\n",
       "            modifiers     size  vcpu  memory architectures  \\\n",
       "id_instance                                                  \n",
       "48207             [a]  8xlarge    32   65536      [x86_64]   \n",
       "6910              [a]  8xlarge    32   65536      [x86_64]   \n",
       "32082             [a]  8xlarge    32   65536      [x86_64]   \n",
       "39235             [a]  8xlarge    32   65536      [x86_64]   \n",
       "17992             [a]  8xlarge    32   65536      [x86_64]   \n",
       "\n",
       "            product_description  on_demand_price  \n",
       "id_instance                                       \n",
       "48207                Linux/UNIX            1.224  \n",
       "6910                 Linux/UNIX            1.224  \n",
       "32082                Linux/UNIX            1.224  \n",
       "39235                Linux/UNIX            1.224  \n",
       "17992                Linux/UNIX            1.224  "
      ]
     },
     "execution_count": 4,
     "metadata": {},
     "output_type": "execute_result"
    }
   ],
   "source": [
    "instance_info_df.head()"
   ]
  },
  {
   "cell_type": "code",
   "execution_count": 5,
   "metadata": {},
   "outputs": [],
   "source": [
    "compute_instances = instance_info_df[(instance_info_df[\"instance_family\"] == 'c') & (~instance_info_df[\"size\"].str.contains('metal'))].index\n",
    "prices_df = prices_df[prices_df[\"id_instance\"].isin(compute_instances)]"
   ]
  },
  {
   "cell_type": "code",
   "execution_count": 6,
   "metadata": {},
   "outputs": [
    {
     "name": "stdout",
     "output_type": "stream",
     "text": [
      "1412\n",
      "<class 'pandas.core.frame.DataFrame'>\n",
      "Index: 1601058 entries, 1 to 8001851\n",
      "Data columns (total 3 columns):\n",
      " #   Column           Non-Null Count    Dtype              \n",
      "---  ------           --------------    -----              \n",
      " 0   price_timestamp  1601058 non-null  datetime64[ns, UTC]\n",
      " 1   id_instance      1601058 non-null  int64              \n",
      " 2   spot_price       1601058 non-null  float64            \n",
      "dtypes: datetime64[ns, UTC](1), float64(1), int64(1)\n",
      "memory usage: 48.9 MB\n"
     ]
    }
   ],
   "source": [
    "print(len(compute_instances))\n",
    "prices_df.info()"
   ]
  },
  {
   "cell_type": "code",
   "execution_count": 7,
   "metadata": {},
   "outputs": [],
   "source": [
    "train_df, val_df, test_df = lsd.get_training_validation_test_split(prices_df)\n",
    "\n",
    "train_dataset = SpotDataset(train_df, 'config.yaml')\n",
    "train_loader = train_dataset.get_data_loader()\n",
    "\n",
    "val_dataset = SpotDataset(val_df, 'config.yaml')\n",
    "val_loader = val_dataset.get_data_loader()"
   ]
  },
  {
   "cell_type": "code",
   "execution_count": 8,
   "metadata": {},
   "outputs": [
    {
     "name": "stdout",
     "output_type": "stream",
     "text": [
      "Train DataFrame: Start Date = 2024-04-01 00:00:00+00:00, End Date = 2024-08-23 00:00:00+00:00, Number of Days = 144\n",
      "Validation DataFrame: Start Date = 2024-08-23 00:00:00+00:00, End Date = 2024-09-21 08:00:00+00:00, Number of Days = 29\n",
      "Test DataFrame: Start Date = 2024-09-21 08:00:00+00:00, End Date = 2024-10-20 00:00:00+00:00, Number of Days = 28\n"
     ]
    }
   ],
   "source": [
    "# Get start and end dates for train_df\n",
    "train_start_date = train_df['price_timestamp'].min()\n",
    "train_end_date = train_df['price_timestamp'].max()\n",
    "train_days = (train_end_date - train_start_date).days\n",
    "\n",
    "# Get start and end dates for val_df\n",
    "val_start_date = val_df['price_timestamp'].min()\n",
    "val_end_date = val_df['price_timestamp'].max()\n",
    "val_days = (val_end_date - val_start_date).days\n",
    "\n",
    "# Get start and end dates for test_df\n",
    "test_start_date = test_df['price_timestamp'].min()\n",
    "test_end_date = test_df['price_timestamp'].max()\n",
    "test_days = (test_end_date - test_start_date).days\n",
    "\n",
    "print(f\"Train DataFrame: Start Date = {train_start_date}, End Date = {train_end_date}, Number of Days = {train_days}\")\n",
    "print(f\"Validation DataFrame: Start Date = {val_start_date}, End Date = {val_end_date}, Number of Days = {val_days}\")\n",
    "print(f\"Test DataFrame: Start Date = {test_start_date}, End Date = {test_end_date}, Number of Days = {test_days}\")"
   ]
  },
  {
   "cell_type": "markdown",
   "metadata": {},
   "source": [
    "## Hyperparameter Tuning"
   ]
  },
  {
   "cell_type": "markdown",
   "metadata": {},
   "source": [
    "### Learning Rate Range Test"
   ]
  },
  {
   "cell_type": "code",
   "execution_count": 9,
   "metadata": {},
   "outputs": [],
   "source": [
    "def lr():\n",
    "    from model import find_lr\n",
    "    \n",
    "    # Model configuration\n",
    "    model_config = {\n",
    "        \"window_size\": 20,\n",
    "        \"batch_size\": 128,        # Smaller for better generalization\n",
    "        \"shuffle_buffer\": 1000,\n",
    "        \"epochs\": 150,           # More training time\n",
    "        \"steps_per_epoch\": len(train_dataset),\n",
    "        \"init_learning_rate\": 6e-7,\n",
    "        \"final_learning_rate\": 1.2e-6,\n",
    "        \"weight_decay\": 1.5e-5,\n",
    "        \"mse_weight\": 0.8\n",
    "    }\n",
    "    model = SpotLSTM('config.yaml')\n",
    "\n",
    "    log_lrs, losses = find_lr(model, train_loader, model_config)\n",
    "\n",
    "    ResultPlotter().plot_learning_rate_finder(log_lrs, losses)\n",
    "    \n",
    "# lr()"
   ]
  },
  {
   "cell_type": "markdown",
   "metadata": {},
   "source": [
    "### Model Training with Selected Learning Rate"
   ]
  },
  {
   "cell_type": "code",
   "execution_count": 11,
   "metadata": {},
   "outputs": [
    {
     "name": "stderr",
     "output_type": "stream",
     "text": [
      "/Users/adf/dev/beca/spot_predictor/model/utils.py:46: FutureWarning: You are using `torch.load` with `weights_only=False` (the current default value), which uses the default pickle module implicitly. It is possible to construct malicious pickle data which will execute arbitrary code during unpickling (See https://github.com/pytorch/pytorch/blob/main/SECURITY.md#untrusted-models for more details). In a future release, the default value for `weights_only` will be flipped to `True`. This limits the functions that could be executed during unpickling. Arbitrary objects will no longer be allowed to be loaded via this mode unless they are explicitly allowlisted by the user via `torch.serialization.add_safe_globals`. We recommend you start setting `weights_only=True` for any use case where you don't have full control of the loaded file. Please open an issue on GitHub for any issues related to this experimental feature.\n",
      "  checkpoint = torch.load(best_file, map_location=device)\n",
      "/Users/adf/.pyenv/versions/miniforge3-22.9.0-3/lib/python3.10/site-packages/torch/amp/grad_scaler.py:132: UserWarning: torch.cuda.amp.GradScaler is enabled, but CUDA is not available.  Disabling.\n",
      "  warnings.warn(\n"
     ]
    },
    {
     "name": "stdout",
     "output_type": "stream",
     "text": [
      "Successfully loaded checkpoint.\n",
      "\n",
      "==================================================\n",
      "Training for 100 epochs\n",
      "==================================================\n",
      "\n"
     ]
    },
    {
     "name": "stderr",
     "output_type": "stream",
     "text": [
      "                                                                             \r"
     ]
    },
    {
     "name": "stdout",
     "output_type": "stream",
     "text": [
      "Epoch 1/100\n",
      "T:0.0006;V:0.0006;L:4.4e-07;G:11.4;76.4s\n"
     ]
    },
    {
     "name": "stderr",
     "output_type": "stream",
     "text": [
      "                                                                             \r"
     ]
    },
    {
     "name": "stdout",
     "output_type": "stream",
     "text": [
      "Epoch 2/100\n",
      "T:0.0007;V:0.0008;L:5.4e-07;G:34.0;77.6s\n"
     ]
    },
    {
     "name": "stderr",
     "output_type": "stream",
     "text": [
      "                                                                             \r"
     ]
    },
    {
     "name": "stdout",
     "output_type": "stream",
     "text": [
      "Epoch 3/100\n",
      "T:0.0007;V:0.0006;L:7.2e-07;G:4.1;75.3s\n"
     ]
    },
    {
     "name": "stderr",
     "output_type": "stream",
     "text": [
      "                                                                             \r"
     ]
    },
    {
     "name": "stdout",
     "output_type": "stream",
     "text": [
      "Epoch 4/100\n",
      "T:0.0007;V:0.0008;L:9.7e-07;G:31.7;75.4s\n"
     ]
    },
    {
     "name": "stderr",
     "output_type": "stream",
     "text": [
      "                                                                             \r"
     ]
    },
    {
     "name": "stdout",
     "output_type": "stream",
     "text": [
      "Epoch 5/100\n",
      "T:0.0007;V:0.0010;L:1.3e-06;G:22.8;75.9s\n"
     ]
    },
    {
     "name": "stderr",
     "output_type": "stream",
     "text": [
      "                                                                             \r"
     ]
    },
    {
     "name": "stdout",
     "output_type": "stream",
     "text": [
      "Epoch 6/100\n",
      "T:0.0008;V:0.0008;L:1.7e-06;G:17.7;74.9s\n"
     ]
    },
    {
     "name": "stderr",
     "output_type": "stream",
     "text": [
      "                                                                             \r"
     ]
    },
    {
     "name": "stdout",
     "output_type": "stream",
     "text": [
      "Epoch 7/100\n",
      "T:0.0008;V:0.0010;L:2.1e-06;G:28.0;76.7s\n"
     ]
    },
    {
     "name": "stderr",
     "output_type": "stream",
     "text": [
      "                                                                             \r"
     ]
    },
    {
     "name": "stdout",
     "output_type": "stream",
     "text": [
      "Epoch 8/100\n",
      "T:0.0009;V:0.0007;L:2.5e-06;G:11.4;74.6s\n"
     ]
    },
    {
     "name": "stderr",
     "output_type": "stream",
     "text": [
      "                                                                             \r"
     ]
    },
    {
     "name": "stdout",
     "output_type": "stream",
     "text": [
      "Epoch 9/100\n",
      "T:0.0010;V:0.0009;L:3.1e-06;G:39.1;77.0s\n"
     ]
    },
    {
     "name": "stderr",
     "output_type": "stream",
     "text": [
      "                                                                            \r"
     ]
    },
    {
     "name": "stdout",
     "output_type": "stream",
     "text": [
      "\n",
      "Training interrupted by user\n",
      "Saving current model state...\n"
     ]
    }
   ],
   "source": [
    "model = SpotLSTM(\"config.yaml\")\n",
    "\n",
    "modelTraining = Training(model, 'config.yaml')\n",
    "modelTraining.train_model(train_loader, val_loader)"
   ]
  },
  {
   "cell_type": "code",
   "execution_count": 1,
   "metadata": {},
   "outputs": [
    {
     "ename": "FileNotFoundError",
     "evalue": "[Errno 2] No such file or directory: 'output/training_history.json'",
     "output_type": "error",
     "traceback": [
      "\u001b[0;31m---------------------------------------------------------------------------\u001b[0m",
      "\u001b[0;31mFileNotFoundError\u001b[0m                         Traceback (most recent call last)",
      "Cell \u001b[0;32mIn[1], line 1\u001b[0m\n\u001b[0;32m----> 1\u001b[0m \u001b[38;5;28;01mwith\u001b[39;00m \u001b[38;5;28;43mopen\u001b[39;49m\u001b[43m(\u001b[49m\u001b[38;5;124;43m'\u001b[39;49m\u001b[38;5;124;43moutput/training_history.json\u001b[39;49m\u001b[38;5;124;43m'\u001b[39;49m\u001b[43m,\u001b[49m\u001b[43m \u001b[49m\u001b[38;5;124;43m'\u001b[39;49m\u001b[38;5;124;43mr\u001b[39;49m\u001b[38;5;124;43m'\u001b[39;49m\u001b[43m)\u001b[49m \u001b[38;5;28;01mas\u001b[39;00m f:\n\u001b[1;32m      2\u001b[0m     history \u001b[38;5;241m=\u001b[39m json\u001b[38;5;241m.\u001b[39mload(f)\n\u001b[1;32m      4\u001b[0m ResultPlotter()\u001b[38;5;241m.\u001b[39mplot_training_history(history)\n",
      "File \u001b[0;32m~/.pyenv/versions/miniforge3-22.9.0-3/lib/python3.10/site-packages/IPython/core/interactiveshell.py:324\u001b[0m, in \u001b[0;36m_modified_open\u001b[0;34m(file, *args, **kwargs)\u001b[0m\n\u001b[1;32m    317\u001b[0m \u001b[38;5;28;01mif\u001b[39;00m file \u001b[38;5;129;01min\u001b[39;00m {\u001b[38;5;241m0\u001b[39m, \u001b[38;5;241m1\u001b[39m, \u001b[38;5;241m2\u001b[39m}:\n\u001b[1;32m    318\u001b[0m     \u001b[38;5;28;01mraise\u001b[39;00m \u001b[38;5;167;01mValueError\u001b[39;00m(\n\u001b[1;32m    319\u001b[0m         \u001b[38;5;124mf\u001b[39m\u001b[38;5;124m\"\u001b[39m\u001b[38;5;124mIPython won\u001b[39m\u001b[38;5;124m'\u001b[39m\u001b[38;5;124mt let you open fd=\u001b[39m\u001b[38;5;132;01m{\u001b[39;00mfile\u001b[38;5;132;01m}\u001b[39;00m\u001b[38;5;124m by default \u001b[39m\u001b[38;5;124m\"\u001b[39m\n\u001b[1;32m    320\u001b[0m         \u001b[38;5;124m\"\u001b[39m\u001b[38;5;124mas it is likely to crash IPython. If you know what you are doing, \u001b[39m\u001b[38;5;124m\"\u001b[39m\n\u001b[1;32m    321\u001b[0m         \u001b[38;5;124m\"\u001b[39m\u001b[38;5;124myou can use builtins\u001b[39m\u001b[38;5;124m'\u001b[39m\u001b[38;5;124m open.\u001b[39m\u001b[38;5;124m\"\u001b[39m\n\u001b[1;32m    322\u001b[0m     )\n\u001b[0;32m--> 324\u001b[0m \u001b[38;5;28;01mreturn\u001b[39;00m \u001b[43mio_open\u001b[49m\u001b[43m(\u001b[49m\u001b[43mfile\u001b[49m\u001b[43m,\u001b[49m\u001b[43m \u001b[49m\u001b[38;5;241;43m*\u001b[39;49m\u001b[43margs\u001b[49m\u001b[43m,\u001b[49m\u001b[43m \u001b[49m\u001b[38;5;241;43m*\u001b[39;49m\u001b[38;5;241;43m*\u001b[39;49m\u001b[43mkwargs\u001b[49m\u001b[43m)\u001b[49m\n",
      "\u001b[0;31mFileNotFoundError\u001b[0m: [Errno 2] No such file or directory: 'output/training_history.json'"
     ]
    }
   ],
   "source": [
    "with open('output/training_history.json', 'r') as f:\n",
    "    history = json.load(f)\n",
    "\n",
    "ResultPlotter().plot_training_history(history)"
   ]
  }
 ],
 "metadata": {
  "kernelspec": {
   "display_name": "base",
   "language": "python",
   "name": "python3"
  },
  "language_info": {
   "codemirror_mode": {
    "name": "ipython",
    "version": 3
   },
   "file_extension": ".py",
   "mimetype": "text/x-python",
   "name": "python",
   "nbconvert_exporter": "python",
   "pygments_lexer": "ipython3",
   "version": "3.10.8"
  }
 },
 "nbformat": 4,
 "nbformat_minor": 2
}
