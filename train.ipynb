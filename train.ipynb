{
 "cells": [
  {
   "cell_type": "code",
   "execution_count": 1,
   "metadata": {},
   "outputs": [],
   "source": [
    "import numpy as np\n",
    "import matplotlib.pyplot as plt\n",
    "\n",
    "from model import (\n",
    "    SpotBiLSTM,\n",
    "    train_model,\n",
    "    find_lr,\n",
    "    model_forecast,\n",
    ")\n",
    "from load_spot_dataset import LoadSpotDataset\n",
    "from spot_dataset import SpotPriceDataset\n",
    "from utils import plot_series, get_device"
   ]
  },
  {
   "cell_type": "markdown",
   "metadata": {},
   "source": [
    "## Load variables from config file"
   ]
  },
  {
   "cell_type": "markdown",
   "metadata": {},
   "source": [
    "## Load data"
   ]
  },
  {
   "cell_type": "code",
   "execution_count": 2,
   "metadata": {},
   "outputs": [],
   "source": [
    "lsd = LoadSpotDataset(\"config.yaml\", \"data\")\n",
    "\n",
    "prices_df, instance_info_df = lsd.load_data()"
   ]
  },
  {
   "cell_type": "code",
   "execution_count": 3,
   "metadata": {},
   "outputs": [
    {
     "data": {
      "text/html": [
       "<div>\n",
       "<style scoped>\n",
       "    .dataframe tbody tr th:only-of-type {\n",
       "        vertical-align: middle;\n",
       "    }\n",
       "\n",
       "    .dataframe tbody tr th {\n",
       "        vertical-align: top;\n",
       "    }\n",
       "\n",
       "    .dataframe thead th {\n",
       "        text-align: right;\n",
       "    }\n",
       "</style>\n",
       "<table border=\"1\" class=\"dataframe\">\n",
       "  <thead>\n",
       "    <tr style=\"text-align: right;\">\n",
       "      <th></th>\n",
       "      <th>price_timestamp</th>\n",
       "      <th>id_instance</th>\n",
       "      <th>spot_price</th>\n",
       "    </tr>\n",
       "  </thead>\n",
       "  <tbody>\n",
       "    <tr>\n",
       "      <th>0</th>\n",
       "      <td>2024-04-01 00:00:00+00:00</td>\n",
       "      <td>8364</td>\n",
       "      <td>0.0438</td>\n",
       "    </tr>\n",
       "    <tr>\n",
       "      <th>1</th>\n",
       "      <td>2024-04-01 00:00:00+00:00</td>\n",
       "      <td>44263</td>\n",
       "      <td>2.2684</td>\n",
       "    </tr>\n",
       "    <tr>\n",
       "      <th>2</th>\n",
       "      <td>2024-04-01 00:00:00+00:00</td>\n",
       "      <td>39658</td>\n",
       "      <td>1.0328</td>\n",
       "    </tr>\n",
       "    <tr>\n",
       "      <th>3</th>\n",
       "      <td>2024-04-01 00:00:00+00:00</td>\n",
       "      <td>19681</td>\n",
       "      <td>12.5172</td>\n",
       "    </tr>\n",
       "    <tr>\n",
       "      <th>4</th>\n",
       "      <td>2024-04-01 00:00:00+00:00</td>\n",
       "      <td>39617</td>\n",
       "      <td>7.8889</td>\n",
       "    </tr>\n",
       "  </tbody>\n",
       "</table>\n",
       "</div>"
      ],
      "text/plain": [
       "            price_timestamp  id_instance  spot_price\n",
       "0 2024-04-01 00:00:00+00:00         8364      0.0438\n",
       "1 2024-04-01 00:00:00+00:00        44263      2.2684\n",
       "2 2024-04-01 00:00:00+00:00        39658      1.0328\n",
       "3 2024-04-01 00:00:00+00:00        19681     12.5172\n",
       "4 2024-04-01 00:00:00+00:00        39617      7.8889"
      ]
     },
     "execution_count": 3,
     "metadata": {},
     "output_type": "execute_result"
    }
   ],
   "source": [
    "prices_df.head()"
   ]
  },
  {
   "cell_type": "code",
   "execution_count": 4,
   "metadata": {},
   "outputs": [
    {
     "data": {
      "text/html": [
       "<div>\n",
       "<style scoped>\n",
       "    .dataframe tbody tr th:only-of-type {\n",
       "        vertical-align: middle;\n",
       "    }\n",
       "\n",
       "    .dataframe tbody tr th {\n",
       "        vertical-align: top;\n",
       "    }\n",
       "\n",
       "    .dataframe thead th {\n",
       "        text-align: right;\n",
       "    }\n",
       "</style>\n",
       "<table border=\"1\" class=\"dataframe\">\n",
       "  <thead>\n",
       "    <tr style=\"text-align: right;\">\n",
       "      <th></th>\n",
       "      <th>region</th>\n",
       "      <th>av_zone</th>\n",
       "      <th>instance_type</th>\n",
       "      <th>instance_family</th>\n",
       "      <th>generation</th>\n",
       "      <th>modifiers</th>\n",
       "      <th>size</th>\n",
       "      <th>vcpu</th>\n",
       "      <th>memory</th>\n",
       "      <th>architectures</th>\n",
       "      <th>product_description</th>\n",
       "      <th>on_demand_price</th>\n",
       "    </tr>\n",
       "    <tr>\n",
       "      <th>id_instance</th>\n",
       "      <th></th>\n",
       "      <th></th>\n",
       "      <th></th>\n",
       "      <th></th>\n",
       "      <th></th>\n",
       "      <th></th>\n",
       "      <th></th>\n",
       "      <th></th>\n",
       "      <th></th>\n",
       "      <th></th>\n",
       "      <th></th>\n",
       "      <th></th>\n",
       "    </tr>\n",
       "  </thead>\n",
       "  <tbody>\n",
       "    <tr>\n",
       "      <th>48207</th>\n",
       "      <td>us-east-1</td>\n",
       "      <td>b</td>\n",
       "      <td>c6a.8xlarge</td>\n",
       "      <td>c</td>\n",
       "      <td>6</td>\n",
       "      <td>[a]</td>\n",
       "      <td>8xlarge</td>\n",
       "      <td>32</td>\n",
       "      <td>65536</td>\n",
       "      <td>[x86_64]</td>\n",
       "      <td>Linux/UNIX</td>\n",
       "      <td>1.224</td>\n",
       "    </tr>\n",
       "    <tr>\n",
       "      <th>6910</th>\n",
       "      <td>us-east-1</td>\n",
       "      <td>c</td>\n",
       "      <td>c6a.8xlarge</td>\n",
       "      <td>c</td>\n",
       "      <td>6</td>\n",
       "      <td>[a]</td>\n",
       "      <td>8xlarge</td>\n",
       "      <td>32</td>\n",
       "      <td>65536</td>\n",
       "      <td>[x86_64]</td>\n",
       "      <td>Linux/UNIX</td>\n",
       "      <td>1.224</td>\n",
       "    </tr>\n",
       "    <tr>\n",
       "      <th>32082</th>\n",
       "      <td>us-east-1</td>\n",
       "      <td>f</td>\n",
       "      <td>c6a.8xlarge</td>\n",
       "      <td>c</td>\n",
       "      <td>6</td>\n",
       "      <td>[a]</td>\n",
       "      <td>8xlarge</td>\n",
       "      <td>32</td>\n",
       "      <td>65536</td>\n",
       "      <td>[x86_64]</td>\n",
       "      <td>Linux/UNIX</td>\n",
       "      <td>1.224</td>\n",
       "    </tr>\n",
       "    <tr>\n",
       "      <th>39235</th>\n",
       "      <td>us-east-1</td>\n",
       "      <td>a</td>\n",
       "      <td>c6a.8xlarge</td>\n",
       "      <td>c</td>\n",
       "      <td>6</td>\n",
       "      <td>[a]</td>\n",
       "      <td>8xlarge</td>\n",
       "      <td>32</td>\n",
       "      <td>65536</td>\n",
       "      <td>[x86_64]</td>\n",
       "      <td>Linux/UNIX</td>\n",
       "      <td>1.224</td>\n",
       "    </tr>\n",
       "    <tr>\n",
       "      <th>17992</th>\n",
       "      <td>us-east-1</td>\n",
       "      <td>d</td>\n",
       "      <td>c6a.8xlarge</td>\n",
       "      <td>c</td>\n",
       "      <td>6</td>\n",
       "      <td>[a]</td>\n",
       "      <td>8xlarge</td>\n",
       "      <td>32</td>\n",
       "      <td>65536</td>\n",
       "      <td>[x86_64]</td>\n",
       "      <td>Linux/UNIX</td>\n",
       "      <td>1.224</td>\n",
       "    </tr>\n",
       "  </tbody>\n",
       "</table>\n",
       "</div>"
      ],
      "text/plain": [
       "                region av_zone instance_type instance_family  generation  \\\n",
       "id_instance                                                                \n",
       "48207        us-east-1       b   c6a.8xlarge               c           6   \n",
       "6910         us-east-1       c   c6a.8xlarge               c           6   \n",
       "32082        us-east-1       f   c6a.8xlarge               c           6   \n",
       "39235        us-east-1       a   c6a.8xlarge               c           6   \n",
       "17992        us-east-1       d   c6a.8xlarge               c           6   \n",
       "\n",
       "            modifiers     size  vcpu  memory architectures  \\\n",
       "id_instance                                                  \n",
       "48207             [a]  8xlarge    32   65536      [x86_64]   \n",
       "6910              [a]  8xlarge    32   65536      [x86_64]   \n",
       "32082             [a]  8xlarge    32   65536      [x86_64]   \n",
       "39235             [a]  8xlarge    32   65536      [x86_64]   \n",
       "17992             [a]  8xlarge    32   65536      [x86_64]   \n",
       "\n",
       "            product_description  on_demand_price  \n",
       "id_instance                                       \n",
       "48207                Linux/UNIX            1.224  \n",
       "6910                 Linux/UNIX            1.224  \n",
       "32082                Linux/UNIX            1.224  \n",
       "39235                Linux/UNIX            1.224  \n",
       "17992                Linux/UNIX            1.224  "
      ]
     },
     "execution_count": 4,
     "metadata": {},
     "output_type": "execute_result"
    }
   ],
   "source": [
    "instance_info_df.head()"
   ]
  },
  {
   "cell_type": "markdown",
   "metadata": {},
   "source": [
    "# Feature engineering and sequencing"
   ]
  },
  {
   "cell_type": "markdown",
   "metadata": {},
   "source": [
    "## Feature engineering"
   ]
  },
  {
   "cell_type": "markdown",
   "metadata": {},
   "source": [
    "| **Column**                | **Encoding**              | **Notes**                                                                 |\n",
    "|---------------------------|---------------------------|---------------------------------------------------------------------------|\n",
    "| `region_avzone`           | Embedding                 | Combine region and av_zone for better contextual encoding.                |\n",
    "| `product_description`     | One-hot                   | Two values; one-hot is simpler and explicit.                              |\n",
    "| `instance_family`         | Embedding                 | Embed if there are many unique families (x > 10).                         |\n",
    "| `generation`              | Numerical                 | Direct mapping as ordinal (e.g., 6).                                      |\n",
    "| `modifiers`                | Multi-hot encoding        | Each letter represents an independent property.                           |\n",
    "| `size`                    | Numerical                 | Map sizes to integers (e.g., xlarge=1, 2xlarge=2, etc.).                  |\n",
    "| `vcpu`                    | Numerical                 | Include as-is, correlated with performance.                               |\n",
    "| `memory`                  | Numerical                 | Include as-is, correlated with performance.                               |\n",
    "| `architectures`           | One-hot                   | Only two values; one-hot preferred for clarity.                           |\n"
   ]
  },
  {
   "cell_type": "markdown",
   "metadata": {},
   "source": [
    "## Hyperparameter Tuning"
   ]
  },
  {
   "cell_type": "code",
   "execution_count": 5,
   "metadata": {},
   "outputs": [],
   "source": [
    "device = get_device()\n",
    "\n",
    "dataset_config = {\n",
    "    \"sequence_length\": 28,\n",
    "    \"window_step\": 4,\n",
    "    \"batch_size\": 32\n",
    "}\n",
    "train_df, val_df, test_df = lsd.get_training_validation_test_split(prices_df)\n",
    "\n",
    "train_dataset = SpotPriceDataset(train_df, dataset_config, device)\n",
    "train_loader = train_dataset.get_data_loader()\n",
    "\n",
    "val_dataset = SpotPriceDataset(val_df, dataset_config, device)\n",
    "val_loader = val_dataset.get_data_loader()"
   ]
  },
  {
   "cell_type": "markdown",
   "metadata": {},
   "source": [
    "### Learning Rate Range Test"
   ]
  },
  {
   "cell_type": "code",
   "execution_count": null,
   "metadata": {},
   "outputs": [
    {
     "name": "stderr",
     "output_type": "stream",
     "text": [
      "                                                                                            \r"
     ]
    },
    {
     "name": "stdout",
     "output_type": "stream",
     "text": [
      "\n",
      "Loss exploding, stopping early...\n",
      "\n",
      "Optimal learning rate: 6.00e-07\n"
     ]
    },
    {
     "data": {
      "image/png": "[encoded data removed]",
      "text/plain": [
       "<Figure size 1000x600 with 1 Axes>"
      ]
     },
     "metadata": {},
     "output_type": "display_data"
    }
   ],
   "source": [
    "def lr():\n",
    "    # Model configuration\n",
    "    model_config = {\n",
    "        \"hidden_size\": 64,        # Increased capacity\n",
    "        \"output_scale\": 100.0,\n",
    "        \"window_size\": 20,\n",
    "        \"batch_size\": 128,        # Smaller for better generalization\n",
    "        \"shuffle_buffer\": 1000,\n",
    "        \"epochs\": 150,           # More training time\n",
    "        \"steps_per_epoch\": len(train_dataset),\n",
    "        \"init_learning_rate\": 6e-7,\n",
    "        \"final_learning_rate\": 1.2e-6,\n",
    "        \"weight_decay\": 1.5e-5,\n",
    "        \"mse_weight\": 0.8\n",
    "    }\n",
    "    model = SpotBiLSTM(model_config, device)\n",
    "\n",
    "    log_lrs, losses = find_lr(model, train_loader, model_config, device)\n",
    "\n",
    "    # Plot results\n",
    "    plt.figure(figsize=(10, 6))\n",
    "    plt.grid(True)\n",
    "    plt.semilogx(10**np.array(log_lrs), losses)\n",
    "    plt.tick_params('both', length=10, width=1, which='both')\n",
    "    plt.xlabel('Learning Rate')\n",
    "    plt.ylabel('Loss')\n",
    "    plt.axis([model_config[\"init_learning_rate\"], model_config[\"final_learning_rate\"], 0, 10])\n",
    "    plt.show()\n",
    "    \n",
    "lr()"
   ]
  },
  {
   "cell_type": "code",
   "execution_count": 7,
   "metadata": {},
   "outputs": [
    {
     "name": "stderr",
     "output_type": "stream",
     "text": [
      "                                                                                             \r"
     ]
    },
    {
     "name": "stdout",
     "output_type": "stream",
     "text": [
      "\n",
      "Loss exploding, stopping early...\n",
      "\n",
      "Optimal learning rate: 6.02e-07\n"
     ]
    },
    {
     "data": {
      "image/png": "[encoded data removed]",
      "text/plain": [
       "<Figure size 1000x600 with 1 Axes>"
      ]
     },
     "metadata": {},
     "output_type": "display_data"
    }
   ],
   "source": [
    "def lr():\n",
    "    # Model configuration\n",
    "    model_config = {\n",
    "        \"hidden_size\": 32,        # Increased capacity\n",
    "        \"output_scale\": 100.0,\n",
    "        \"window_size\": 20,\n",
    "        \"batch_size\": 128,        # Smaller for better generalization\n",
    "        \"shuffle_buffer\": 1000,\n",
    "        \"epochs\": 150,           # More training time\n",
    "        \"steps_per_epoch\": len(train_dataset),\n",
    "        \"init_learning_rate\": 6e-7,\n",
    "        \"final_learning_rate\": 1.2e-6,\n",
    "        \"weight_decay\": 1.5e-5,\n",
    "        \"mse_weight\": 0.8\n",
    "    }\n",
    "    model = SpotBiLSTM(model_config, device)\n",
    "\n",
    "    log_lrs, losses = find_lr(model, train_loader, model_config, device)\n",
    "\n",
    "    # Plot results\n",
    "    plt.figure(figsize=(10, 6))\n",
    "    plt.grid(True)\n",
    "    plt.semilogx(10**np.array(log_lrs), losses)\n",
    "    plt.tick_params('both', length=10, width=1, which='both')\n",
    "    plt.xlabel('Learning Rate')\n",
    "    plt.ylabel('Loss')\n",
    "    plt.axis([model_config[\"init_learning_rate\"], model_config[\"final_learning_rate\"], 0, 10])\n",
    "    plt.show()\n",
    "    \n",
    "lr()"
   ]
  },
  {
   "cell_type": "markdown",
   "metadata": {},
   "source": [
    "### Model Training with Selected Learning Rate"
   ]
  },
  {
   "cell_type": "code",
   "execution_count": null,
   "metadata": {},
   "outputs": [
    {
     "name": "stderr",
     "output_type": "stream",
     "text": [
      "/Users/adf/.pyenv/versions/miniforge3-22.9.0-3/lib/python3.10/site-packages/torch/amp/grad_scaler.py:132: UserWarning: torch.cuda.amp.GradScaler is enabled, but CUDA is not available.  Disabling.\n",
      "  warnings.warn(\n"
     ]
    },
    {
     "name": "stdout",
     "output_type": "stream",
     "text": [
      "\n",
      "==================================================\n",
      "Training for 100 epochs\n",
      "==================================================\n",
      "\n"
     ]
    },
    {
     "name": "stderr",
     "output_type": "stream",
     "text": [
      "                                                                                                                \r"
     ]
    },
    {
     "name": "stdout",
     "output_type": "stream",
     "text": [
      "Epoch 1/100\n",
      "├─ Train Loss: 0.021146\n",
      "├─ Val Loss: 0.005914\n",
      "├─ Learning Rate: 1.00e-03\n",
      "└─ Gradient Norm: 33.25\n",
      "\n"
     ]
    },
    {
     "name": "stderr",
     "output_type": "stream",
     "text": [
      "                                                                                                               \r"
     ]
    },
    {
     "name": "stdout",
     "output_type": "stream",
     "text": [
      "Epoch 2/100\n",
      "├─ Train Loss: 0.010177\n",
      "├─ Val Loss: 0.006493\n",
      "├─ Learning Rate: 1.00e-03\n",
      "└─ Gradient Norm: 5.86\n",
      "\n"
     ]
    },
    {
     "name": "stderr",
     "output_type": "stream",
     "text": [
      "                                                                                                               \r"
     ]
    },
    {
     "name": "stdout",
     "output_type": "stream",
     "text": [
      "Epoch 3/100\n",
      "├─ Train Loss: 0.009240\n",
      "├─ Val Loss: 0.004796\n",
      "├─ Learning Rate: 1.00e-03\n",
      "└─ Gradient Norm: 14.60\n",
      "\n"
     ]
    },
    {
     "name": "stderr",
     "output_type": "stream",
     "text": [
      "                                                                                                               \r"
     ]
    },
    {
     "name": "stdout",
     "output_type": "stream",
     "text": [
      "Epoch 4/100\n",
      "├─ Train Loss: 0.008688\n",
      "├─ Val Loss: 0.008391\n",
      "├─ Learning Rate: 1.00e-03\n",
      "└─ Gradient Norm: 38.16\n",
      "\n"
     ]
    },
    {
     "name": "stderr",
     "output_type": "stream",
     "text": [
      "                                                                                                               \r"
     ]
    },
    {
     "name": "stdout",
     "output_type": "stream",
     "text": [
      "Epoch 5/100\n",
      "├─ Train Loss: 0.008020\n",
      "├─ Val Loss: 0.027497\n",
      "├─ Learning Rate: 1.00e-03\n",
      "└─ Gradient Norm: 39.64\n",
      "\n"
     ]
    },
    {
     "name": "stderr",
     "output_type": "stream",
     "text": [
      "                                                                                                               \r"
     ]
    },
    {
     "name": "stdout",
     "output_type": "stream",
     "text": [
      "Epoch 6/100\n",
      "├─ Train Loss: 0.007804\n",
      "├─ Val Loss: 0.010930\n",
      "├─ Learning Rate: 1.00e-03\n",
      "└─ Gradient Norm: 8.45\n",
      "\n"
     ]
    },
    {
     "name": "stderr",
     "output_type": "stream",
     "text": [
      "                                                                                                               \r"
     ]
    },
    {
     "name": "stdout",
     "output_type": "stream",
     "text": [
      "Epoch 7/100\n",
      "├─ Train Loss: 0.007537\n",
      "├─ Val Loss: 0.009796\n",
      "├─ Learning Rate: 1.00e-03\n",
      "└─ Gradient Norm: 30.59\n",
      "\n"
     ]
    },
    {
     "name": "stderr",
     "output_type": "stream",
     "text": [
      "                                                                                                               \r"
     ]
    },
    {
     "name": "stdout",
     "output_type": "stream",
     "text": [
      "Epoch 8/100\n",
      "├─ Train Loss: 0.007168\n",
      "├─ Val Loss: 0.008685\n",
      "├─ Learning Rate: 1.00e-03\n",
      "└─ Gradient Norm: 33.80\n",
      "\n"
     ]
    },
    {
     "name": "stderr",
     "output_type": "stream",
     "text": [
      "                                                                                                               \r"
     ]
    },
    {
     "name": "stdout",
     "output_type": "stream",
     "text": [
      "Epoch 9/100\n",
      "├─ Train Loss: 0.006860\n",
      "├─ Val Loss: 0.008487\n",
      "├─ Learning Rate: 1.00e-03\n",
      "└─ Gradient Norm: 34.24\n",
      "\n"
     ]
    },
    {
     "name": "stderr",
     "output_type": "stream",
     "text": [
      "                                                                                                                \r"
     ]
    },
    {
     "name": "stdout",
     "output_type": "stream",
     "text": [
      "Epoch 10/100\n",
      "├─ Train Loss: 0.006848\n",
      "├─ Val Loss: 0.007984\n",
      "├─ Learning Rate: 1.00e-03\n",
      "└─ Gradient Norm: 22.92\n",
      "\n"
     ]
    },
    {
     "name": "stderr",
     "output_type": "stream",
     "text": [
      "                                                                                                                \r"
     ]
    },
    {
     "name": "stdout",
     "output_type": "stream",
     "text": [
      "Epoch 11/100\n",
      "├─ Train Loss: 0.006512\n",
      "├─ Val Loss: 0.005994\n",
      "├─ Learning Rate: 1.00e-03\n",
      "└─ Gradient Norm: 32.12\n",
      "\n"
     ]
    },
    {
     "name": "stderr",
     "output_type": "stream",
     "text": [
      "                                                                                                                \r"
     ]
    },
    {
     "name": "stdout",
     "output_type": "stream",
     "text": [
      "Epoch 12/100\n",
      "├─ Train Loss: 0.006280\n",
      "├─ Val Loss: 0.002960\n",
      "├─ Learning Rate: 1.00e-03\n",
      "└─ Gradient Norm: 31.84\n",
      "\n"
     ]
    },
    {
     "name": "stderr",
     "output_type": "stream",
     "text": [
      "                                                                                                                \r"
     ]
    },
    {
     "name": "stdout",
     "output_type": "stream",
     "text": [
      "Epoch 13/100\n",
      "├─ Train Loss: 0.006753\n",
      "├─ Val Loss: 0.005363\n",
      "├─ Learning Rate: 1.00e-03\n",
      "└─ Gradient Norm: 32.72\n",
      "\n"
     ]
    },
    {
     "name": "stderr",
     "output_type": "stream",
     "text": [
      "                                                                                                                \r"
     ]
    },
    {
     "name": "stdout",
     "output_type": "stream",
     "text": [
      "Epoch 14/100\n",
      "├─ Train Loss: 0.006311\n",
      "├─ Val Loss: 0.003999\n",
      "├─ Learning Rate: 1.00e-03\n",
      "└─ Gradient Norm: 32.69\n",
      "\n"
     ]
    },
    {
     "name": "stderr",
     "output_type": "stream",
     "text": [
      "                                                                                                                \r"
     ]
    },
    {
     "name": "stdout",
     "output_type": "stream",
     "text": [
      "Epoch 15/100\n",
      "├─ Train Loss: 0.006057\n",
      "├─ Val Loss: 0.003514\n",
      "├─ Learning Rate: 1.00e-03\n",
      "└─ Gradient Norm: 31.68\n",
      "\n"
     ]
    },
    {
     "name": "stderr",
     "output_type": "stream",
     "text": [
      "                                                                                                                \r"
     ]
    },
    {
     "name": "stdout",
     "output_type": "stream",
     "text": [
      "Epoch 16/100\n",
      "├─ Train Loss: 0.006581\n",
      "├─ Val Loss: 0.007665\n",
      "├─ Learning Rate: 1.00e-03\n",
      "└─ Gradient Norm: 11.51\n",
      "\n"
     ]
    },
    {
     "name": "stderr",
     "output_type": "stream",
     "text": [
      "                                                                                                                \r"
     ]
    },
    {
     "name": "stdout",
     "output_type": "stream",
     "text": [
      "Epoch 17/100\n",
      "├─ Train Loss: 0.005768\n",
      "├─ Val Loss: 0.003426\n",
      "├─ Learning Rate: 1.00e-03\n",
      "└─ Gradient Norm: 10.97\n",
      "\n"
     ]
    },
    {
     "name": "stderr",
     "output_type": "stream",
     "text": [
      "                                                                                                                \r"
     ]
    },
    {
     "name": "stdout",
     "output_type": "stream",
     "text": [
      "Epoch 18/100\n",
      "├─ Train Loss: 0.005964\n",
      "├─ Val Loss: 0.008836\n",
      "├─ Learning Rate: 1.00e-03\n",
      "└─ Gradient Norm: 32.48\n",
      "\n"
     ]
    },
    {
     "name": "stderr",
     "output_type": "stream",
     "text": [
      "                                                                                                                \r"
     ]
    },
    {
     "name": "stdout",
     "output_type": "stream",
     "text": [
      "Epoch 19/100\n",
      "├─ Train Loss: 0.005787\n",
      "├─ Val Loss: 0.006648\n",
      "├─ Learning Rate: 1.00e-03\n",
      "└─ Gradient Norm: 32.22\n",
      "\n"
     ]
    },
    {
     "name": "stderr",
     "output_type": "stream",
     "text": [
      "                                                                                                                 \r"
     ]
    },
    {
     "name": "stdout",
     "output_type": "stream",
     "text": [
      "Epoch 20/100\n",
      "├─ Train Loss: 0.006041\n",
      "├─ Val Loss: 0.011842\n",
      "├─ Learning Rate: 1.00e-03\n",
      "└─ Gradient Norm: 32.87\n",
      "\n"
     ]
    },
    {
     "name": "stderr",
     "output_type": "stream",
     "text": [
      "                                                                                                                \r"
     ]
    },
    {
     "name": "stdout",
     "output_type": "stream",
     "text": [
      "Epoch 21/100\n",
      "├─ Train Loss: 0.006080\n",
      "├─ Val Loss: 0.005331\n",
      "├─ Learning Rate: 1.00e-03\n",
      "└─ Gradient Norm: 26.91\n",
      "\n"
     ]
    },
    {
     "name": "stderr",
     "output_type": "stream",
     "text": [
      "                                                                                                                \r"
     ]
    },
    {
     "name": "stdout",
     "output_type": "stream",
     "text": [
      "Epoch 22/100\n",
      "├─ Train Loss: 0.005936\n",
      "├─ Val Loss: 0.003707\n",
      "├─ Learning Rate: 1.00e-03\n",
      "└─ Gradient Norm: 31.10\n",
      "\n"
     ]
    },
    {
     "name": "stderr",
     "output_type": "stream",
     "text": [
      "                                                                                                                \r"
     ]
    },
    {
     "name": "stdout",
     "output_type": "stream",
     "text": [
      "Epoch 23/100\n",
      "├─ Train Loss: 0.006207\n",
      "├─ Val Loss: 0.004850\n",
      "├─ Learning Rate: 1.00e-03\n",
      "└─ Gradient Norm: 14.55\n",
      "\n"
     ]
    },
    {
     "name": "stderr",
     "output_type": "stream",
     "text": [
      "                                                                                                                \r"
     ]
    },
    {
     "name": "stdout",
     "output_type": "stream",
     "text": [
      "Epoch 24/100\n",
      "├─ Train Loss: 0.005818\n",
      "├─ Val Loss: 0.012851\n",
      "├─ Learning Rate: 1.00e-03\n",
      "└─ Gradient Norm: 35.30\n",
      "\n"
     ]
    },
    {
     "name": "stderr",
     "output_type": "stream",
     "text": [
      "                                                                                                                \r"
     ]
    },
    {
     "name": "stdout",
     "output_type": "stream",
     "text": [
      "Epoch 25/100\n",
      "├─ Train Loss: 0.005981\n",
      "├─ Val Loss: 0.002199\n",
      "├─ Learning Rate: 1.00e-03\n",
      "└─ Gradient Norm: 30.32\n",
      "\n"
     ]
    },
    {
     "name": "stderr",
     "output_type": "stream",
     "text": [
      "                                                                                                                \r"
     ]
    },
    {
     "name": "stdout",
     "output_type": "stream",
     "text": [
      "Epoch 26/100\n",
      "├─ Train Loss: 0.005605\n",
      "├─ Val Loss: 0.002535\n",
      "├─ Learning Rate: 1.00e-03\n",
      "└─ Gradient Norm: 10.45\n",
      "\n"
     ]
    },
    {
     "name": "stderr",
     "output_type": "stream",
     "text": [
      "                                                                                                                \r"
     ]
    },
    {
     "name": "stdout",
     "output_type": "stream",
     "text": [
      "Epoch 27/100\n",
      "├─ Train Loss: 0.005839\n",
      "├─ Val Loss: 0.003522\n",
      "├─ Learning Rate: 1.00e-03\n",
      "└─ Gradient Norm: 34.32\n",
      "\n"
     ]
    },
    {
     "name": "stderr",
     "output_type": "stream",
     "text": [
      "                                                                                                                \r"
     ]
    },
    {
     "name": "stdout",
     "output_type": "stream",
     "text": [
      "Epoch 28/100\n",
      "├─ Train Loss: 0.006218\n",
      "├─ Val Loss: 0.005265\n",
      "├─ Learning Rate: 1.00e-03\n",
      "└─ Gradient Norm: 27.52\n",
      "\n"
     ]
    },
    {
     "name": "stderr",
     "output_type": "stream",
     "text": [
      "                                                                                                                \r"
     ]
    },
    {
     "name": "stdout",
     "output_type": "stream",
     "text": [
      "Epoch 29/100\n",
      "├─ Train Loss: 0.005577\n",
      "├─ Val Loss: 0.007782\n",
      "├─ Learning Rate: 1.00e-03\n",
      "└─ Gradient Norm: 32.07\n",
      "\n"
     ]
    },
    {
     "name": "stderr",
     "output_type": "stream",
     "text": [
      "                                                                                                                \r"
     ]
    },
    {
     "name": "stdout",
     "output_type": "stream",
     "text": [
      "Epoch 30/100\n",
      "├─ Train Loss: 0.005706\n",
      "├─ Val Loss: 0.003287\n",
      "├─ Learning Rate: 1.00e-03\n",
      "└─ Gradient Norm: 24.99\n",
      "\n"
     ]
    },
    {
     "name": "stderr",
     "output_type": "stream",
     "text": [
      "                                                                                                                \r"
     ]
    },
    {
     "name": "stdout",
     "output_type": "stream",
     "text": [
      "Epoch 31/100\n",
      "├─ Train Loss: 0.005185\n",
      "├─ Val Loss: 0.005930\n",
      "├─ Learning Rate: 1.00e-03\n",
      "└─ Gradient Norm: 21.48\n",
      "\n"
     ]
    },
    {
     "name": "stderr",
     "output_type": "stream",
     "text": [
      "                                                                                                                \r"
     ]
    },
    {
     "name": "stdout",
     "output_type": "stream",
     "text": [
      "Epoch 32/100\n",
      "├─ Train Loss: 0.005410\n",
      "├─ Val Loss: 0.002168\n",
      "├─ Learning Rate: 1.00e-03\n",
      "└─ Gradient Norm: 23.08\n",
      "\n"
     ]
    },
    {
     "name": "stderr",
     "output_type": "stream",
     "text": [
      "                                                                                                                \r"
     ]
    },
    {
     "name": "stdout",
     "output_type": "stream",
     "text": [
      "Epoch 33/100\n",
      "├─ Train Loss: 0.005071\n",
      "├─ Val Loss: 0.007717\n",
      "├─ Learning Rate: 1.00e-03\n",
      "└─ Gradient Norm: 33.00\n",
      "\n"
     ]
    },
    {
     "name": "stderr",
     "output_type": "stream",
     "text": [
      "                                                                                                                \r"
     ]
    },
    {
     "name": "stdout",
     "output_type": "stream",
     "text": [
      "Epoch 34/100\n",
      "├─ Train Loss: 0.005555\n",
      "├─ Val Loss: 0.001818\n",
      "├─ Learning Rate: 1.00e-03\n",
      "└─ Gradient Norm: 31.58\n",
      "\n"
     ]
    },
    {
     "name": "stderr",
     "output_type": "stream",
     "text": [
      "                                                                                                                \r"
     ]
    },
    {
     "name": "stdout",
     "output_type": "stream",
     "text": [
      "Epoch 35/100\n",
      "├─ Train Loss: 0.006172\n",
      "├─ Val Loss: 0.004105\n",
      "├─ Learning Rate: 1.00e-03\n",
      "└─ Gradient Norm: 10.72\n",
      "\n"
     ]
    },
    {
     "name": "stderr",
     "output_type": "stream",
     "text": [
      "                                                                                                                \r"
     ]
    },
    {
     "name": "stdout",
     "output_type": "stream",
     "text": [
      "Epoch 36/100\n",
      "├─ Train Loss: 0.005494\n",
      "├─ Val Loss: 0.005367\n",
      "├─ Learning Rate: 1.00e-03\n",
      "└─ Gradient Norm: 32.58\n",
      "\n"
     ]
    },
    {
     "name": "stderr",
     "output_type": "stream",
     "text": [
      "                                                                                                                \r"
     ]
    },
    {
     "name": "stdout",
     "output_type": "stream",
     "text": [
      "Epoch 37/100\n",
      "├─ Train Loss: 0.005531\n",
      "├─ Val Loss: 0.003430\n",
      "├─ Learning Rate: 1.00e-03\n",
      "└─ Gradient Norm: 27.59\n",
      "\n"
     ]
    },
    {
     "name": "stderr",
     "output_type": "stream",
     "text": [
      "                                                                                                                \r"
     ]
    },
    {
     "name": "stdout",
     "output_type": "stream",
     "text": [
      "Epoch 38/100\n",
      "├─ Train Loss: 0.005653\n",
      "├─ Val Loss: 0.001968\n",
      "├─ Learning Rate: 1.00e-03\n",
      "└─ Gradient Norm: 32.89\n",
      "\n"
     ]
    },
    {
     "name": "stderr",
     "output_type": "stream",
     "text": [
      "                                                                                                                \r"
     ]
    },
    {
     "name": "stdout",
     "output_type": "stream",
     "text": [
      "Epoch 39/100\n",
      "├─ Train Loss: 0.005714\n",
      "├─ Val Loss: 0.010109\n",
      "├─ Learning Rate: 1.00e-03\n",
      "└─ Gradient Norm: 30.06\n",
      "\n"
     ]
    },
    {
     "name": "stderr",
     "output_type": "stream",
     "text": [
      "                                                                                                                \r"
     ]
    },
    {
     "name": "stdout",
     "output_type": "stream",
     "text": [
      "Epoch 40/100\n",
      "├─ Train Loss: 0.005723\n",
      "├─ Val Loss: 0.009665\n",
      "├─ Learning Rate: 1.00e-03\n",
      "└─ Gradient Norm: 15.87\n",
      "\n"
     ]
    },
    {
     "name": "stderr",
     "output_type": "stream",
     "text": [
      "                                                                                                                \r"
     ]
    },
    {
     "name": "stdout",
     "output_type": "stream",
     "text": [
      "Epoch 41/100\n",
      "├─ Train Loss: 0.005746\n",
      "├─ Val Loss: 0.002112\n",
      "├─ Learning Rate: 1.00e-03\n",
      "└─ Gradient Norm: 27.49\n",
      "\n"
     ]
    },
    {
     "name": "stderr",
     "output_type": "stream",
     "text": [
      "                                                                                                                \r"
     ]
    },
    {
     "name": "stdout",
     "output_type": "stream",
     "text": [
      "Epoch 42/100\n",
      "├─ Train Loss: 0.005391\n",
      "├─ Val Loss: 0.005147\n",
      "├─ Learning Rate: 1.00e-03\n",
      "└─ Gradient Norm: 31.38\n",
      "\n"
     ]
    },
    {
     "name": "stderr",
     "output_type": "stream",
     "text": [
      "                                                                                                                \r"
     ]
    },
    {
     "name": "stdout",
     "output_type": "stream",
     "text": [
      "Epoch 43/100\n",
      "├─ Train Loss: 0.005416\n",
      "├─ Val Loss: 0.010313\n",
      "├─ Learning Rate: 1.00e-03\n",
      "└─ Gradient Norm: 35.67\n",
      "\n"
     ]
    },
    {
     "name": "stderr",
     "output_type": "stream",
     "text": [
      "                                                                                                                \r"
     ]
    },
    {
     "name": "stdout",
     "output_type": "stream",
     "text": [
      "Epoch 44/100\n",
      "├─ Train Loss: 0.004893\n",
      "├─ Val Loss: 0.006175\n",
      "├─ Learning Rate: 1.00e-03\n",
      "└─ Gradient Norm: 34.80\n",
      "\n"
     ]
    },
    {
     "name": "stderr",
     "output_type": "stream",
     "text": [
      "                                                                                                                \r"
     ]
    },
    {
     "name": "stdout",
     "output_type": "stream",
     "text": [
      "Epoch 45/100\n",
      "├─ Train Loss: 0.005499\n",
      "├─ Val Loss: 0.001310\n",
      "├─ Learning Rate: 1.00e-03\n",
      "└─ Gradient Norm: 30.47\n",
      "\n"
     ]
    },
    {
     "name": "stderr",
     "output_type": "stream",
     "text": [
      "                                                                                                                \r"
     ]
    },
    {
     "name": "stdout",
     "output_type": "stream",
     "text": [
      "Epoch 46/100\n",
      "├─ Train Loss: 0.005510\n",
      "├─ Val Loss: 0.003796\n",
      "├─ Learning Rate: 1.00e-03\n",
      "└─ Gradient Norm: 32.45\n",
      "\n"
     ]
    },
    {
     "name": "stderr",
     "output_type": "stream",
     "text": [
      "                                                                                                                 \r"
     ]
    },
    {
     "name": "stdout",
     "output_type": "stream",
     "text": [
      "Epoch 47/100\n",
      "├─ Train Loss: 0.005489\n",
      "├─ Val Loss: 0.007501\n",
      "├─ Learning Rate: 1.00e-03\n",
      "└─ Gradient Norm: 35.49\n",
      "\n"
     ]
    },
    {
     "name": "stderr",
     "output_type": "stream",
     "text": [
      "                                                                                                                \r"
     ]
    },
    {
     "name": "stdout",
     "output_type": "stream",
     "text": [
      "Epoch 48/100\n",
      "├─ Train Loss: 0.005961\n",
      "├─ Val Loss: 0.007079\n",
      "├─ Learning Rate: 1.00e-03\n",
      "└─ Gradient Norm: 29.72\n",
      "\n"
     ]
    },
    {
     "name": "stderr",
     "output_type": "stream",
     "text": [
      "                                                                                                                \r"
     ]
    },
    {
     "name": "stdout",
     "output_type": "stream",
     "text": [
      "Epoch 49/100\n",
      "├─ Train Loss: 0.005223\n",
      "├─ Val Loss: 0.002734\n",
      "├─ Learning Rate: 1.00e-03\n",
      "└─ Gradient Norm: 32.83\n",
      "\n"
     ]
    },
    {
     "name": "stderr",
     "output_type": "stream",
     "text": [
      "Epoch 50/100:  76%|███████▌  | 29849/39186 [05:45<02:24, 64.74it/s, loss=0.003738, lr=1.00e-03, grad_norm=31.73]"
     ]
    }
   ],
   "source": [
    "model_config = {\n",
    "    \"hidden_size\": 64,\n",
    "    \"n_layers\": 2,\n",
    "    \"output_scale\": 100.0,\n",
    "    \"window_size\": 20,\n",
    "    \"batch_size\": 128,\n",
    "    \"shuffle_buffer\": 1000,\n",
    "    \"epochs\": 100,\n",
    "    \"learning_rate\": 6.00e-07,\n",
    "    \"steps_per_epoch\": len(train_loader),\n",
    "    \"weight_decay\": 1e-5\n",
    "}\n",
    "model = SpotBiLSTM(model_config, device)\n",
    "history = train_model(model, train_loader, model_config, device, val_loader)"
   ]
  },
  {
   "cell_type": "code",
   "execution_count": 3,
   "metadata": {},
   "outputs": [
    {
     "ename": "NameError",
     "evalue": "name 'history' is not defined",
     "output_type": "error",
     "traceback": [
      "\u001b[0;31m---------------------------------------------------------------------------\u001b[0m",
      "\u001b[0;31mNameError\u001b[0m                                 Traceback (most recent call last)",
      "Cell \u001b[0;32mIn[3], line 5\u001b[0m\n\u001b[1;32m      3\u001b[0m plt\u001b[38;5;241m.\u001b[39mfigure(figsize\u001b[38;5;241m=\u001b[39m(\u001b[38;5;241m10\u001b[39m, \u001b[38;5;241m6\u001b[39m))\n\u001b[1;32m      4\u001b[0m plt\u001b[38;5;241m.\u001b[39mgrid(\u001b[38;5;28;01mTrue\u001b[39;00m)\n\u001b[0;32m----> 5\u001b[0m plt\u001b[38;5;241m.\u001b[39mplot(\u001b[43mhistory\u001b[49m[\u001b[38;5;124m'\u001b[39m\u001b[38;5;124mloss\u001b[39m\u001b[38;5;124m'\u001b[39m])\n\u001b[1;32m      6\u001b[0m plt\u001b[38;5;241m.\u001b[39mxlabel(\u001b[38;5;124m'\u001b[39m\u001b[38;5;124mEpoch\u001b[39m\u001b[38;5;124m'\u001b[39m)\n\u001b[1;32m      7\u001b[0m plt\u001b[38;5;241m.\u001b[39mylabel(\u001b[38;5;124m'\u001b[39m\u001b[38;5;124mLoss\u001b[39m\u001b[38;5;124m'\u001b[39m)\n",
      "\u001b[0;31mNameError\u001b[0m: name 'history' is not defined"
     ]
    },
    {
     "data": {
      "text/plain": [
       "<Figure size 1000x600 with 0 Axes>"
      ]
     },
     "metadata": {},
     "output_type": "display_data"
    },
    {
     "data": {
      "image/png": "[encoded data removed]",
      "text/plain": [
       "<Figure size 1000x600 with 1 Axes>"
      ]
     },
     "metadata": {},
     "output_type": "display_data"
    }
   ],
   "source": [
    "# Plot training loss\n",
    "plt.figure(figsize=(10, 6))\n",
    "plt.figure(figsize=(10, 6))\n",
    "plt.grid(True)\n",
    "plt.plot(history['loss'])\n",
    "plt.xlabel('Epoch')\n",
    "plt.ylabel('Loss')\n",
    "plt.title('Training Loss')\n",
    "plt.show()"
   ]
  },
  {
   "cell_type": "markdown",
   "metadata": {},
   "source": [
    "### Model Evaluation"
   ]
  },
  {
   "cell_type": "code",
   "execution_count": 2,
   "metadata": {},
   "outputs": [],
   "source": [
    "# test_dataset = SpotPriceDataset(test_df, dataset_config, device)\n",
    "\n",
    "# # Generate predictions\n",
    "# forecast_series = series[split_time-config[\"window_size\"]:-1]\n",
    "# forecast = model_forecast(model, forecast_series, config[\"window_size\"], config[\"batch_size\"])\n",
    "\n",
    "# # Plot results\n",
    "# plt.figure(figsize=(10, 6))\n",
    "# plt.plot(time_valid, x_valid, label='Actual')\n",
    "# plt.plot(time_valid, forecast, label='Forecast')\n",
    "# plt.legend()\n",
    "# plt.grid(True)\n",
    "# plt.show()\n",
    "\n",
    "# # Calculate metrics\n",
    "# mse = ((forecast - x_valid) ** 2).mean()\n",
    "# print(f'MSE: {mse:.6f}')\n",
    "# print(f'MAE: {mae:.6f}')"
   ]
  }
 ],
 "metadata": {
  "kernelspec": {
   "display_name": "base",
   "language": "python",
   "name": "python3"
  },
  "language_info": {
   "codemirror_mode": {
    "name": "ipython",
    "version": 3
   },
   "file_extension": ".py",
   "mimetype": "text/x-python",
   "name": "python",
   "nbconvert_exporter": "python",
   "pygments_lexer": "ipython3",
   "version": "3.10.8"
  }
 },
 "nbformat": 4,
 "nbformat_minor": 2
}
