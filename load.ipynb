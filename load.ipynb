{
 "cells": [
  {
   "cell_type": "code",
   "execution_count": null,
   "metadata": {},
   "outputs": [],
   "source": [
    "from datetime import datetime\n",
    "import os\n",
    "\n",
    "from dataset import LoadSpotDataset\n",
    "from utils import get_name"
   ]
  },
  {
   "cell_type": "markdown",
   "metadata": {},
   "source": [
    "# Set up model directory structure"
   ]
  },
  {
   "cell_type": "code",
   "execution_count": null,
   "metadata": {},
   "outputs": [],
   "source": [
    "DIR = \"_models/\" + get_name()\n",
    "os.makedirs(DIR + \"/data\", exist_ok=True)\n",
    "\n",
    "os.system(f\"cp config.yaml {DIR}\")"
   ]
  },
  {
   "cell_type": "code",
   "execution_count": null,
   "metadata": {},
   "outputs": [],
   "source": [
    "lsd = LoadSpotDataset(f\"{DIR}/config.yaml\")\n",
    "\n",
    "prices_df, instance_info_df = lsd.load_data()"
   ]
  },
  {
   "cell_type": "code",
   "execution_count": null,
   "metadata": {},
   "outputs": [],
   "source": [
    "train_df, val_df, test_df = lsd.get_training_validation_test_split(\n",
    "    prices_df, train_ratio=0.7, val_ratio=0.15\n",
    ")"
   ]
  },
  {
   "cell_type": "code",
   "execution_count": null,
   "metadata": {},
   "outputs": [],
   "source": [
    "# Save dataframes to model-specific directory\n",
    "prices_df.to_pickle(f\"{DIR}/data/prices_df.pkl\")\n",
    "instance_info_df.to_pickle(f\"{DIR}/data/instance_info_df.pkl\")\n",
    "\n",
    "train_df.to_pickle(f\"{DIR}/data/train_df.pkl\")\n",
    "val_df.to_pickle(f\"{DIR}/data/val_df.pkl\")\n",
    "test_df.to_pickle(f\"{DIR}/data/test_df.pkl\")\n",
    "\n",
    "print(f\"Data saved to {DIR}\")\n",
    "print(f\"Created on {datetime.now()}\")"
   ]
  },
  {
   "cell_type": "markdown",
   "metadata": {},
   "source": [
    "# Information on dataframes"
   ]
  },
  {
   "cell_type": "code",
   "execution_count": null,
   "metadata": {},
   "outputs": [],
   "source": [
    "def display_df_stats(df, name):\n",
    "    \"\"\"Helper function to display DataFrame statistics\"\"\"\n",
    "    print(f\"\\n=== {name} Statistics ===\")\n",
    "    print(\"\\nShape:\", df.shape)\n",
    "    print(\"\\nInfo:\")\n",
    "    df.info()\n",
    "    print(\"\\nSample Data:\")\n",
    "    display(df.head())\n",
    "    if \"price_timestamp\" in df.columns:\n",
    "        start_date = df[\"price_timestamp\"].min()\n",
    "        end_date = df[\"price_timestamp\"].max()\n",
    "        days = (end_date - start_date).days\n",
    "        print(f\"\\nDate Range: {start_date} to {end_date} ({days} days)\")"
   ]
  },
  {
   "cell_type": "code",
   "execution_count": null,
   "metadata": {},
   "outputs": [],
   "source": [
    "# Get start and end dates for train_df\n",
    "train_start_date = train_df[\"price_timestamp\"].min()\n",
    "train_end_date = train_df[\"price_timestamp\"].max()\n",
    "train_days = (train_end_date - train_start_date).days\n",
    "\n",
    "# Get start and end dates for val_df\n",
    "val_start_date = val_df[\"price_timestamp\"].min()\n",
    "val_end_date = val_df[\"price_timestamp\"].max()\n",
    "val_days = (val_end_date - val_start_date).days\n",
    "\n",
    "# Get start and end dates for test_df\n",
    "test_start_date = test_df[\"price_timestamp\"].min()\n",
    "test_end_date = test_df[\"price_timestamp\"].max()\n",
    "test_days = (test_end_date - test_start_date).days\n",
    "\n",
    "print(\n",
    "    f\"Train DataFrame: Start Date = {train_start_date}, End Date = {train_end_date}, Number of Days = {train_days}\"\n",
    ")\n",
    "print(\n",
    "    f\"Validation DataFrame: Start Date = {val_start_date}, End Date = {val_end_date}, Number of Days = {val_days}\"\n",
    ")\n",
    "print(\n",
    "    f\"Test DataFrame: Start Date = {test_start_date}, End Date = {test_end_date}, Number of Days = {test_days}\"\n",
    ")"
   ]
  },
  {
   "cell_type": "markdown",
   "metadata": {},
   "source": [
    "## All prices dataframe"
   ]
  },
  {
   "cell_type": "code",
   "execution_count": null,
   "metadata": {},
   "outputs": [],
   "source": [
    "display_df_stats(prices_df, \"Prices DataFrame\")"
   ]
  },
  {
   "cell_type": "markdown",
   "metadata": {},
   "source": [
    "## Instance info dataframe"
   ]
  },
  {
   "cell_type": "code",
   "execution_count": null,
   "metadata": {},
   "outputs": [],
   "source": [
    "display_df_stats(instance_info_df, \"Instance Info DataFrame\")"
   ]
  },
  {
   "cell_type": "markdown",
   "metadata": {},
   "source": [
    "## Training dataframe"
   ]
  },
  {
   "cell_type": "code",
   "execution_count": null,
   "metadata": {},
   "outputs": [],
   "source": [
    "display_df_stats(train_df, \"Training Set\")"
   ]
  },
  {
   "cell_type": "markdown",
   "metadata": {},
   "source": [
    "## Validation dataframe"
   ]
  },
  {
   "cell_type": "code",
   "execution_count": null,
   "metadata": {},
   "outputs": [],
   "source": [
    "display_df_stats(val_df, \"Validation Set\")"
   ]
  },
  {
   "cell_type": "markdown",
   "metadata": {},
   "source": [
    "## Test dataframe"
   ]
  },
  {
   "cell_type": "code",
   "execution_count": null,
   "metadata": {},
   "outputs": [],
   "source": [
    "display_df_stats(test_df, \"Test Set\")"
   ]
  }
 ],
 "metadata": {
  "kernelspec": {
   "display_name": "base",
   "language": "python",
   "name": "python3"
  },
  "language_info": {
   "codemirror_mode": {
    "name": "ipython",
    "version": 3
   },
   "file_extension": ".py",
   "mimetype": "text/x-python",
   "name": "python",
   "nbconvert_exporter": "python",
   "pygments_lexer": "ipython3",
   "version": "3.10.8"
  }
 },
 "nbformat": 4,
 "nbformat_minor": 2
}
