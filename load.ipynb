{
 "cells": [
  {
   "cell_type": "code",
   "execution_count": 1,
   "metadata": {},
   "outputs": [],
   "source": [
    "from datetime import datetime\n",
    "\n",
    "from dataset import LoadSpotDataset"
   ]
  },
  {
   "cell_type": "markdown",
   "metadata": {},
   "source": [
    "# Data loading"
   ]
  },
  {
   "cell_type": "code",
   "execution_count": 2,
   "metadata": {},
   "outputs": [],
   "source": [
    "lsd = LoadSpotDataset(\"config.yaml\", \"data\")\n",
    "\n",
    "prices_df, instance_info_df = lsd.load_data()"
   ]
  },
  {
   "cell_type": "code",
   "execution_count": 3,
   "metadata": {},
   "outputs": [],
   "source": [
    "# Modifications performed to the dataframes (cuts, etc)\n",
    "\n",
    "compute_instances = instance_info_df[\n",
    "    (instance_info_df[\"instance_family\"] == \"c\")\n",
    "    & (~instance_info_df[\"size\"].str.contains(\"metal\"))\n",
    "].index\n",
    "prices_df = prices_df[prices_df[\"id_instance\"].isin(compute_instances)]\n",
    "prices_df = prices_df[prices_df[\"id_instance\"] == 48207]"
   ]
  },
  {
   "cell_type": "code",
   "execution_count": 4,
   "metadata": {},
   "outputs": [],
   "source": [
    "train_df, val_df, test_df = lsd.get_training_validation_test_split(\n",
    "    prices_df, train_ratio=0.7, val_ratio=0.15\n",
    ")"
   ]
  },
  {
   "cell_type": "code",
   "execution_count": 5,
   "metadata": {},
   "outputs": [
    {
     "name": "stdout",
     "output_type": "stream",
     "text": [
      "Created on 2025-02-13 16:04:40.143671\n"
     ]
    }
   ],
   "source": [
    "prices_df.to_pickle(\"data/prices_df.pkl\")\n",
    "instance_info_df.to_pickle(\"data/instance_info_df.pkl\")\n",
    "\n",
    "train_df.to_pickle(\"data/train_df.pkl\")\n",
    "val_df.to_pickle(\"data/val_df.pkl\")\n",
    "test_df.to_pickle(\"data/test_df.pkl\")\n",
    "\n",
    "print(f\"Created on {datetime.now()}\")"
   ]
  },
  {
   "cell_type": "markdown",
   "metadata": {},
   "source": [
    "# Information on dataframes"
   ]
  },
  {
   "cell_type": "code",
   "execution_count": 6,
   "metadata": {},
   "outputs": [],
   "source": [
    "def display_df_stats(df, name):\n",
    "    \"\"\"Helper function to display DataFrame statistics\"\"\"\n",
    "    print(f\"\\n=== {name} Statistics ===\")\n",
    "    print(\"\\nShape:\", df.shape)\n",
    "    print(\"\\nInfo:\")\n",
    "    df.info()\n",
    "    print(\"\\nSample Data:\")\n",
    "    display(df.head())\n",
    "    if \"price_timestamp\" in df.columns:\n",
    "        start_date = df[\"price_timestamp\"].min()\n",
    "        end_date = df[\"price_timestamp\"].max()\n",
    "        days = (end_date - start_date).days\n",
    "        print(f\"\\nDate Range: {start_date} to {end_date} ({days} days)\")"
   ]
  },
  {
   "cell_type": "code",
   "execution_count": 7,
   "metadata": {},
   "outputs": [
    {
     "name": "stdout",
     "output_type": "stream",
     "text": [
      "Train DataFrame: Start Date = 2024-04-01 04:00:00+00:00, End Date = 2024-10-13 12:00:00+00:00, Number of Days = 195\n",
      "Validation DataFrame: Start Date = 2024-10-13 16:00:00+00:00, End Date = 2024-11-24 08:00:00+00:00, Number of Days = 41\n",
      "Test DataFrame: Start Date = 2024-11-24 12:00:00+00:00, End Date = 2025-01-06 00:00:00+00:00, Number of Days = 42\n"
     ]
    }
   ],
   "source": [
    "# Get start and end dates for train_df\n",
    "train_start_date = train_df[\"price_timestamp\"].min()\n",
    "train_end_date = train_df[\"price_timestamp\"].max()\n",
    "train_days = (train_end_date - train_start_date).days\n",
    "\n",
    "# Get start and end dates for val_df\n",
    "val_start_date = val_df[\"price_timestamp\"].min()\n",
    "val_end_date = val_df[\"price_timestamp\"].max()\n",
    "val_days = (val_end_date - val_start_date).days\n",
    "\n",
    "# Get start and end dates for test_df\n",
    "test_start_date = test_df[\"price_timestamp\"].min()\n",
    "test_end_date = test_df[\"price_timestamp\"].max()\n",
    "test_days = (test_end_date - test_start_date).days\n",
    "\n",
    "print(\n",
    "    f\"Train DataFrame: Start Date = {train_start_date}, End Date = {train_end_date}, Number of Days = {train_days}\"\n",
    ")\n",
    "print(\n",
    "    f\"Validation DataFrame: Start Date = {val_start_date}, End Date = {val_end_date}, Number of Days = {val_days}\"\n",
    ")\n",
    "print(\n",
    "    f\"Test DataFrame: Start Date = {test_start_date}, End Date = {test_end_date}, Number of Days = {test_days}\"\n",
    ")"
   ]
  },
  {
   "cell_type": "markdown",
   "metadata": {},
   "source": [
    "## All prices dataframe"
   ]
  },
  {
   "cell_type": "code",
   "execution_count": 8,
   "metadata": {},
   "outputs": [
    {
     "name": "stdout",
     "output_type": "stream",
     "text": [
      "\n",
      "=== Prices DataFrame Statistics ===\n",
      "\n",
      "Shape: (1703, 3)\n",
      "\n",
      "Info:\n",
      "<class 'pandas.core.frame.DataFrame'>\n",
      "Index: 1703 entries, 5803 to 11214247\n",
      "Data columns (total 3 columns):\n",
      " #   Column           Non-Null Count  Dtype              \n",
      "---  ------           --------------  -----              \n",
      " 0   price_timestamp  1703 non-null   datetime64[ns, UTC]\n",
      " 1   id_instance      1703 non-null   int64              \n",
      " 2   spot_price       1703 non-null   float64            \n",
      "dtypes: datetime64[ns, UTC](1), float64(1), int64(1)\n",
      "memory usage: 53.2 KB\n",
      "\n",
      "Sample Data:\n"
     ]
    },
    {
     "data": {
      "text/html": [
       "<div>\n",
       "<style scoped>\n",
       "    .dataframe tbody tr th:only-of-type {\n",
       "        vertical-align: middle;\n",
       "    }\n",
       "\n",
       "    .dataframe tbody tr th {\n",
       "        vertical-align: top;\n",
       "    }\n",
       "\n",
       "    .dataframe thead th {\n",
       "        text-align: right;\n",
       "    }\n",
       "</style>\n",
       "<table border=\"1\" class=\"dataframe\">\n",
       "  <thead>\n",
       "    <tr style=\"text-align: right;\">\n",
       "      <th></th>\n",
       "      <th>price_timestamp</th>\n",
       "      <th>id_instance</th>\n",
       "      <th>spot_price</th>\n",
       "    </tr>\n",
       "  </thead>\n",
       "  <tbody>\n",
       "    <tr>\n",
       "      <th>5803</th>\n",
       "      <td>2024-04-01 04:00:00+00:00</td>\n",
       "      <td>48207</td>\n",
       "      <td>0.6062</td>\n",
       "    </tr>\n",
       "    <tr>\n",
       "      <th>11704</th>\n",
       "      <td>2024-04-01 08:00:00+00:00</td>\n",
       "      <td>48207</td>\n",
       "      <td>0.6047</td>\n",
       "    </tr>\n",
       "    <tr>\n",
       "      <th>17994</th>\n",
       "      <td>2024-04-01 12:00:00+00:00</td>\n",
       "      <td>48207</td>\n",
       "      <td>0.6061</td>\n",
       "    </tr>\n",
       "    <tr>\n",
       "      <th>24456</th>\n",
       "      <td>2024-04-01 16:00:00+00:00</td>\n",
       "      <td>48207</td>\n",
       "      <td>0.6061</td>\n",
       "    </tr>\n",
       "    <tr>\n",
       "      <th>30833</th>\n",
       "      <td>2024-04-01 20:00:00+00:00</td>\n",
       "      <td>48207</td>\n",
       "      <td>0.6071</td>\n",
       "    </tr>\n",
       "  </tbody>\n",
       "</table>\n",
       "</div>"
      ],
      "text/plain": [
       "                price_timestamp  id_instance  spot_price\n",
       "5803  2024-04-01 04:00:00+00:00        48207      0.6062\n",
       "11704 2024-04-01 08:00:00+00:00        48207      0.6047\n",
       "17994 2024-04-01 12:00:00+00:00        48207      0.6061\n",
       "24456 2024-04-01 16:00:00+00:00        48207      0.6061\n",
       "30833 2024-04-01 20:00:00+00:00        48207      0.6071"
      ]
     },
     "metadata": {},
     "output_type": "display_data"
    },
    {
     "name": "stdout",
     "output_type": "stream",
     "text": [
      "\n",
      "Date Range: 2024-04-01 04:00:00+00:00 to 2025-01-06 00:00:00+00:00 (279 days)\n"
     ]
    }
   ],
   "source": [
    "display_df_stats(prices_df, \"Prices DataFrame\")"
   ]
  },
  {
   "cell_type": "markdown",
   "metadata": {},
   "source": [
    "## Instance info dataframe"
   ]
  },
  {
   "cell_type": "code",
   "execution_count": 9,
   "metadata": {},
   "outputs": [
    {
     "name": "stdout",
     "output_type": "stream",
     "text": [
      "\n",
      "=== Instance Info DataFrame Statistics ===\n",
      "\n",
      "Shape: (6996, 12)\n",
      "\n",
      "Info:\n",
      "<class 'pandas.core.frame.DataFrame'>\n",
      "Index: 6996 entries, 48207 to 57869897\n",
      "Data columns (total 12 columns):\n",
      " #   Column               Non-Null Count  Dtype  \n",
      "---  ------               --------------  -----  \n",
      " 0   region               6996 non-null   object \n",
      " 1   av_zone              6996 non-null   object \n",
      " 2   instance_type        6996 non-null   object \n",
      " 3   instance_family      6996 non-null   object \n",
      " 4   generation           6996 non-null   int64  \n",
      " 5   modifiers            6996 non-null   object \n",
      " 6   size                 6996 non-null   object \n",
      " 7   vcpu                 6996 non-null   int64  \n",
      " 8   memory               6996 non-null   int64  \n",
      " 9   architectures        6996 non-null   object \n",
      " 10  product_description  6996 non-null   object \n",
      " 11  on_demand_price      6984 non-null   float64\n",
      "dtypes: float64(1), int64(3), object(8)\n",
      "memory usage: 710.5+ KB\n",
      "\n",
      "Sample Data:\n"
     ]
    },
    {
     "data": {
      "text/html": [
       "<div>\n",
       "<style scoped>\n",
       "    .dataframe tbody tr th:only-of-type {\n",
       "        vertical-align: middle;\n",
       "    }\n",
       "\n",
       "    .dataframe tbody tr th {\n",
       "        vertical-align: top;\n",
       "    }\n",
       "\n",
       "    .dataframe thead th {\n",
       "        text-align: right;\n",
       "    }\n",
       "</style>\n",
       "<table border=\"1\" class=\"dataframe\">\n",
       "  <thead>\n",
       "    <tr style=\"text-align: right;\">\n",
       "      <th></th>\n",
       "      <th>region</th>\n",
       "      <th>av_zone</th>\n",
       "      <th>instance_type</th>\n",
       "      <th>instance_family</th>\n",
       "      <th>generation</th>\n",
       "      <th>modifiers</th>\n",
       "      <th>size</th>\n",
       "      <th>vcpu</th>\n",
       "      <th>memory</th>\n",
       "      <th>architectures</th>\n",
       "      <th>product_description</th>\n",
       "      <th>on_demand_price</th>\n",
       "    </tr>\n",
       "    <tr>\n",
       "      <th>id_instance</th>\n",
       "      <th></th>\n",
       "      <th></th>\n",
       "      <th></th>\n",
       "      <th></th>\n",
       "      <th></th>\n",
       "      <th></th>\n",
       "      <th></th>\n",
       "      <th></th>\n",
       "      <th></th>\n",
       "      <th></th>\n",
       "      <th></th>\n",
       "      <th></th>\n",
       "    </tr>\n",
       "  </thead>\n",
       "  <tbody>\n",
       "    <tr>\n",
       "      <th>48207</th>\n",
       "      <td>us-east-1</td>\n",
       "      <td>b</td>\n",
       "      <td>c6a.8xlarge</td>\n",
       "      <td>c</td>\n",
       "      <td>6</td>\n",
       "      <td>[a]</td>\n",
       "      <td>8xlarge</td>\n",
       "      <td>32</td>\n",
       "      <td>65536</td>\n",
       "      <td>[x86_64]</td>\n",
       "      <td>Linux/UNIX</td>\n",
       "      <td>1.224</td>\n",
       "    </tr>\n",
       "    <tr>\n",
       "      <th>6910</th>\n",
       "      <td>us-east-1</td>\n",
       "      <td>c</td>\n",
       "      <td>c6a.8xlarge</td>\n",
       "      <td>c</td>\n",
       "      <td>6</td>\n",
       "      <td>[a]</td>\n",
       "      <td>8xlarge</td>\n",
       "      <td>32</td>\n",
       "      <td>65536</td>\n",
       "      <td>[x86_64]</td>\n",
       "      <td>Linux/UNIX</td>\n",
       "      <td>1.224</td>\n",
       "    </tr>\n",
       "    <tr>\n",
       "      <th>32082</th>\n",
       "      <td>us-east-1</td>\n",
       "      <td>f</td>\n",
       "      <td>c6a.8xlarge</td>\n",
       "      <td>c</td>\n",
       "      <td>6</td>\n",
       "      <td>[a]</td>\n",
       "      <td>8xlarge</td>\n",
       "      <td>32</td>\n",
       "      <td>65536</td>\n",
       "      <td>[x86_64]</td>\n",
       "      <td>Linux/UNIX</td>\n",
       "      <td>1.224</td>\n",
       "    </tr>\n",
       "    <tr>\n",
       "      <th>39235</th>\n",
       "      <td>us-east-1</td>\n",
       "      <td>a</td>\n",
       "      <td>c6a.8xlarge</td>\n",
       "      <td>c</td>\n",
       "      <td>6</td>\n",
       "      <td>[a]</td>\n",
       "      <td>8xlarge</td>\n",
       "      <td>32</td>\n",
       "      <td>65536</td>\n",
       "      <td>[x86_64]</td>\n",
       "      <td>Linux/UNIX</td>\n",
       "      <td>1.224</td>\n",
       "    </tr>\n",
       "    <tr>\n",
       "      <th>17992</th>\n",
       "      <td>us-east-1</td>\n",
       "      <td>d</td>\n",
       "      <td>c6a.8xlarge</td>\n",
       "      <td>c</td>\n",
       "      <td>6</td>\n",
       "      <td>[a]</td>\n",
       "      <td>8xlarge</td>\n",
       "      <td>32</td>\n",
       "      <td>65536</td>\n",
       "      <td>[x86_64]</td>\n",
       "      <td>Linux/UNIX</td>\n",
       "      <td>1.224</td>\n",
       "    </tr>\n",
       "  </tbody>\n",
       "</table>\n",
       "</div>"
      ],
      "text/plain": [
       "                region av_zone instance_type instance_family  generation  \\\n",
       "id_instance                                                                \n",
       "48207        us-east-1       b   c6a.8xlarge               c           6   \n",
       "6910         us-east-1       c   c6a.8xlarge               c           6   \n",
       "32082        us-east-1       f   c6a.8xlarge               c           6   \n",
       "39235        us-east-1       a   c6a.8xlarge               c           6   \n",
       "17992        us-east-1       d   c6a.8xlarge               c           6   \n",
       "\n",
       "            modifiers     size  vcpu  memory architectures  \\\n",
       "id_instance                                                  \n",
       "48207             [a]  8xlarge    32   65536      [x86_64]   \n",
       "6910              [a]  8xlarge    32   65536      [x86_64]   \n",
       "32082             [a]  8xlarge    32   65536      [x86_64]   \n",
       "39235             [a]  8xlarge    32   65536      [x86_64]   \n",
       "17992             [a]  8xlarge    32   65536      [x86_64]   \n",
       "\n",
       "            product_description  on_demand_price  \n",
       "id_instance                                       \n",
       "48207                Linux/UNIX            1.224  \n",
       "6910                 Linux/UNIX            1.224  \n",
       "32082                Linux/UNIX            1.224  \n",
       "39235                Linux/UNIX            1.224  \n",
       "17992                Linux/UNIX            1.224  "
      ]
     },
     "metadata": {},
     "output_type": "display_data"
    }
   ],
   "source": [
    "display_df_stats(instance_info_df, \"Instance Info DataFrame\")"
   ]
  },
  {
   "cell_type": "markdown",
   "metadata": {},
   "source": [
    "## Training dataframe"
   ]
  },
  {
   "cell_type": "code",
   "execution_count": 10,
   "metadata": {},
   "outputs": [
    {
     "name": "stdout",
     "output_type": "stream",
     "text": [
      "\n",
      "=== Training Set Statistics ===\n",
      "\n",
      "Shape: (1192, 3)\n",
      "\n",
      "Info:\n",
      "<class 'pandas.core.frame.DataFrame'>\n",
      "Index: 1192 entries, 5803 to 7732296\n",
      "Data columns (total 3 columns):\n",
      " #   Column           Non-Null Count  Dtype              \n",
      "---  ------           --------------  -----              \n",
      " 0   price_timestamp  1192 non-null   datetime64[ns, UTC]\n",
      " 1   id_instance      1192 non-null   int64              \n",
      " 2   spot_price       1192 non-null   float64            \n",
      "dtypes: datetime64[ns, UTC](1), float64(1), int64(1)\n",
      "memory usage: 37.2 KB\n",
      "\n",
      "Sample Data:\n"
     ]
    },
    {
     "data": {
      "text/html": [
       "<div>\n",
       "<style scoped>\n",
       "    .dataframe tbody tr th:only-of-type {\n",
       "        vertical-align: middle;\n",
       "    }\n",
       "\n",
       "    .dataframe tbody tr th {\n",
       "        vertical-align: top;\n",
       "    }\n",
       "\n",
       "    .dataframe thead th {\n",
       "        text-align: right;\n",
       "    }\n",
       "</style>\n",
       "<table border=\"1\" class=\"dataframe\">\n",
       "  <thead>\n",
       "    <tr style=\"text-align: right;\">\n",
       "      <th></th>\n",
       "      <th>price_timestamp</th>\n",
       "      <th>id_instance</th>\n",
       "      <th>spot_price</th>\n",
       "    </tr>\n",
       "  </thead>\n",
       "  <tbody>\n",
       "    <tr>\n",
       "      <th>5803</th>\n",
       "      <td>2024-04-01 04:00:00+00:00</td>\n",
       "      <td>48207</td>\n",
       "      <td>0.6062</td>\n",
       "    </tr>\n",
       "    <tr>\n",
       "      <th>11704</th>\n",
       "      <td>2024-04-01 08:00:00+00:00</td>\n",
       "      <td>48207</td>\n",
       "      <td>0.6047</td>\n",
       "    </tr>\n",
       "    <tr>\n",
       "      <th>17994</th>\n",
       "      <td>2024-04-01 12:00:00+00:00</td>\n",
       "      <td>48207</td>\n",
       "      <td>0.6061</td>\n",
       "    </tr>\n",
       "    <tr>\n",
       "      <th>24456</th>\n",
       "      <td>2024-04-01 16:00:00+00:00</td>\n",
       "      <td>48207</td>\n",
       "      <td>0.6061</td>\n",
       "    </tr>\n",
       "    <tr>\n",
       "      <th>30833</th>\n",
       "      <td>2024-04-01 20:00:00+00:00</td>\n",
       "      <td>48207</td>\n",
       "      <td>0.6071</td>\n",
       "    </tr>\n",
       "  </tbody>\n",
       "</table>\n",
       "</div>"
      ],
      "text/plain": [
       "                price_timestamp  id_instance  spot_price\n",
       "5803  2024-04-01 04:00:00+00:00        48207      0.6062\n",
       "11704 2024-04-01 08:00:00+00:00        48207      0.6047\n",
       "17994 2024-04-01 12:00:00+00:00        48207      0.6061\n",
       "24456 2024-04-01 16:00:00+00:00        48207      0.6061\n",
       "30833 2024-04-01 20:00:00+00:00        48207      0.6071"
      ]
     },
     "metadata": {},
     "output_type": "display_data"
    },
    {
     "name": "stdout",
     "output_type": "stream",
     "text": [
      "\n",
      "Date Range: 2024-04-01 04:00:00+00:00 to 2024-10-13 12:00:00+00:00 (195 days)\n"
     ]
    }
   ],
   "source": [
    "display_df_stats(train_df, \"Training Set\")"
   ]
  },
  {
   "cell_type": "markdown",
   "metadata": {},
   "source": [
    "## Validation dataframe"
   ]
  },
  {
   "cell_type": "code",
   "execution_count": 11,
   "metadata": {},
   "outputs": [
    {
     "name": "stdout",
     "output_type": "stream",
     "text": [
      "\n",
      "=== Validation Set Statistics ===\n",
      "\n",
      "Shape: (255, 3)\n",
      "\n",
      "Info:\n",
      "<class 'pandas.core.frame.DataFrame'>\n",
      "Index: 255 entries, 7739127 to 9439407\n",
      "Data columns (total 3 columns):\n",
      " #   Column           Non-Null Count  Dtype              \n",
      "---  ------           --------------  -----              \n",
      " 0   price_timestamp  255 non-null    datetime64[ns, UTC]\n",
      " 1   id_instance      255 non-null    int64              \n",
      " 2   spot_price       255 non-null    float64            \n",
      "dtypes: datetime64[ns, UTC](1), float64(1), int64(1)\n",
      "memory usage: 8.0 KB\n",
      "\n",
      "Sample Data:\n"
     ]
    },
    {
     "data": {
      "text/html": [
       "<div>\n",
       "<style scoped>\n",
       "    .dataframe tbody tr th:only-of-type {\n",
       "        vertical-align: middle;\n",
       "    }\n",
       "\n",
       "    .dataframe tbody tr th {\n",
       "        vertical-align: top;\n",
       "    }\n",
       "\n",
       "    .dataframe thead th {\n",
       "        text-align: right;\n",
       "    }\n",
       "</style>\n",
       "<table border=\"1\" class=\"dataframe\">\n",
       "  <thead>\n",
       "    <tr style=\"text-align: right;\">\n",
       "      <th></th>\n",
       "      <th>price_timestamp</th>\n",
       "      <th>id_instance</th>\n",
       "      <th>spot_price</th>\n",
       "    </tr>\n",
       "  </thead>\n",
       "  <tbody>\n",
       "    <tr>\n",
       "      <th>7739127</th>\n",
       "      <td>2024-10-13 16:00:00+00:00</td>\n",
       "      <td>48207</td>\n",
       "      <td>0.4420</td>\n",
       "    </tr>\n",
       "    <tr>\n",
       "      <th>7745938</th>\n",
       "      <td>2024-10-13 20:00:00+00:00</td>\n",
       "      <td>48207</td>\n",
       "      <td>0.4420</td>\n",
       "    </tr>\n",
       "    <tr>\n",
       "      <th>7752748</th>\n",
       "      <td>2024-10-14 00:00:00+00:00</td>\n",
       "      <td>48207</td>\n",
       "      <td>0.4411</td>\n",
       "    </tr>\n",
       "    <tr>\n",
       "      <th>7759544</th>\n",
       "      <td>2024-10-14 04:00:00+00:00</td>\n",
       "      <td>48207</td>\n",
       "      <td>0.4374</td>\n",
       "    </tr>\n",
       "    <tr>\n",
       "      <th>7766339</th>\n",
       "      <td>2024-10-14 08:00:00+00:00</td>\n",
       "      <td>48207</td>\n",
       "      <td>0.4374</td>\n",
       "    </tr>\n",
       "  </tbody>\n",
       "</table>\n",
       "</div>"
      ],
      "text/plain": [
       "                  price_timestamp  id_instance  spot_price\n",
       "7739127 2024-10-13 16:00:00+00:00        48207      0.4420\n",
       "7745938 2024-10-13 20:00:00+00:00        48207      0.4420\n",
       "7752748 2024-10-14 00:00:00+00:00        48207      0.4411\n",
       "7759544 2024-10-14 04:00:00+00:00        48207      0.4374\n",
       "7766339 2024-10-14 08:00:00+00:00        48207      0.4374"
      ]
     },
     "metadata": {},
     "output_type": "display_data"
    },
    {
     "name": "stdout",
     "output_type": "stream",
     "text": [
      "\n",
      "Date Range: 2024-10-13 16:00:00+00:00 to 2024-11-24 08:00:00+00:00 (41 days)\n"
     ]
    }
   ],
   "source": [
    "display_df_stats(val_df, \"Validation Set\")"
   ]
  },
  {
   "cell_type": "markdown",
   "metadata": {},
   "source": [
    "## Test dataframe"
   ]
  },
  {
   "cell_type": "code",
   "execution_count": 12,
   "metadata": {},
   "outputs": [
    {
     "name": "stdout",
     "output_type": "stream",
     "text": [
      "\n",
      "=== Test Set Statistics ===\n",
      "\n",
      "Shape: (256, 3)\n",
      "\n",
      "Info:\n",
      "<class 'pandas.core.frame.DataFrame'>\n",
      "Index: 256 entries, 9446263 to 11214247\n",
      "Data columns (total 3 columns):\n",
      " #   Column           Non-Null Count  Dtype              \n",
      "---  ------           --------------  -----              \n",
      " 0   price_timestamp  256 non-null    datetime64[ns, UTC]\n",
      " 1   id_instance      256 non-null    int64              \n",
      " 2   spot_price       256 non-null    float64            \n",
      "dtypes: datetime64[ns, UTC](1), float64(1), int64(1)\n",
      "memory usage: 8.0 KB\n",
      "\n",
      "Sample Data:\n"
     ]
    },
    {
     "data": {
      "text/html": [
       "<div>\n",
       "<style scoped>\n",
       "    .dataframe tbody tr th:only-of-type {\n",
       "        vertical-align: middle;\n",
       "    }\n",
       "\n",
       "    .dataframe tbody tr th {\n",
       "        vertical-align: top;\n",
       "    }\n",
       "\n",
       "    .dataframe thead th {\n",
       "        text-align: right;\n",
       "    }\n",
       "</style>\n",
       "<table border=\"1\" class=\"dataframe\">\n",
       "  <thead>\n",
       "    <tr style=\"text-align: right;\">\n",
       "      <th></th>\n",
       "      <th>price_timestamp</th>\n",
       "      <th>id_instance</th>\n",
       "      <th>spot_price</th>\n",
       "    </tr>\n",
       "  </thead>\n",
       "  <tbody>\n",
       "    <tr>\n",
       "      <th>9446263</th>\n",
       "      <td>2024-11-24 12:00:00+00:00</td>\n",
       "      <td>48207</td>\n",
       "      <td>0.4679</td>\n",
       "    </tr>\n",
       "    <tr>\n",
       "      <th>9453196</th>\n",
       "      <td>2024-11-24 16:00:00+00:00</td>\n",
       "      <td>48207</td>\n",
       "      <td>0.4664</td>\n",
       "    </tr>\n",
       "    <tr>\n",
       "      <th>9460118</th>\n",
       "      <td>2024-11-24 20:00:00+00:00</td>\n",
       "      <td>48207</td>\n",
       "      <td>0.4664</td>\n",
       "    </tr>\n",
       "    <tr>\n",
       "      <th>9467055</th>\n",
       "      <td>2024-11-25 00:00:00+00:00</td>\n",
       "      <td>48207</td>\n",
       "      <td>0.4587</td>\n",
       "    </tr>\n",
       "    <tr>\n",
       "      <th>9473891</th>\n",
       "      <td>2024-11-25 04:00:00+00:00</td>\n",
       "      <td>48207</td>\n",
       "      <td>0.4587</td>\n",
       "    </tr>\n",
       "  </tbody>\n",
       "</table>\n",
       "</div>"
      ],
      "text/plain": [
       "                  price_timestamp  id_instance  spot_price\n",
       "9446263 2024-11-24 12:00:00+00:00        48207      0.4679\n",
       "9453196 2024-11-24 16:00:00+00:00        48207      0.4664\n",
       "9460118 2024-11-24 20:00:00+00:00        48207      0.4664\n",
       "9467055 2024-11-25 00:00:00+00:00        48207      0.4587\n",
       "9473891 2024-11-25 04:00:00+00:00        48207      0.4587"
      ]
     },
     "metadata": {},
     "output_type": "display_data"
    },
    {
     "name": "stdout",
     "output_type": "stream",
     "text": [
      "\n",
      "Date Range: 2024-11-24 12:00:00+00:00 to 2025-01-06 00:00:00+00:00 (42 days)\n"
     ]
    }
   ],
   "source": [
    "display_df_stats(test_df, \"Test Set\")"
   ]
  }
 ],
 "metadata": {
  "kernelspec": {
   "display_name": "base",
   "language": "python",
   "name": "python3"
  },
  "language_info": {
   "codemirror_mode": {
    "name": "ipython",
    "version": 3
   },
   "file_extension": ".py",
   "mimetype": "text/x-python",
   "name": "python",
   "nbconvert_exporter": "python",
   "pygments_lexer": "ipython3",
   "version": "3.10.8"
  }
 },
 "nbformat": 4,
 "nbformat_minor": 2
}
