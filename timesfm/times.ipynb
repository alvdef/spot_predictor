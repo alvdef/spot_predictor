{
 "cells": [
  {
   "cell_type": "code",
   "execution_count": 32,
   "metadata": {},
   "outputs": [],
   "source": [
    "import numpy as np\n",
    "import pandas as pd\n",
    "from glob import glob\n"
   ]
  },
  {
   "cell_type": "code",
   "execution_count": 33,
   "metadata": {},
   "outputs": [],
   "source": [
    "def load_config(config_path) -> dict:\n",
    "    import yaml\n",
    "    \n",
    "    with open(config_path, \"r\") as config_file:\n",
    "        return yaml.safe_load(config_file)\n",
    "\n",
    "\n",
    "CONFIG = load_config(\"config.yaml\")\n",
    "for key in [\n",
    "    \"start_date\",\n",
    "    \"end_date\",\n",
    "]:\n",
    "    CONFIG[key] = pd.to_datetime(CONFIG[key]).tz_localize(\"UTC\")"
   ]
  },
  {
   "cell_type": "code",
   "execution_count": 42,
   "metadata": {},
   "outputs": [],
   "source": [
    "def plot_series(time, series, format=\"-\", start=0, end=None):\n",
    "    import matplotlib.pyplot as plt\n",
    "    import seaborn as sns\n",
    "    \n",
    "    plt.figure(figsize=(15, 6))\n",
    "    if type(series) is tuple:\n",
    "        for i in range(len(series)):\n",
    "            sns.lineplot(x=time[i][start:end], y=series[i][start:end])\n",
    "    else:\n",
    "        sns.lineplot(x=time[start:end], y=series[start:end])\n",
    "\n",
    "    # plt.grid(True)\n",
    "    plt.title('Spot Prices')\n",
    "    plt.xlabel('Date')\n",
    "    plt.ylabel('Value')\n"
   ]
  },
  {
   "cell_type": "code",
   "execution_count": 35,
   "metadata": {},
   "outputs": [],
   "source": [
    "def generate_complete_time_df(id_instances: np.ndarray):\n",
    "    complete_time_range = pd.date_range(\n",
    "        start=CONFIG[\"start_date\"],\n",
    "        end=CONFIG[\"end_date\"],\n",
    "        freq=f\"{CONFIG['timestep_hours']}h\",\n",
    "    )\n",
    "    complete_time_df = pd.DataFrame({CONFIG[\"time_col\"]: complete_time_range})\n",
    "    complete_time_df = (\n",
    "        complete_time_df.assign(key=1)\n",
    "        .merge(pd.DataFrame({\"id_instance\": id_instances, \"key\": 1}), on=\"key\")\n",
    "        .drop(\"key\", axis=1)\n",
    "    )\n",
    "    return complete_time_df\n",
    "\n",
    "\n",
    "def read_prices_files(region: str):\n",
    "    from glob import glob\n",
    "    \n",
    "    prices_files = glob(f\"{CONFIG['data_folder']}/prices_{region}_*.csv\")\n",
    "    prices_df_list = []\n",
    "    for file in prices_files:\n",
    "        df = pd.read_csv(file)\n",
    "        if df.empty and df.isna().all().all():\n",
    "            continue\n",
    "\n",
    "        prices_df_list.append(df)\n",
    "\n",
    "    prices_df = pd.concat(prices_df_list, ignore_index=True)\n",
    "    prices_df[CONFIG[\"time_col\"]] = pd.to_datetime(\n",
    "        prices_df[CONFIG[\"time_col\"]], utc=True\n",
    "    )\n",
    "    prices_df = prices_df[\n",
    "        (prices_df[CONFIG[\"time_col\"]] >= CONFIG[\"start_date\"])\n",
    "        & (prices_df[CONFIG[\"time_col\"]] <= CONFIG[\"end_date\"])\n",
    "    ]\n",
    "    return prices_df\n",
    "\n",
    "\n",
    "def merge_prices_with_time(prices_df: pd.DataFrame, complete_time_df: pd.DataFrame):\n",
    "    prices_df[CONFIG[\"time_col\"]] = prices_df[CONFIG[\"time_col\"]].dt.floor(\n",
    "        f\"{CONFIG['timestep_hours']}h\"\n",
    "    )\n",
    "\n",
    "    complete_time_df[CONFIG[\"time_col\"]] = pd.to_datetime(\n",
    "        complete_time_df[CONFIG[\"time_col\"]], utc=True\n",
    "    )\n",
    "\n",
    "    prices_df = pd.merge(\n",
    "        complete_time_df,\n",
    "        prices_df,\n",
    "        on=[CONFIG[\"time_col\"], \"id_instance\"],\n",
    "        how=\"left\",\n",
    "    )\n",
    "    prices_df[CONFIG[\"target_col\"]] = prices_df.groupby(\"id_instance\")[\n",
    "        CONFIG[\"target_col\"]\n",
    "    ].ffill()\n",
    "    prices_df = prices_df.dropna(subset=[CONFIG[\"target_col\"]])\n",
    "    return prices_df\n"
   ]
  },
  {
   "cell_type": "code",
   "execution_count": 36,
   "metadata": {},
   "outputs": [],
   "source": [
    "prices_df = read_prices_files('eu-central-1')\n",
    "\n",
    "id_instances = prices_df[\"id_instance\"].unique()\n",
    "complete_time_df = generate_complete_time_df(id_instances)\n",
    "\n",
    "prices_df = merge_prices_with_time(prices_df, complete_time_df)"
   ]
  },
  {
   "cell_type": "code",
   "execution_count": 37,
   "metadata": {},
   "outputs": [
    {
     "data": {
      "text/html": [
       "<div>\n",
       "<style scoped>\n",
       "    .dataframe tbody tr th:only-of-type {\n",
       "        vertical-align: middle;\n",
       "    }\n",
       "\n",
       "    .dataframe tbody tr th {\n",
       "        vertical-align: top;\n",
       "    }\n",
       "\n",
       "    .dataframe thead th {\n",
       "        text-align: right;\n",
       "    }\n",
       "</style>\n",
       "<table border=\"1\" class=\"dataframe\">\n",
       "  <thead>\n",
       "    <tr style=\"text-align: right;\">\n",
       "      <th></th>\n",
       "      <th>price_timestamp</th>\n",
       "      <th>id_instance</th>\n",
       "      <th>spot_price</th>\n",
       "    </tr>\n",
       "  </thead>\n",
       "  <tbody>\n",
       "    <tr>\n",
       "      <th>2</th>\n",
       "      <td>2023-10-01 00:00:00+00:00</td>\n",
       "      <td>14500</td>\n",
       "      <td>0.2448</td>\n",
       "    </tr>\n",
       "    <tr>\n",
       "      <th>6</th>\n",
       "      <td>2023-10-01 00:00:00+00:00</td>\n",
       "      <td>25861</td>\n",
       "      <td>1.6511</td>\n",
       "    </tr>\n",
       "    <tr>\n",
       "      <th>10</th>\n",
       "      <td>2023-10-01 00:00:00+00:00</td>\n",
       "      <td>47182</td>\n",
       "      <td>0.3681</td>\n",
       "    </tr>\n",
       "    <tr>\n",
       "      <th>11</th>\n",
       "      <td>2023-10-01 00:00:00+00:00</td>\n",
       "      <td>11504</td>\n",
       "      <td>1.2817</td>\n",
       "    </tr>\n",
       "    <tr>\n",
       "      <th>18</th>\n",
       "      <td>2023-10-01 00:00:00+00:00</td>\n",
       "      <td>11923</td>\n",
       "      <td>12.5064</td>\n",
       "    </tr>\n",
       "  </tbody>\n",
       "</table>\n",
       "</div>"
      ],
      "text/plain": [
       "             price_timestamp  id_instance  spot_price\n",
       "2  2023-10-01 00:00:00+00:00        14500      0.2448\n",
       "6  2023-10-01 00:00:00+00:00        25861      1.6511\n",
       "10 2023-10-01 00:00:00+00:00        47182      0.3681\n",
       "11 2023-10-01 00:00:00+00:00        11504      1.2817\n",
       "18 2023-10-01 00:00:00+00:00        11923     12.5064"
      ]
     },
     "execution_count": 37,
     "metadata": {},
     "output_type": "execute_result"
    }
   ],
   "source": [
    "prices_df.head()"
   ]
  },
  {
   "cell_type": "code",
   "execution_count": 48,
   "metadata": {},
   "outputs": [
    {
     "data": {
      "image/png": "[encoded data removed]",
      "text/plain": [
       "<Figure size 1500x600 with 1 Axes>"
      ]
     },
     "metadata": {},
     "output_type": "display_data"
    }
   ],
   "source": [
    "sampled_id_instances = np.random.choice(prices_df[\"id_instance\"].unique(), size=1, replace=False)\n",
    "random_prices_df = prices_df[prices_df[\"id_instance\"].isin(sampled_id_instances)]\n",
    "\n",
    "time = tuple(random_prices_df.groupby(\"id_instance\")[CONFIG[\"time_col\"]].apply(list))\n",
    "series = tuple(random_prices_df.groupby(\"id_instance\")[CONFIG[\"target_col\"]].apply(list))\n",
    "\n",
    "plot_series(time, series)"
   ]
  },
  {
   "cell_type": "code",
   "execution_count": 47,
   "metadata": {},
   "outputs": [
    {
     "name": "stdout",
     "output_type": "stream",
     "text": [
      "(8756645, 3) (558935, 3)\n"
     ]
    }
   ],
   "source": [
    "# Spliting into 94% and 6%\n",
    "split_idx = int(len(random_prices_df) * 0.94)\n",
    "\n",
    "# random_prices_df = random_prices_df.drop(\"id_instance\")\n",
    "# Split the dataframe into train and test sets\n",
    "train_df = random_prices_df[:split_idx]\n",
    "test_df = random_prices_df[split_idx:]\n",
    "print(train_df.shape, test_df.shape)"
   ]
  },
  {
   "cell_type": "code",
   "execution_count": null,
   "metadata": {},
   "outputs": [],
   "source": [
    "import timesfm\n",
    "\n",
    "# For Torch\n",
    "tfm = timesfm.TimesFm(\n",
    "    hparams=timesfm.TimesFmHparams(\n",
    "        backend=\"gpu\",\n",
    "        per_core_batch_size=32,\n",
    "        horizon_len=128,\n",
    "        num_layers=20,\n",
    "        use_positional_embedding=False,\n",
    "        context_len=2048,\n",
    "    ),\n",
    "    checkpoint=timesfm.TimesFmCheckpoint(\n",
    "        huggingface_repo_id=\"google/timesfm-2.0-500m-pytorch\"\n",
    "    ),\n",
    ")"
   ]
  },
  {
   "cell_type": "code",
   "execution_count": null,
   "metadata": {},
   "outputs": [],
   "source": [
    "forecast_df = tfm.forecast_on_df(\n",
    "    train_df,\n",
    "    freq=\"4H\",\n",
    "    value_name=CONFIG[\"target_col\"],    \n",
    ")"
   ]
  },
  {
   "cell_type": "code",
   "execution_count": null,
   "metadata": {},
   "outputs": [],
   "source": [
    "forecast_df.head()"
   ]
  },
  {
   "cell_type": "code",
   "execution_count": null,
   "metadata": {},
   "outputs": [],
   "source": [
    "test_df.head()"
   ]
  },
  {
   "cell_type": "code",
   "execution_count": null,
   "metadata": {},
   "outputs": [],
   "source": [
    "import numpy as np\n",
    "actuals = test_df['spot_price']\n",
    "predicted_values = forecast_df['timesfm']\n",
    "# Convert to numpy arrays\n",
    "actual_values = np.array(actuals)\n",
    "predicted_values = np.array(predicted_values)\n",
    "# Calculate error metrics\n",
    "MAE = np.mean(np.abs(actual_values - predicted_values))  # Mean Absolute Error\n",
    "MSE = np.mean((actual_values - predicted_values)**2)     # Mean Squared Error\n",
    "RMSE = np.sqrt(np.mean((actual_values - predicted_values)**2))  # Root Mean Squared Error\n",
    "# Print the error metrics\n",
    "print(f\"Mean Absolute Error (MAE): {MAE}\")\n",
    "print(f\"Mean Squared Error (MSE): {MSE}\")\n",
    "print(f\"Root Mean Squared Error (RMSE): {RMSE}\")"
   ]
  },
  {
   "cell_type": "code",
   "execution_count": null,
   "metadata": {},
   "outputs": [],
   "source": [
    "# Let's Visualise the Data\n",
    "import matplotlib.pyplot as plt\n",
    "import seaborn as sns\n",
    "import warnings\n",
    "warnings.filterwarnings('ignore')  # Setting the warnings to be ignored\n",
    "# Set the style for seaborn\n",
    "sns.set(style=\"darkgrid\")\n",
    "# Plot size\n",
    "plt.figure(figsize=(15, 6))\n",
    "# Plot actual timeseries data\n",
    "sns.lineplot(x=\"ds\", y='timesfm', data=forecast_df, color='red', label='Forecast')\n",
    "# Plot forecasted values\n",
    "sns.lineplot(x=\"DATE\", y='Value', data=random_prices_df, color='green', label='Actual Time Series')\n",
    "# Set plot title and labels\n",
    "plt.title('Electric Production: Actual vs Forecast')\n",
    "plt.xlabel('Date')\n",
    "plt.ylabel('Value')\n",
    "# Show the legend\n",
    "plt.legend()\n",
    "# Display the plot\n",
    "plt.show()"
   ]
  }
 ],
 "metadata": {
  "kernelspec": {
   "display_name": "base",
   "language": "python",
   "name": "python3"
  },
  "language_info": {
   "codemirror_mode": {
    "name": "ipython",
    "version": 3
   },
   "file_extension": ".py",
   "mimetype": "text/x-python",
   "name": "python",
   "nbconvert_exporter": "python",
   "pygments_lexer": "ipython3",
   "version": "3.10.8"
  }
 },
 "nbformat": 4,
 "nbformat_minor": 2
}
